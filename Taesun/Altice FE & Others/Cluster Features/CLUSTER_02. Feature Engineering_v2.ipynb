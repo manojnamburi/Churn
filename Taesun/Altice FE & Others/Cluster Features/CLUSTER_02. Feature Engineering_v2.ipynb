{
 "cells": [
  {
   "cell_type": "markdown",
   "metadata": {},
   "source": [
    "# Feature Engineering TRAIN/TEST Datasets"
   ]
  },
  {
   "cell_type": "markdown",
   "metadata": {},
   "source": [
    "## 1. TRAIN/TEST Datasets"
   ]
  },
  {
   "cell_type": "code",
   "execution_count": 1,
   "metadata": {},
   "outputs": [
    {
     "name": "stdout",
     "output_type": "stream",
     "text": [
      "CPU times: user 1.39 s, sys: 1.35 s, total: 2.74 s\n",
      "Wall time: 18.5 s\n"
     ]
    }
   ],
   "source": [
    "%%time\n",
    "\n",
    "### 0. Import Required Packages\n",
    "import pandas as pd\n",
    "import numpy as np\n",
    "import pickle\n",
    "import matplotlib.pyplot as plt\n",
    "import seaborn as sns\n",
    "import datetime as dt\n",
    "%matplotlib inline\n",
    "\n",
    "from sklearn.pipeline import Pipeline, make_pipeline, FeatureUnion\n",
    "from sklearn.compose import ColumnTransformer\n",
    "\n",
    "### Import Customer Transformers\n",
    "# Include 'competitive_area' as a feature\n",
    "import CLUSTER_FeatureEngineering as FE\n",
    "\n",
    "# Use the Updated Attribute/Imputation Dictionaries!!!\n",
    "%run 'data_new/attribute_dictionary.py'\n",
    "%run 'data_new/imputation_dictionary.py'\n",
    "\n",
    "# Remove DataConversionWarning\n",
    "import warnings\n",
    "warnings.simplefilter('ignore')"
   ]
  },
  {
   "cell_type": "markdown",
   "metadata": {},
   "source": [
    "### TRAIN"
   ]
  },
  {
   "cell_type": "code",
   "execution_count": 2,
   "metadata": {},
   "outputs": [
    {
     "name": "stdout",
     "output_type": "stream",
     "text": [
      "(1662348, 1023)\n",
      "Index(['780100000203', '780100001104', '780100001202', '780100001501',\n",
      "       '780100001901', '780100002401', '780100002602', '780100003005',\n",
      "       '780100003703', '780100004301',\n",
      "       ...\n",
      "       '788365916901', '788365917501', '788365922901', '788365923301',\n",
      "       '788365923501', '788365924201', '788365924501', '788365932001',\n",
      "       '788365935101', '788365935401'],\n",
      "      dtype='object', name='chc_id', length=1662348)\n",
      "CPU times: user 2min 31s, sys: 1min 29s, total: 4min 1s\n",
      "Wall time: 5min 59s\n"
     ]
    }
   ],
   "source": [
    "%%time\n",
    "\n",
    "df_train_Fios    = pd.read_pickle('data_new/CLUSTER_df_train_Fios_PP.pkl')\n",
    "df_train_FiosONT = pd.read_pickle('data_new/CLUSTER_df_train_FiosONT_PP.pkl')\n",
    "df_train_PreFios = pd.read_pickle('data_new/CLUSTER_df_train_PreFios_PP.pkl')\n",
    "df_train_Non     = pd.read_pickle('data_new/CLUSTER_df_train_Non_PP.pkl')\n",
    "df_train_Uverse  = pd.read_pickle('data_new/CLUSTER_df_train_Uverse_PP.pkl')\n",
    "\n",
    "df_train         = pd.concat([df_train_Fios, df_train_FiosONT, df_train_PreFios, \n",
    "                              df_train_Non, df_train_Uverse], axis=0)\n",
    "df_train.sort_index(inplace=True)\n",
    "del df_train_Fios, df_train_FiosONT, df_train_PreFios, df_train_Non, df_train_Uverse\n",
    "\n",
    "print(df_train.shape)\n",
    "print(df_train.index)"
   ]
  },
  {
   "cell_type": "markdown",
   "metadata": {},
   "source": [
    "### Test"
   ]
  },
  {
   "cell_type": "code",
   "execution_count": 3,
   "metadata": {},
   "outputs": [
    {
     "name": "stdout",
     "output_type": "stream",
     "text": [
      "(1656204, 1023)\n",
      "Index(['780100000203', '780100001104', '780100001202', '780100001501',\n",
      "       '780100001901', '780100002401', '780100002602', '780100003005',\n",
      "       '780100003703', '780100004301',\n",
      "       ...\n",
      "       '788365979801', '788365980001', '788365980101', '788365981201',\n",
      "       '788365981601', '788365982401', '788365983001', '788365983201',\n",
      "       '788365985701', '788365985801'],\n",
      "      dtype='object', name='chc_id', length=1656204)\n",
      "CPU times: user 2min 34s, sys: 1min 12s, total: 3min 46s\n",
      "Wall time: 5min 32s\n"
     ]
    }
   ],
   "source": [
    "%%time\n",
    "\n",
    "df_test_Fios    = pd.read_pickle('data_new/CLUSTER_df_test_Fios_PP.pkl')\n",
    "df_test_FiosONT = pd.read_pickle('data_new/CLUSTER_df_test_FiosONT_PP.pkl')\n",
    "df_test_PreFios = pd.read_pickle('data_new/CLUSTER_df_test_PreFios_PP.pkl')\n",
    "df_test_Non     = pd.read_pickle('data_new/CLUSTER_df_test_Non_PP.pkl')\n",
    "df_test_Uverse  = pd.read_pickle('data_new/CLUSTER_df_test_Uverse_PP.pkl')\n",
    "\n",
    "df_test         = pd.concat([df_test_Fios, df_test_FiosONT, df_test_PreFios, \n",
    "                              df_test_Non, df_test_Uverse], axis=0)\n",
    "df_test.sort_index(inplace=True)\n",
    "del df_test_Fios, df_test_FiosONT, df_test_PreFios, df_test_Non, df_test_Uverse\n",
    "\n",
    "print(df_test.shape)\n",
    "print(df_test.index)"
   ]
  },
  {
   "cell_type": "markdown",
   "metadata": {},
   "source": [
    "### TRAIN/TEST"
   ]
  },
  {
   "cell_type": "code",
   "execution_count": 4,
   "metadata": {},
   "outputs": [
    {
     "name": "stdout",
     "output_type": "stream",
     "text": [
      "**************************************************\n",
      "TRAIN vs TEST Datasets\n",
      "**************************************************\n",
      "The Shape of TRAIN Data: (1662348, 1023)\n",
      "The Shape of TEST Data:  (1656204, 1023)\n",
      "\n",
      "**************************************************\n",
      "Overall Churn Rate\n",
      "**************************************************\n",
      "TRAIN:  0.0154\n",
      "TEST:   0.0153 \n",
      "\n"
     ]
    }
   ],
   "source": [
    "# TRAIN\n",
    "train_X = df_train.drop('status', axis=1).copy()\n",
    "train_y = df_train['status']\n",
    "\n",
    "# TEST\n",
    "test_X  = df_test.drop('status', axis=1).copy()\n",
    "test_y  = df_test['status']\n",
    "\n",
    "# Sample Size\n",
    "print('*'*50 + '\\nTRAIN vs TEST Datasets\\n' + '*'*50)\n",
    "# print('Competitive Area: ', df_train.competitive_area.unique())\n",
    "print('The Shape of TRAIN Data: ' + str(df_train.shape))\n",
    "print('The Shape of TEST Data:  ' + str(df_test.shape))\n",
    "\n",
    "## Churn Rate by Sample Type\n",
    "print('\\n' + '*'*50 + '\\nOverall Churn Rate\\n' + '*'*50)\n",
    "print('TRAIN: ', df_train.status.value_counts(normalize=True)[1].round(4))\n",
    "print('TEST:  ', df_test.status.value_counts(normalize=True)[1].round(4), '\\n')\n",
    "\n",
    "del df_train, df_test"
   ]
  },
  {
   "cell_type": "code",
   "execution_count": 5,
   "metadata": {},
   "outputs": [
    {
     "name": "stdout",
     "output_type": "stream",
     "text": [
      "\n",
      "**************************************************\n",
      "Before vs After Transformation\n",
      "**************************************************\n",
      "TRAIN: Before Transformation:(1662348, 1022)\n",
      "TRAIN: After Transformation: (1662348, 16)\n",
      "TEST:  After Transformation: (1656204, 16)\n",
      "\n",
      "**************************************************\n",
      "Newly Created Features\n",
      "**************************************************\n",
      " ['grp_tenure_3m', 'grp_tenure_1m', 'grp_tenure_6m', 'grp_payment_method', 'grp_payment_25dollar', 'grp_payment_10dollar', 'grp_payment_change_5dollar', 'grp_payment_change_10dollar', 'grp_payment_change_2pct', 'grp_payment_change_5pct', 'ratio_payment_income', 'grp_payment_income', 'grp_call_csc', 'grp_call_bill', 'grp_call_csr', 'grp_call_tsr']\n",
      "(1662348, 1038)\n",
      "(1656204, 1038)\n",
      "CPU times: user 1min 55s, sys: 13 s, total: 2min 8s\n",
      "Wall time: 2min 3s\n"
     ]
    }
   ],
   "source": [
    "%%time\n",
    "\n",
    "# (1) Make a Pipeline and Instantiate\n",
    "Pipe_NF = FE.FeatureMaker()\n",
    "\n",
    "\n",
    "# (2) fit()\n",
    "Pipe_NF.fit(train_X, train_y)\n",
    "\n",
    "\n",
    "# (3) transform()\n",
    "train_X_NF = Pipe_NF.transform(train_X)\n",
    "test_X_NF  = Pipe_NF.transform(test_X)\n",
    "\n",
    "# Feature Dimension\n",
    "print('\\n' + '*'*50 + '\\nBefore vs After Transformation\\n' + '*'*50)\n",
    "print('TRAIN: Before Transformation:' + str(train_X.shape))\n",
    "print('TRAIN: After Transformation: ' + str(train_X_NF.shape))\n",
    "print('TEST:  After Transformation: ' + str(test_X_NF.shape))\n",
    "print('\\n' + '*'*50 + '\\nNewly Created Features\\n' + '*'*50 + '\\n', Pipe_NF.features_new_)\n",
    "\n",
    "\n",
    "# Create Datasets that Consist of Pre-processed and New Features.\n",
    "train_X = train_X_NF.merge(train_X, how='inner', left_index=True, right_index=True)\n",
    "test_X  = test_X_NF.merge(test_X, how='inner', left_index=True, right_index=True)\n",
    "\n",
    "print(train_X.shape)\n",
    "print(test_X.shape)\n",
    "\n",
    "del train_X_NF, test_X_NF"
   ]
  },
  {
   "cell_type": "markdown",
   "metadata": {},
   "source": [
    "## 2. Feature Engineering"
   ]
  },
  {
   "cell_type": "markdown",
   "metadata": {},
   "source": [
    "### Create/Use a Meta Custom Transfomer for Feature Engineering"
   ]
  },
  {
   "cell_type": "code",
   "execution_count": 6,
   "metadata": {},
   "outputs": [
    {
     "name": "stdout",
     "output_type": "stream",
     "text": [
      "'ordinal' encoding requires target y.\n",
      "\n",
      "**************************************************\n",
      "Before vs After Feature Engineering (FE)\n",
      "**************************************************\n",
      "TRAIN: Before FE:(1662348, 1038)\n",
      "TRAIN: After FE: (1662348, 1098)\n",
      "TEST:  After FE: (1656204, 1098)\n",
      "CPU times: user 1h 18min 7s, sys: 48min 57s, total: 2h 7min 5s\n",
      "Wall time: 2h 6min 58s\n"
     ]
    }
   ],
   "source": [
    "%%time\n",
    "\n",
    "# (1) Make a Pipeline in Parallel/Sequence and Instantiate \n",
    "# List of Features Used as Parameters\n",
    "fe_1st           = ['grp_tenure_3m', 'grp_payment_method', \\\n",
    "                    'grp_payment_25dollar', 'grp_payment_change_10dollar', 'grp_payment_change_5pct', \\\n",
    "                    'grp_payment_income', 'grp_call_csc', 'grp_call_bill', \\\n",
    "                    'grp_call_csr', 'grp_call_tsr']\n",
    "fe_2nd           = fe_1st + ['income_demos', 'ethnic', 'age_demos', 'archetype']\n",
    "fe_group         = ['census', 'cleansed_city', 'cleansed_zipcode']\n",
    "\n",
    "# Custom Transformers in Sequence for CATEGORICAL Features\n",
    "CAT_Pipe          = Pipeline([\n",
    "                    ('Interaction', FE.FeatureInteractionTransformer(features_1st=fe_1st, features_2nd=fe_2nd)),\n",
    "                    ('RareCategory', FE.RareCategoryEncoder(category_min_pct=0.01, category_max_count=20)),\n",
    "                    ('ORDINAL', FE.UniversalCategoryEncoder(encoding_method='ordinal', prefix='CAT'))\n",
    "                    ])\n",
    "\n",
    "NUM_Pipe          = Pipeline([\n",
    "                    ('Selector', FE.FeatureSelector_NUM()),\n",
    "                    ('Original', FE.PassTransformer(prefix='NUM'))\n",
    "                    ])\n",
    "\n",
    "FE_Pipe          =  FE.FeatureUnion_DF([('Pipe_CAT', CAT_Pipe), ('Pipe_NUM', NUM_Pipe)])\n",
    "\n",
    "# (2) fit()\n",
    "FE_Pipe.fit(train_X, train_y)\n",
    "\n",
    "\n",
    "# (3) transform()\n",
    "train_X_FE = FE_Pipe.transform(train_X)\n",
    "test_X_FE  = FE_Pipe.transform(test_X)\n",
    "\n",
    "# Feature Dimension\n",
    "print('\\n' + '*'*50 + '\\nBefore vs After Feature Engineering (FE)\\n' + '*'*50)\n",
    "print('TRAIN: Before FE:' + str(train_X.shape))\n",
    "print('TRAIN: After FE: ' + str(train_X_FE.shape))\n",
    "print('TEST:  After FE: ' + str(test_X_FE.shape))\n",
    "\n",
    "# **************************************************\n",
    "# Before vs After Feature Engineering (FE)\n",
    "# **************************************************\n",
    "# TRAIN: Before FE:(1662348, 1038)\n",
    "# TRAIN: After FE: (1662348, 1097)\n",
    "# TEST:  After FE: (1656204, 1097)\n",
    "# CPU times: user 1h 17min 40s, sys: 43min 21s, total: 2h 1min 2s\n",
    "# Wall time: 2h 53s"
   ]
  },
  {
   "cell_type": "markdown",
   "metadata": {},
   "source": [
    "### Correlation Summary: TRAIN vs TEST"
   ]
  },
  {
   "cell_type": "code",
   "execution_count": 7,
   "metadata": {},
   "outputs": [
    {
     "name": "stdout",
     "output_type": "stream",
     "text": [
      "\n",
      "**********************************************************************\n",
      "Correlation Summary: TRAIN vs TEST\n",
      "**********************************************************************\n"
     ]
    },
    {
     "data": {
      "text/html": [
       "<div>\n",
       "<style scoped>\n",
       "    .dataframe tbody tr th:only-of-type {\n",
       "        vertical-align: middle;\n",
       "    }\n",
       "\n",
       "    .dataframe tbody tr th {\n",
       "        vertical-align: top;\n",
       "    }\n",
       "\n",
       "    .dataframe thead th {\n",
       "        text-align: right;\n",
       "    }\n",
       "</style>\n",
       "<table border=\"1\" class=\"dataframe\">\n",
       "  <thead>\n",
       "    <tr style=\"text-align: right;\">\n",
       "      <th></th>\n",
       "      <th>TRAIN_All</th>\n",
       "      <th>TEST_All</th>\n",
       "    </tr>\n",
       "  </thead>\n",
       "  <tbody>\n",
       "    <tr>\n",
       "      <th>count</th>\n",
       "      <td>1058.000000</td>\n",
       "      <td>1055.000000</td>\n",
       "    </tr>\n",
       "    <tr>\n",
       "      <th>mean</th>\n",
       "      <td>0.006401</td>\n",
       "      <td>0.006813</td>\n",
       "    </tr>\n",
       "    <tr>\n",
       "      <th>std</th>\n",
       "      <td>0.018414</td>\n",
       "      <td>0.016706</td>\n",
       "    </tr>\n",
       "    <tr>\n",
       "      <th>min</th>\n",
       "      <td>-0.046872</td>\n",
       "      <td>-0.048314</td>\n",
       "    </tr>\n",
       "    <tr>\n",
       "      <th>1%</th>\n",
       "      <td>-0.038063</td>\n",
       "      <td>-0.032714</td>\n",
       "    </tr>\n",
       "    <tr>\n",
       "      <th>5%</th>\n",
       "      <td>-0.027150</td>\n",
       "      <td>-0.017660</td>\n",
       "    </tr>\n",
       "    <tr>\n",
       "      <th>10%</th>\n",
       "      <td>-0.012608</td>\n",
       "      <td>-0.007807</td>\n",
       "    </tr>\n",
       "    <tr>\n",
       "      <th>20%</th>\n",
       "      <td>-0.001767</td>\n",
       "      <td>-0.001634</td>\n",
       "    </tr>\n",
       "    <tr>\n",
       "      <th>30%</th>\n",
       "      <td>0.000060</td>\n",
       "      <td>-0.000072</td>\n",
       "    </tr>\n",
       "    <tr>\n",
       "      <th>40%</th>\n",
       "      <td>0.000903</td>\n",
       "      <td>0.001046</td>\n",
       "    </tr>\n",
       "    <tr>\n",
       "      <th>50%</th>\n",
       "      <td>0.001976</td>\n",
       "      <td>0.002332</td>\n",
       "    </tr>\n",
       "    <tr>\n",
       "      <th>60%</th>\n",
       "      <td>0.003831</td>\n",
       "      <td>0.004481</td>\n",
       "    </tr>\n",
       "    <tr>\n",
       "      <th>70%</th>\n",
       "      <td>0.009286</td>\n",
       "      <td>0.010205</td>\n",
       "    </tr>\n",
       "    <tr>\n",
       "      <th>80%</th>\n",
       "      <td>0.020392</td>\n",
       "      <td>0.018632</td>\n",
       "    </tr>\n",
       "    <tr>\n",
       "      <th>90%</th>\n",
       "      <td>0.035303</td>\n",
       "      <td>0.031952</td>\n",
       "    </tr>\n",
       "    <tr>\n",
       "      <th>95%</th>\n",
       "      <td>0.040466</td>\n",
       "      <td>0.037579</td>\n",
       "    </tr>\n",
       "    <tr>\n",
       "      <th>99%</th>\n",
       "      <td>0.051209</td>\n",
       "      <td>0.052677</td>\n",
       "    </tr>\n",
       "    <tr>\n",
       "      <th>max</th>\n",
       "      <td>0.059781</td>\n",
       "      <td>0.060893</td>\n",
       "    </tr>\n",
       "  </tbody>\n",
       "</table>\n",
       "</div>"
      ],
      "text/plain": [
       "         TRAIN_All     TEST_All\n",
       "count  1058.000000  1055.000000\n",
       "mean      0.006401     0.006813\n",
       "std       0.018414     0.016706\n",
       "min      -0.046872    -0.048314\n",
       "1%       -0.038063    -0.032714\n",
       "5%       -0.027150    -0.017660\n",
       "10%      -0.012608    -0.007807\n",
       "20%      -0.001767    -0.001634\n",
       "30%       0.000060    -0.000072\n",
       "40%       0.000903     0.001046\n",
       "50%       0.001976     0.002332\n",
       "60%       0.003831     0.004481\n",
       "70%       0.009286     0.010205\n",
       "80%       0.020392     0.018632\n",
       "90%       0.035303     0.031952\n",
       "95%       0.040466     0.037579\n",
       "99%       0.051209     0.052677\n",
       "max       0.059781     0.060893"
      ]
     },
     "execution_count": 7,
     "metadata": {},
     "output_type": "execute_result"
    }
   ],
   "source": [
    "p_list          = [.01, .05, .1, .2, .3, .4, .6, .7, .8, .9, .95, .99]\n",
    "corr_train_all  = train_X_FE.apply(lambda x: x.corr(train_y)).to_frame().describe(percentiles=p_list)\n",
    "corr_test_all   = test_X_FE.apply(lambda x: x.corr(test_y)).to_frame().describe(percentiles=p_list)\n",
    "\n",
    "corr_all         = pd.concat([corr_train_all, corr_test_all], axis=1)\n",
    "corr_all.columns = ['TRAIN_All', 'TEST_All']\n",
    "print('\\n' + '*'*70 + '\\nCorrelation Summary: TRAIN vs TEST\\n' + '*'*70)\n",
    "corr_all"
   ]
  },
  {
   "cell_type": "markdown",
   "metadata": {},
   "source": [
    "### Saving Transformed Categorical Features"
   ]
  },
  {
   "cell_type": "code",
   "execution_count": 8,
   "metadata": {},
   "outputs": [],
   "source": [
    "df_train_FE = train_y.to_frame().\\\n",
    "              merge(train_X_FE, how='inner', left_index=True, right_index=True)\n",
    "\n",
    "df_test_FE  = test_y.to_frame().\\\n",
    "              merge(test_X_FE, how='inner', left_index=True, right_index=True)\n",
    "\n",
    "df_train_FE.to_pickle('data_new/CLUSTER_df_train_FE.pkl')\n",
    "df_test_FE.to_pickle('data_new/CLUSTER_df_test_FE.pkl')"
   ]
  },
  {
   "cell_type": "code",
   "execution_count": 37,
   "metadata": {},
   "outputs": [
    {
     "name": "stdout",
     "output_type": "stream",
     "text": [
      "                        status    status\n",
      "CAT_competitive_area                    \n",
      "0                     0.008417  0.007479\n",
      "1                     0.009252  0.008077\n",
      "2                     0.016300  0.015230\n",
      "3                     0.017105  0.017094\n",
      "4                     0.031425  0.034022\n",
      "{'Non-Competitive Area': 0, 'U-verse Competitive Area': 1, 'Pre-Fios Competitive Area': 2, 'Fios Competitive Area': 3, 'Fios ONT Competitive Area': 4}\n",
      "{0: 'Non-Competitive Area', 1: 'U-verse Competitive Area', 2: 'Pre-Fios Competitive Area', 3: 'Fios Competitive Area', 4: 'Fios ONT Competitive Area'}\n",
      "CPU times: user 56 ms, sys: 0 ns, total: 56 ms\n",
      "Wall time: 54.9 ms\n"
     ]
    }
   ],
   "source": [
    "%%time\n",
    "fe   = 'CAT_competitive_area'\n",
    "tmp1 = df_train_FE.groupby(fe)['status'].mean()\n",
    "tmp2 = df_test_FE.groupby(fe)['status'].mean()\n",
    "print(pd.concat([tmp1, tmp2], axis=1))\n",
    "\n",
    "map1 = FE_Pipe.transformer_fitted[0].named_steps['ORDINAL'].category_mapper_['competitive_area']\n",
    "map2 = {i:j for j, i in map1.items()}\n",
    "print(map1)\n",
    "print(map2)"
   ]
  },
  {
   "cell_type": "code",
   "execution_count": 35,
   "metadata": {},
   "outputs": [
    {
     "name": "stdout",
     "output_type": "stream",
     "text": [
      "True\n",
      "{'GRP_CALL_BILL-age_demos': {'0 Call___65-74': 0, '0 Call___55-64': 1, '1 Calls___65-74': 2, '0 Call___45-54': 3, '1 Calls___55-64': 4, '2 Calls___55-64': 5, '1 Calls___45-54': 6, '1 Calls___75+': 7, '0 Call___75+': 8, 'all_other': 9, '0 Call___Unknown': 10, '0 Call___35-44': 11, '0 Call___18-24': 12, '1 Calls___35-44': 13, '1 Calls___Unknown': 14, '1 Calls___25-34': 15, '0 Call___25-34': 16}, 'GRP_CALL_BILL-archetype': {'0 Call___Indulgent Empty Nesters': 0, '1 Calls___Indulgent Empty Nesters': 1, '2 Calls___Indulgent Empty Nesters': 2, '0 Call___Busy Families Achievers': 3, '1 Calls___Busy Families Achievers': 4, '0 Call___Empty Nesters': 5, '1 Calls___Empty Nesters': 6, '0 Call___Movers and Shakers': 7, '2 Calls___Empty Nesters': 8, 'all_other': 9, '0 Call___Busy Families Dreamers': 10, '0 Call___Tech Sensible': 11, '0 Call___Industrious Entertain-Mes': 12, '0 Call___Tech Savvy Singles': 13, '1 Calls___Industrious Entertain-Mes': 14, '1 Calls___Tech Savvy Singles': 15}, 'GRP_CALL_BILL-ethnic': {'0 Call___WESTERN EUROPEAN': 0, '2 Calls___WESTERN EUROPEAN': 1, '0 Call___MEDITERRANEAN': 2, '1 Calls___MEDITERRANEAN': 3, '0 Call___MIDDLE EAST NON-ARAB': 4, '1 Calls___WESTERN EUROPEAN': 5, '1 Calls___EASTERN EUROPEAN': 6, '0 Call___EASTERN EUROPEAN': 7, '0 Call___AFRICAN AMERICAN': 8, '1 Calls___AFRICAN AMERICAN': 9, '0 Call___CARIBBEAN NON-HISPANIC': 10, 'all_other': 11, '0 Call___EAST ASIAN': 12, '0 Call___HISPANIC': 13, '1 Calls___HISPANIC': 14, '2 Calls___HISPANIC': 15, '0 Call___SOUTH ASIAN': 16}, 'GRP_CALL_BILL-grp_call_csc': {'0 Call___5 ~ 6 Calls': 0, '0 Call___3 ~ 4 Calls': 1, '0 Call___1 ~ 2 Calls': 2, '1 Calls___3 ~ 4 Calls': 3, '0 Call___0 Call': 4, '1 Calls___5 ~ 6 Calls': 5, 'all_other': 6, '2 Calls___5 ~ 6 Calls': 7, '2 Calls___3 ~ 4 Calls': 8, '2 Calls___1 ~ 2 Calls': 9, '1 Calls___1 ~ 2 Calls': 10}, 'GRP_CALL_BILL-grp_call_csr': {'1 Calls___3 ~ 4 Calls': 0, '0 Call___0 Call': 1, '0 Call___3 ~ 4 Calls': 2, '0 Call___1 ~ 2 Calls': 3, '2 Calls___3 ~ 4 Calls': 4, '1 Calls___1 ~ 2 Calls': 5, '2 Calls___1 ~ 2 Calls': 6, 'all_other': 7}, 'GRP_CALL_BILL-grp_call_tsr': {'0 Call___4 Calls': 0, '0 Call___4+ Calls': 1, '1 Calls___4+ Calls': 2, '0 Call___3 Calls': 3, '0 Call___2 Calls': 4, '0 Call___1 Calls': 5, '1 Calls___2 Calls': 6, '1 Calls___3 Calls': 7, '0 Call___0 Call': 8, '1 Calls___1 Calls': 9, '2 Calls___1 Calls': 10, 'all_other': 11, '1 Calls___0 Call': 12, '2 Calls___0 Call': 13}, 'GRP_CALL_BILL-grp_payment_25dollar': {'0 Call___226 ~ 250 Dollars': 0, '1 Calls___226 ~ 250 Dollars': 1, '0 Call___201 ~ 225 Dollars': 2, '1 Calls___201 ~ 225 Dollars': 3, '0 Call___176 ~ 200 Dollars': 4, '2 Calls___176 ~ 200 Dollars': 5, '1 Calls___176 ~ 200 Dollars': 6, 'all_other': 7, '1 Calls___151 ~ 175 Dollars': 8, '2 Calls___151 ~ 175 Dollars': 9, '0 Call___151 ~ 175 Dollars': 10, '0 Call___76 ~ 100 Dollars': 11, '1 Calls___126 ~ 150 Dollars': 12, '0 Call___101 ~ 125 Dollars': 13, '0 Call___126 ~ 150 Dollars': 14, '1 Calls___101 ~ 125 Dollars': 15, '0 Call___51 ~ 75 Dollars': 16}, 'GRP_CALL_BILL-grp_payment_change_10dollar': {'0 Call___-10 ~ -1 Dollars': 0, '0 Call___1 ~ 10 Dollars': 1, '1 Calls___-10 ~ -1 Dollars': 2, '0 Call___-40 ~ -31 Dollars': 3, '1 Calls___1 ~ 10 Dollars': 4, '1 Calls___Under -50 Dollars': 5, '0 Call___-30 ~ -21 Dollars': 6, '0 Call___0 Dollar': 7, '0 Call___11 ~ 20 Dollars': 8, '1 Calls___11 ~ 20 Dollars': 9, '0 Call___Under -50 Dollars': 10, '1 Calls___0 Dollar': 11, '2 Calls___0 Dollar': 12, 'all_other': 13, '0 Call___-20 ~ -11 Dollars': 14, '0 Call___21 ~ 30 Dollars': 15, '0 Call___31 ~ 40 Dollars': 16, '0 Call___41 ~ 50 Dollars': 17, '1 Calls___Over 50 Dollars': 18, '0 Call___Over 50 Dollars': 19}, 'GRP_CALL_BILL-grp_payment_change_5pct': {'0 Call___-5 ~ -1 Pct': 0, '0 Call___1 ~ 5 Pct': 1, '1 Calls___-5 ~ -1 Pct': 2, '0 Call___-10 ~ -6 Pct': 3, '1 Calls___-10 ~ -6 Pct': 4, '1 Calls___1 ~ 5 Pct': 5, '0 Call___0 Pct': 6, '0 Call___-15 ~ -11 Pct': 7, '1 Calls___0 Pct': 8, '2 Calls___0 Pct': 9, 'all_other': 10, '0 Call___6 ~ 10 Pct': 11, '1 Calls___6 ~ 10 Pct': 12, '0 Call___11 ~ 15 Pct': 13}, 'GRP_CALL_BILL-grp_payment_income': {'0 Call___3 ~ 3.99 pct': 0, '0 Call___2 ~ 2.99 pct': 1, '0 Call___1 ~ 1.99 pct': 2, '0 Call___Under 1 pct': 3, '1 Calls___1 ~ 1.99 pct': 4, '0 Call___4 ~ 4.99 pct': 5, '0 Call___10 ~ 14.99 pct': 6, '1 Calls___2 ~ 2.99 pct': 7, '2 Calls___1 ~ 1.99 pct': 8, '2 Calls___2 ~ 2.99 pct': 9, '1 Calls___3 ~ 3.99 pct': 10, '1 Calls___Under 1 pct': 11, '0 Call___5 ~ 6.99 pct': 12, '1 Calls___4 ~ 4.99 pct': 13, '1 Calls___5 ~ 6.99 pct': 14, '0 Call___Over 20 pct': 15, '1 Calls___Over 20 pct': 16, '0 Call___7 ~ 9.99 pct': 17, 'all_other': 18, '1 Calls___7 ~ 9.99 pct': 19}, 'GRP_CALL_BILL-grp_payment_method': {'0 Call___AUTPAY': 0, '0 Call___DEBIT': 1, '1 Calls___AUTPAY': 2, '2 Calls___AUTPAY': 3, '0 Call___CHECK': 4, '1 Calls___DEBIT': 5, '2 Calls___DEBIT': 6, '0 Call___CREDIT': 7, 'all_other': 8, '2 Calls___CREDIT': 9, '0 Call___CASH': 10, '1 Calls___CREDIT': 11, '3 Calls___CREDIT': 12}, 'GRP_CALL_BILL-grp_tenure_3m': {'0 Call___97 ~ 99 Months': 0, '1 Calls___97 ~ 99 Months': 1, '2 Calls___97 ~ 99 Months': 2, '0 Call___55 ~ 57 Months': 3, '0 Call___52 ~ 54 Months': 4, '0 Call___16 ~ 18 Months': 5, 'all_other': 6, '0 Call___13 ~ 15 Months': 7, '0 Call___28 ~ 30 Months': 8, '0 Call___37 ~ 39 Months': 9, '0 Call___49 ~ 51 Months': 10, '0 Call___40 ~ 42 Months': 11, '0 Call___25 ~ 27 Months': 12, '0 Call___19 ~ 21 Months': 13, '0 Call___31 ~ 33 Months': 14, '0 Call___22 ~ 24 Months': 15, '0 Call___34 ~ 36 Months': 16, '0 Call___43 ~ 45 Months': 17, '0 Call___46 ~ 48 Months': 18}, 'GRP_CALL_BILL-income_demos': {'0 Call___l.$250k+': 0, '0 Call___j.$175k-$199': 1, '0 Call___k.$200k-$249': 2, '0 Call___h.$125k-$149': 3, '0 Call___i.$150k-$174': 4, '0 Call___f.$75k-$99': 5, '1 Calls___h.$125k-$149': 6, '0 Call___g.$100k-$124': 7, '1 Calls___f.$75k-$99': 8, '0 Call___e.$50k-$74': 9, '1 Calls___g.$100k-$124': 10, 'all_other': 11, '1 Calls___e.$50k-$74': 12, '0 Call___c.$25k-$34': 13, '0 Call___b.$15k-$24': 14, '0 Call___d.$35k-$49': 15, '0 Call___a.$1-$14,999': 16, '1 Calls___d.$35k-$49': 17, '1 Calls___a.$1-$14,999': 18, '1 Calls___c.$25k-$34': 19, '1 Calls___b.$15k-$24': 20}, 'GRP_CALL_CSC-age_demos': {'0 Call___55-64': 0, '1 ~ 2 Calls___65-74': 1, '0 Call___65-74': 2, '3 ~ 4 Calls___65-74': 3, '3 ~ 4 Calls___55-64': 4, '1 ~ 2 Calls___55-64': 5, '0 Call___45-54': 6, '1 ~ 2 Calls___45-54': 7, '3 ~ 4 Calls___45-54': 8, '3 ~ 4 Calls___75+': 9, '1 ~ 2 Calls___75+': 10, 'all_other': 11, '0 Call___75+': 12, '0 Call___Unknown': 13, '3 ~ 4 Calls___Unknown': 14, '3 ~ 4 Calls___35-44': 15, '0 Call___35-44': 16, '1 ~ 2 Calls___35-44': 17, '1 ~ 2 Calls___Unknown': 18, '0 Call___25-34': 19, '1 ~ 2 Calls___25-34': 20}, 'GRP_CALL_CSC-archetype': {'3 ~ 4 Calls___Indulgent Empty Nesters': 0, '0 Call___Indulgent Empty Nesters': 1, '1 ~ 2 Calls___Indulgent Empty Nesters': 2, '5 ~ 6 Calls___Indulgent Empty Nesters': 3, '3 ~ 4 Calls___Busy Families Achievers': 4, '0 Call___Busy Families Achievers': 5, '1 ~ 2 Calls___Busy Families Achievers': 6, '3 ~ 4 Calls___Empty Nesters': 7, '0 Call___Empty Nesters': 8, '1 ~ 2 Calls___Empty Nesters': 9, '5 ~ 6 Calls___Empty Nesters': 10, '1 ~ 2 Calls___Movers and Shakers': 11, '0 Call___Movers and Shakers': 12, 'all_other': 13, '0 Call___Busy Families Dreamers': 14, '0 Call___Tech Savvy Singles': 15, '3 ~ 4 Calls___Industrious Entertain-Mes': 16, '1 ~ 2 Calls___Industrious Entertain-Mes': 17, '1 ~ 2 Calls___Tech Savvy Singles': 18, '0 Call___Industrious Entertain-Mes': 19, '1 ~ 2 Calls___Busy Families Dreamers': 20}, 'GRP_CALL_CSC-ethnic': {'3 ~ 4 Calls___WESTERN EUROPEAN': 0, '0 Call___WESTERN EUROPEAN': 1, '3 ~ 4 Calls___MEDITERRANEAN': 2, '1 ~ 2 Calls___MEDITERRANEAN': 3, '1 ~ 2 Calls___WESTERN EUROPEAN': 4, '5 ~ 6 Calls___WESTERN EUROPEAN': 5, '0 Call___MEDITERRANEAN': 6, '1 ~ 2 Calls___EASTERN EUROPEAN': 7, '0 Call___AFRICAN AMERICAN': 8, '0 Call___EASTERN EUROPEAN': 9, '3 ~ 4 Calls___AFRICAN AMERICAN': 10, '1 ~ 2 Calls___AFRICAN AMERICAN': 11, '1 ~ 2 Calls___CARIBBEAN NON-HISPANIC': 12, '0 Call___CARIBBEAN NON-HISPANIC': 13, 'all_other': 14, '0 Call___HISPANIC': 15, '5 ~ 6 Calls___HISPANIC': 16, '1 ~ 2 Calls___HISPANIC': 17, '3 ~ 4 Calls___HISPANIC': 18}, 'GRP_CALL_CSC-grp_call_csr': {'3 ~ 4 Calls___0 Call': 0, '1 ~ 2 Calls___0 Call': 1, '3 ~ 4 Calls___1 ~ 2 Calls': 2, '0 Call___0 Call': 3, '5 ~ 6 Calls___3 ~ 4 Calls': 4, '5 ~ 6 Calls___1 ~ 2 Calls': 5, '3 ~ 4 Calls___3 ~ 4 Calls': 6, 'all_other': 7, '5 ~ 6 Calls___5 ~ 6 Calls': 8, '1 ~ 2 Calls___1 ~ 2 Calls': 9, '1 ~ 2 Calls___3 ~ 4 Calls': 10, '0 Call___1 ~ 2 Calls': 11}, 'GRP_CALL_CSC-grp_call_tsr': {'3 ~ 4 Calls___4 Calls': 0, '1 ~ 2 Calls___2 Calls': 1, '3 ~ 4 Calls___3 Calls': 2, '0 Call___1 Calls': 3, '1 ~ 2 Calls___1 Calls': 4, '3 ~ 4 Calls___2 Calls': 5, '1 ~ 2 Calls___3 Calls': 6, '5 ~ 6 Calls___4+ Calls': 7, '0 Call___0 Call': 8, 'all_other': 9, '3 ~ 4 Calls___1 Calls': 10, '1 ~ 2 Calls___0 Call': 11, '3 ~ 4 Calls___0 Call': 12}, 'GRP_CALL_CSC-grp_payment_25dollar': {'0 Call___226 ~ 250 Dollars': 0, '3 ~ 4 Calls___226 ~ 250 Dollars': 1, '1 ~ 2 Calls___226 ~ 250 Dollars': 2, '0 Call___201 ~ 225 Dollars': 3, '3 ~ 4 Calls___201 ~ 225 Dollars': 4, '1 ~ 2 Calls___201 ~ 225 Dollars': 5, '3 ~ 4 Calls___176 ~ 200 Dollars': 6, '0 Call___176 ~ 200 Dollars': 7, '1 ~ 2 Calls___176 ~ 200 Dollars': 8, 'all_other': 9, '3 ~ 4 Calls___151 ~ 175 Dollars': 10, '1 ~ 2 Calls___151 ~ 175 Dollars': 11, '0 Call___151 ~ 175 Dollars': 12, '3 ~ 4 Calls___126 ~ 150 Dollars': 13, '1 ~ 2 Calls___76 ~ 100 Dollars': 14, '1 ~ 2 Calls___101 ~ 125 Dollars': 15, '1 ~ 2 Calls___126 ~ 150 Dollars': 16, '0 Call___76 ~ 100 Dollars': 17, '0 Call___101 ~ 125 Dollars': 18, '1 ~ 2 Calls___51 ~ 75 Dollars': 19, '0 Call___126 ~ 150 Dollars': 20}, 'GRP_CALL_CSC-grp_payment_change_10dollar': {'0 Call___-10 ~ -1 Dollars': 0, '1 ~ 2 Calls___-10 ~ -1 Dollars': 1, '0 Call___1 ~ 10 Dollars': 2, '1 ~ 2 Calls___1 ~ 10 Dollars': 3, '1 ~ 2 Calls___-30 ~ -21 Dollars': 4, '3 ~ 4 Calls___Under -50 Dollars': 5, '3 ~ 4 Calls___0 Dollar': 6, '1 ~ 2 Calls___Under -50 Dollars': 7, '0 Call___0 Dollar': 8, '5 ~ 6 Calls___0 Dollar': 9, '1 ~ 2 Calls___0 Dollar': 10, '0 Call___11 ~ 20 Dollars': 11, 'all_other': 12, '1 ~ 2 Calls___11 ~ 20 Dollars': 13, '1 ~ 2 Calls___-20 ~ -11 Dollars': 14, '1 ~ 2 Calls___21 ~ 30 Dollars': 15, '0 Call___31 ~ 40 Dollars': 16, '0 Call___21 ~ 30 Dollars': 17, '1 ~ 2 Calls___31 ~ 40 Dollars': 18, '1 ~ 2 Calls___Over 50 Dollars': 19, '0 Call___Over 50 Dollars': 20}, 'GRP_CALL_CSC-grp_payment_change_5pct': {'0 Call___-5 ~ -1 Pct': 0, '3 ~ 4 Calls___-5 ~ -1 Pct': 1, '1 ~ 2 Calls___-5 ~ -1 Pct': 2, '0 Call___1 ~ 5 Pct': 3, '1 ~ 2 Calls___-15 ~ -11 Pct': 4, '1 ~ 2 Calls___1 ~ 5 Pct': 5, '1 ~ 2 Calls___-10 ~ -6 Pct': 6, '3 ~ 4 Calls___1 ~ 5 Pct': 7, '3 ~ 4 Calls___0 Pct': 8, '0 Call___0 Pct': 9, '5 ~ 6 Calls___0 Pct': 10, '1 ~ 2 Calls___0 Pct': 11, 'all_other': 12, '0 Call___6 ~ 10 Pct': 13, '1 ~ 2 Calls___6 ~ 10 Pct': 14, '0 Call___11 ~ 15 Pct': 15}, 'GRP_CALL_CSC-grp_payment_income': {'0 Call___2 ~ 2.99 pct': 0, '3 ~ 4 Calls___2 ~ 2.99 pct': 1, '3 ~ 4 Calls___1 ~ 1.99 pct': 2, '0 Call___3 ~ 3.99 pct': 3, '1 ~ 2 Calls___2 ~ 2.99 pct': 4, '0 Call___1 ~ 1.99 pct': 5, '1 ~ 2 Calls___Under 1 pct': 6, '0 Call___4 ~ 4.99 pct': 7, '1 ~ 2 Calls___3 ~ 3.99 pct': 8, '1 ~ 2 Calls___1 ~ 1.99 pct': 9, '3 ~ 4 Calls___3 ~ 3.99 pct': 10, '0 Call___Under 1 pct': 11, '0 Call___10 ~ 14.99 pct': 12, 'all_other': 13, '1 ~ 2 Calls___4 ~ 4.99 pct': 14, '1 ~ 2 Calls___5 ~ 6.99 pct': 15, '0 Call___5 ~ 6.99 pct': 16, '1 ~ 2 Calls___Over 20 pct': 17, '0 Call___Over 20 pct': 18, '1 ~ 2 Calls___7 ~ 9.99 pct': 19, '0 Call___7 ~ 9.99 pct': 20}, 'GRP_CALL_CSC-grp_payment_method': {'5 ~ 6 Calls___AUTPAY': 0, '3 ~ 4 Calls___AUTPAY': 1, '1 ~ 2 Calls___AUTPAY': 2, '0 Call___AUTPAY': 3, '0 Call___DEBIT': 4, '3 ~ 4 Calls___DEBIT': 5, '1 ~ 2 Calls___DEBIT': 6, 'all_other': 7, '0 Call___CREDIT': 8, '5 ~ 6 Calls___CREDIT': 9, '1 ~ 2 Calls___CREDIT': 10, '3 ~ 4 Calls___CREDIT': 11}, 'GRP_CALL_CSC-grp_tenure_3m': {'1 ~ 2 Calls___97 ~ 99 Months': 0, '0 Call___97 ~ 99 Months': 1, '3 ~ 4 Calls___97 ~ 99 Months': 2, '7 ~ 8 Calls___97 ~ 99 Months': 3, '5 ~ 6 Calls___97 ~ 99 Months': 4, '0 Call___16 ~ 18 Months': 5, '1 ~ 2 Calls___16 ~ 18 Months': 6, '0 Call___13 ~ 15 Months': 7, 'all_other': 8, '0 Call___28 ~ 30 Months': 9, '1 ~ 2 Calls___28 ~ 30 Months': 10, '1 ~ 2 Calls___13 ~ 15 Months': 11, '0 Call___22 ~ 24 Months': 12, '0 Call___19 ~ 21 Months': 13, '0 Call___31 ~ 33 Months': 14}, 'GRP_CALL_CSC-income_demos': {'0 Call___l.$250k+': 0, '1 ~ 2 Calls___l.$250k+': 1, '0 Call___j.$175k-$199': 2, '0 Call___h.$125k-$149': 3, '1 ~ 2 Calls___h.$125k-$149': 4, '0 Call___f.$75k-$99': 5, '1 ~ 2 Calls___f.$75k-$99': 6, '1 ~ 2 Calls___g.$100k-$124': 7, 'all_other': 8, '3 ~ 4 Calls___e.$50k-$74': 9, '0 Call___g.$100k-$124': 10, '1 ~ 2 Calls___e.$50k-$74': 11, '0 Call___e.$50k-$74': 12, '1 ~ 2 Calls___c.$25k-$34': 13, '0 Call___d.$35k-$49': 14, '0 Call___b.$15k-$24': 15, '0 Call___a.$1-$14,999': 16, '1 ~ 2 Calls___a.$1-$14,999': 17, '0 Call___c.$25k-$34': 18, '1 ~ 2 Calls___b.$15k-$24': 19, '1 ~ 2 Calls___d.$35k-$49': 20}, 'GRP_CALL_CSR-age_demos': {'0 Call___65-74': 0, '0 Call___55-64': 1, '1 ~ 2 Calls___65-74': 2, '3 ~ 4 Calls___65-74': 3, '1 ~ 2 Calls___55-64': 4, '3 ~ 4 Calls___55-64': 5, '0 Call___45-54': 6, '1 ~ 2 Calls___45-54': 7, '3 ~ 4 Calls___45-54': 8, '3 ~ 4 Calls___75+': 9, '0 Call___75+': 10, '1 ~ 2 Calls___75+': 11, '0 Call___Unknown': 12, '3 ~ 4 Calls___Unknown': 13, 'all_other': 14, '0 Call___35-44': 15, '1 ~ 2 Calls___35-44': 16, '1 ~ 2 Calls___Unknown': 17, '0 Call___25-34': 18, '1 ~ 2 Calls___25-34': 19}, 'GRP_CALL_CSR-archetype': {'0 Call___Indulgent Empty Nesters': 0, '1 ~ 2 Calls___Indulgent Empty Nesters': 1, '3 ~ 4 Calls___Indulgent Empty Nesters': 2, '3 ~ 4 Calls___Busy Families Achievers': 3, '0 Call___Busy Families Achievers': 4, '1 ~ 2 Calls___Busy Families Achievers': 5, '0 Call___Empty Nesters': 6, '3 ~ 4 Calls___Empty Nesters': 7, '1 ~ 2 Calls___Movers and Shakers': 8, '1 ~ 2 Calls___Empty Nesters': 9, '0 Call___Movers and Shakers': 10, '5 ~ 6 Calls___Empty Nesters': 11, 'all_other': 12, '0 Call___Busy Families Dreamers': 13, '0 Call___Industrious Entertain-Mes': 14, '0 Call___Tech Savvy Singles': 15, '0 Call___Tech Sensible': 16, '1 ~ 2 Calls___Tech Savvy Singles': 17, '1 ~ 2 Calls___Busy Families Dreamers': 18, '1 ~ 2 Calls___Industrious Entertain-Mes': 19}, 'GRP_CALL_CSR-ethnic': {'0 Call___WESTERN EUROPEAN': 0, '3 ~ 4 Calls___WESTERN EUROPEAN': 1, '0 Call___MEDITERRANEAN': 2, '1 ~ 2 Calls___MEDITERRANEAN': 3, '3 ~ 4 Calls___MEDITERRANEAN': 4, '1 ~ 2 Calls___WESTERN EUROPEAN': 5, '0 Call___MIDDLE EAST NON-ARAB': 6, '1 ~ 2 Calls___EASTERN EUROPEAN': 7, '0 Call___AFRICAN AMERICAN': 8, '0 Call___EASTERN EUROPEAN': 9, '3 ~ 4 Calls___AFRICAN AMERICAN': 10, '1 ~ 2 Calls___CARIBBEAN NON-HISPANIC': 11, '1 ~ 2 Calls___AFRICAN AMERICAN': 12, '0 Call___CARIBBEAN NON-HISPANIC': 13, 'all_other': 14, '0 Call___HISPANIC': 15, '0 Call___EAST ASIAN': 16, '1 ~ 2 Calls___HISPANIC': 17, '3 ~ 4 Calls___HISPANIC': 18, '0 Call___SOUTH ASIAN': 19}, 'GRP_CALL_CSR-grp_call_tsr': {'1 ~ 2 Calls___4 Calls': 0, '1 ~ 2 Calls___4+ Calls': 1, '0 Call___3 Calls': 2, '0 Call___2 Calls': 3, '3 ~ 4 Calls___2 Calls': 4, '0 Call___1 Calls': 5, '3 ~ 4 Calls___4+ Calls': 6, '1 ~ 2 Calls___3 Calls': 7, '0 Call___0 Call': 8, '1 ~ 2 Calls___1 Calls': 9, '1 ~ 2 Calls___2 Calls': 10, '3 ~ 4 Calls___1 Calls': 11, 'all_other': 12, '1 ~ 2 Calls___0 Call': 13, '3 ~ 4 Calls___0 Call': 14}, 'GRP_CALL_CSR-grp_payment_25dollar': {'0 Call___226 ~ 250 Dollars': 0, '1 ~ 2 Calls___226 ~ 250 Dollars': 1, '3 ~ 4 Calls___226 ~ 250 Dollars': 2, '0 Call___201 ~ 225 Dollars': 3, '3 ~ 4 Calls___201 ~ 225 Dollars': 4, '1 ~ 2 Calls___201 ~ 225 Dollars': 5, '3 ~ 4 Calls___176 ~ 200 Dollars': 6, '0 Call___176 ~ 200 Dollars': 7, '1 ~ 2 Calls___176 ~ 200 Dollars': 8, '3 ~ 4 Calls___151 ~ 175 Dollars': 9, 'all_other': 10, '1 ~ 2 Calls___151 ~ 175 Dollars': 11, '0 Call___151 ~ 175 Dollars': 12, '3 ~ 4 Calls___126 ~ 150 Dollars': 13, '1 ~ 2 Calls___76 ~ 100 Dollars': 14, '1 ~ 2 Calls___101 ~ 125 Dollars': 15, '1 ~ 2 Calls___126 ~ 150 Dollars': 16, '0 Call___101 ~ 125 Dollars': 17, '0 Call___76 ~ 100 Dollars': 18, '0 Call___126 ~ 150 Dollars': 19, '0 Call___51 ~ 75 Dollars': 20}, 'GRP_CALL_CSR-grp_payment_change_10dollar': {'0 Call___-10 ~ -1 Dollars': 0, '0 Call___1 ~ 10 Dollars': 1, '1 ~ 2 Calls___-10 ~ -1 Dollars': 2, '1 ~ 2 Calls___1 ~ 10 Dollars': 3, '3 ~ 4 Calls___Under -50 Dollars': 4, '0 Call___0 Dollar': 5, '3 ~ 4 Calls___0 Dollar': 6, '1 ~ 2 Calls___Under -50 Dollars': 7, '1 ~ 2 Calls___-30 ~ -21 Dollars': 8, '0 Call___11 ~ 20 Dollars': 9, '1 ~ 2 Calls___11 ~ 20 Dollars': 10, '1 ~ 2 Calls___0 Dollar': 11, 'all_other': 12, '0 Call___21 ~ 30 Dollars': 13, '1 ~ 2 Calls___-20 ~ -11 Dollars': 14, '0 Call___31 ~ 40 Dollars': 15, '1 ~ 2 Calls___21 ~ 30 Dollars': 16, '0 Call___41 ~ 50 Dollars': 17, '1 ~ 2 Calls___31 ~ 40 Dollars': 18, '1 ~ 2 Calls___Over 50 Dollars': 19, '0 Call___Over 50 Dollars': 20}, 'GRP_CALL_CSR-grp_payment_change_5pct': {'0 Call___-5 ~ -1 Pct': 0, '0 Call___1 ~ 5 Pct': 1, '1 ~ 2 Calls___-5 ~ -1 Pct': 2, '3 ~ 4 Calls___-5 ~ -1 Pct': 3, '1 ~ 2 Calls___-15 ~ -11 Pct': 4, '0 Call___-10 ~ -6 Pct': 5, '1 ~ 2 Calls___-10 ~ -6 Pct': 6, '1 ~ 2 Calls___1 ~ 5 Pct': 7, '0 Call___0 Pct': 8, '3 ~ 4 Calls___0 Pct': 9, '1 ~ 2 Calls___0 Pct': 10, '3 ~ 4 Calls___1 ~ 5 Pct': 11, 'all_other': 12, '0 Call___6 ~ 10 Pct': 13, '1 ~ 2 Calls___6 ~ 10 Pct': 14, '0 Call___11 ~ 15 Pct': 15}, 'GRP_CALL_CSR-grp_payment_income': {'0 Call___3 ~ 3.99 pct': 0, '0 Call___2 ~ 2.99 pct': 1, '0 Call___1 ~ 1.99 pct': 2, '0 Call___4 ~ 4.99 pct': 3, '1 ~ 2 Calls___2 ~ 2.99 pct': 4, '1 ~ 2 Calls___Under 1 pct': 5, '1 ~ 2 Calls___1 ~ 1.99 pct': 6, '3 ~ 4 Calls___2 ~ 2.99 pct': 7, '3 ~ 4 Calls___1 ~ 1.99 pct': 8, '0 Call___10 ~ 14.99 pct': 9, '0 Call___Under 1 pct': 10, '1 ~ 2 Calls___3 ~ 3.99 pct': 11, '1 ~ 2 Calls___10 ~ 14.99 pct': 12, '0 Call___5 ~ 6.99 pct': 13, 'all_other': 14, '1 ~ 2 Calls___Over 20 pct': 15, '1 ~ 2 Calls___4 ~ 4.99 pct': 16, '0 Call___Over 20 pct': 17, '0 Call___7 ~ 9.99 pct': 18, '1 ~ 2 Calls___5 ~ 6.99 pct': 19, '1 ~ 2 Calls___7 ~ 9.99 pct': 20}, 'GRP_CALL_CSR-grp_payment_method': {'3 ~ 4 Calls___AUTPAY': 0, '0 Call___AUTPAY': 1, '1 ~ 2 Calls___AUTPAY': 2, '0 Call___DEBIT': 3, '1 ~ 2 Calls___DEBIT': 4, '3 ~ 4 Calls___DEBIT': 5, 'all_other': 6, '0 Call___CREDIT': 7, '3 ~ 4 Calls___CREDIT': 8, '5 ~ 6 Calls___CREDIT': 9, '0 Call___CASH': 10, '1 ~ 2 Calls___CREDIT': 11}, 'GRP_CALL_CSR-grp_tenure_3m': {'0 Call___97 ~ 99 Months': 0, '3 ~ 4 Calls___97 ~ 99 Months': 1, '1 ~ 2 Calls___97 ~ 99 Months': 2, '5 ~ 6 Calls___97 ~ 99 Months': 3, '0 Call___16 ~ 18 Months': 4, '1 ~ 2 Calls___16 ~ 18 Months': 5, 'all_other': 6, '0 Call___13 ~ 15 Months': 7, '1 ~ 2 Calls___28 ~ 30 Months': 8, '0 Call___40 ~ 42 Months': 9, '0 Call___28 ~ 30 Months': 10, '1 ~ 2 Calls___13 ~ 15 Months': 11, '0 Call___25 ~ 27 Months': 12, '0 Call___19 ~ 21 Months': 13, '0 Call___22 ~ 24 Months': 14, '0 Call___31 ~ 33 Months': 15, '0 Call___34 ~ 36 Months': 16, '0 Call___43 ~ 45 Months': 17}, 'GRP_CALL_CSR-income_demos': {'0 Call___l.$250k+': 0, '0 Call___j.$175k-$199': 1, '0 Call___k.$200k-$249': 2, '0 Call___i.$150k-$174': 3, '0 Call___h.$125k-$149': 4, '1 ~ 2 Calls___h.$125k-$149': 5, '0 Call___f.$75k-$99': 6, '1 ~ 2 Calls___f.$75k-$99': 7, '0 Call___g.$100k-$124': 8, '0 Call___e.$50k-$74': 9, 'all_other': 10, '1 ~ 2 Calls___g.$100k-$124': 11, '1 ~ 2 Calls___e.$50k-$74': 12, '0 Call___d.$35k-$49': 13, '0 Call___c.$25k-$34': 14, '0 Call___b.$15k-$24': 15, '0 Call___a.$1-$14,999': 16, '1 ~ 2 Calls___a.$1-$14,999': 17, '1 ~ 2 Calls___c.$25k-$34': 18, '1 ~ 2 Calls___d.$35k-$49': 19, '1 ~ 2 Calls___b.$15k-$24': 20}, 'GRP_CALL_TSR-age_demos': {'2 Calls___65-74': 0, '1 Calls___65-74': 1, '1 Calls___55-64': 2, '0 Call___55-64': 3, '0 Call___65-74': 4, '2 Calls___55-64': 5, '1 Calls___45-54': 6, '2 Calls___45-54': 7, '2 Calls___75+': 8, '0 Call___45-54': 9, 'all_other': 10, '1 Calls___75+': 11, '0 Call___Unknown': 12, '0 Call___75+': 13, '0 Call___35-44': 14, '1 Calls___Unknown': 15, '2 Calls___Unknown': 16, '1 Calls___35-44': 17, '0 Call___18-24': 18, '1 Calls___25-34': 19, '0 Call___25-34': 20}, 'GRP_CALL_TSR-archetype': {'2 Calls___Indulgent Empty Nesters': 0, '3 Calls___Indulgent Empty Nesters': 1, '1 Calls___Indulgent Empty Nesters': 2, '4+ Calls___Indulgent Empty Nesters': 3, '0 Call___Indulgent Empty Nesters': 4, '2 Calls___Busy Families Achievers': 5, '1 Calls___Busy Families Achievers': 6, '0 Call___Busy Families Achievers': 7, '4+ Calls___Empty Nesters': 8, '1 Calls___Empty Nesters': 9, '2 Calls___Empty Nesters': 10, '3 Calls___Empty Nesters': 11, 'all_other': 12, '0 Call___Empty Nesters': 13, '0 Call___Movers and Shakers': 14, '1 Calls___Industrious Entertain-Mes': 15, '0 Call___Busy Families Dreamers': 16, '0 Call___Industrious Entertain-Mes': 17, '0 Call___Tech Savvy Singles': 18, '1 Calls___Tech Savvy Singles': 19, '0 Call___Tech Sensible': 20}, 'GRP_CALL_TSR-ethnic': {'2 Calls___WESTERN EUROPEAN': 0, '2 Calls___MEDITERRANEAN': 1, '1 Calls___MEDITERRANEAN': 2, '1 Calls___WESTERN EUROPEAN': 3, '3 Calls___WESTERN EUROPEAN': 4, '0 Call___WESTERN EUROPEAN': 5, '4+ Calls___WESTERN EUROPEAN': 6, '0 Call___MEDITERRANEAN': 7, '1 Calls___EASTERN EUROPEAN': 8, '0 Call___MIDDLE EAST NON-ARAB': 9, '1 Calls___AFRICAN AMERICAN': 10, '0 Call___EASTERN EUROPEAN': 11, '0 Call___AFRICAN AMERICAN': 12, 'all_other': 13, '0 Call___CARIBBEAN NON-HISPANIC': 14, '1 Calls___HISPANIC': 15, '0 Call___HISPANIC': 16, '0 Call___EAST ASIAN': 17, '2 Calls___HISPANIC': 18, '0 Call___SOUTH ASIAN': 19}, 'GRP_CALL_TSR-grp_payment_25dollar': {'2 Calls___226 ~ 250 Dollars': 0, '0 Call___226 ~ 250 Dollars': 1, '1 Calls___226 ~ 250 Dollars': 2, '1 Calls___201 ~ 225 Dollars': 3, '2 Calls___201 ~ 225 Dollars': 4, '0 Call___201 ~ 225 Dollars': 5, '2 Calls___176 ~ 200 Dollars': 6, '1 Calls___176 ~ 200 Dollars': 7, '0 Call___176 ~ 200 Dollars': 8, 'all_other': 9, '2 Calls___151 ~ 175 Dollars': 10, '1 Calls___151 ~ 175 Dollars': 11, '0 Call___151 ~ 175 Dollars': 12, '1 Calls___126 ~ 150 Dollars': 13, '1 Calls___101 ~ 125 Dollars': 14, '2 Calls___126 ~ 150 Dollars': 15, '0 Call___76 ~ 100 Dollars': 16, '0 Call___101 ~ 125 Dollars': 17, '0 Call___126 ~ 150 Dollars': 18, '0 Call___51 ~ 75 Dollars': 19}, 'GRP_CALL_TSR-grp_payment_change_10dollar': {'0 Call___-10 ~ -1 Dollars': 0, '1 Calls___1 ~ 10 Dollars': 1, '1 Calls___-10 ~ -1 Dollars': 2, '0 Call___1 ~ 10 Dollars': 3, '3 Calls___0 Dollar': 4, '1 Calls___Under -50 Dollars': 5, '2 Calls___0 Dollar': 6, '4+ Calls___0 Dollar': 7, '1 Calls___0 Dollar': 8, 'all_other': 9, '1 Calls___11 ~ 20 Dollars': 10, '0 Call___-40 ~ -31 Dollars': 11, '0 Call___-30 ~ -21 Dollars': 12, '0 Call___0 Dollar': 13, '0 Call___Under -50 Dollars': 14, '0 Call___11 ~ 20 Dollars': 15, '0 Call___-20 ~ -11 Dollars': 16, '0 Call___21 ~ 30 Dollars': 17, '0 Call___31 ~ 40 Dollars': 18, '0 Call___41 ~ 50 Dollars': 19, '0 Call___Over 50 Dollars': 20}, 'GRP_CALL_TSR-grp_payment_change_5pct': {'2 Calls___-5 ~ -1 Pct': 0, '0 Call___-5 ~ -1 Pct': 1, '1 Calls___-10 ~ -6 Pct': 2, '1 Calls___-5 ~ -1 Pct': 3, '1 Calls___1 ~ 5 Pct': 4, '3 Calls___0 Pct': 5, '2 Calls___1 ~ 5 Pct': 6, '0 Call___1 ~ 5 Pct': 7, '2 Calls___0 Pct': 8, '4+ Calls___0 Pct': 9, '1 Calls___0 Pct': 10, '0 Call___-15 ~ -11 Pct': 11, '0 Call___-10 ~ -6 Pct': 12, '0 Call___0 Pct': 13, 'all_other': 14, '1 Calls___6 ~ 10 Pct': 15, '0 Call___6 ~ 10 Pct': 16, '0 Call___11 ~ 15 Pct': 17}, 'GRP_CALL_TSR-grp_payment_income': {'3 Calls___1 ~ 1.99 pct': 0, '2 Calls___3 ~ 3.99 pct': 1, '2 Calls___1 ~ 1.99 pct': 2, '1 Calls___2 ~ 2.99 pct': 3, '1 Calls___3 ~ 3.99 pct': 4, '2 Calls___2 ~ 2.99 pct': 5, '1 Calls___Under 1 pct': 6, '1 Calls___1 ~ 1.99 pct': 7, '0 Call___2 ~ 2.99 pct': 8, '0 Call___3 ~ 3.99 pct': 9, '0 Call___1 ~ 1.99 pct': 10, 'all_other': 11, '0 Call___Under 1 pct': 12, '0 Call___4 ~ 4.99 pct': 13, '1 Calls___5 ~ 6.99 pct': 14, '0 Call___10 ~ 14.99 pct': 15, '1 Calls___4 ~ 4.99 pct': 16, '1 Calls___7 ~ 9.99 pct': 17, '0 Call___5 ~ 6.99 pct': 18, '0 Call___Over 20 pct': 19, '0 Call___7 ~ 9.99 pct': 20}, 'GRP_CALL_TSR-grp_payment_method': {'4 Calls___AUTPAY': 0, '4+ Calls___AUTPAY': 1, '2 Calls___AUTPAY': 2, '1 Calls___AUTPAY': 3, '3 Calls___AUTPAY': 4, '2 Calls___DEBIT': 5, '1 Calls___DEBIT': 6, '0 Call___AUTPAY': 7, '0 Call___CHECK': 8, '0 Call___DEBIT': 9, '4+ Calls___CREDIT': 10, 'all_other': 11, '2 Calls___CREDIT': 12, '1 Calls___CREDIT': 13, '0 Call___CREDIT': 14, '3 Calls___CREDIT': 15, '0 Call___CASH': 16}, 'GRP_CALL_TSR-grp_tenure_3m': {'4 Calls___97 ~ 99 Months': 0, '2 Calls___97 ~ 99 Months': 1, '1 Calls___97 ~ 99 Months': 2, '3 Calls___97 ~ 99 Months': 3, '0 Call___97 ~ 99 Months': 4, '4+ Calls___97 ~ 99 Months': 5, '0 Call___16 ~ 18 Months': 6, '0 Call___52 ~ 54 Months': 7, 'all_other': 8, '0 Call___37 ~ 39 Months': 9, '0 Call___13 ~ 15 Months': 10, '0 Call___28 ~ 30 Months': 11, '0 Call___40 ~ 42 Months': 12, '0 Call___19 ~ 21 Months': 13, '0 Call___25 ~ 27 Months': 14, '0 Call___31 ~ 33 Months': 15, '0 Call___22 ~ 24 Months': 16, '0 Call___34 ~ 36 Months': 17, '0 Call___43 ~ 45 Months': 18, '0 Call___46 ~ 48 Months': 19}, 'GRP_CALL_TSR-income_demos': {'0 Call___l.$250k+': 0, '0 Call___k.$200k-$249': 1, '0 Call___j.$175k-$199': 2, '0 Call___h.$125k-$149': 3, '1 Calls___f.$75k-$99': 4, '1 Calls___h.$125k-$149': 5, '2 Calls___e.$50k-$74': 6, '0 Call___i.$150k-$174': 7, '2 Calls___f.$75k-$99': 8, '1 Calls___g.$100k-$124': 9, '0 Call___f.$75k-$99': 10, '1 Calls___e.$50k-$74': 11, 'all_other': 12, '0 Call___g.$100k-$124': 13, '0 Call___e.$50k-$74': 14, '1 Calls___a.$1-$14,999': 15, '1 Calls___d.$35k-$49': 16, '0 Call___d.$35k-$49': 17, '0 Call___b.$15k-$24': 18, '0 Call___a.$1-$14,999': 19, '0 Call___c.$25k-$34': 20}, 'GRP_PAYMENT_25DOLLAR-age_demos': {'226 ~ 250 Dollars___65-74': 0, '226 ~ 250 Dollars___55-64': 1, '201 ~ 225 Dollars___65-74': 2, '226 ~ 250 Dollars___45-54': 3, '201 ~ 225 Dollars___55-64': 4, '201 ~ 225 Dollars___45-54': 5, '176 ~ 200 Dollars___65-74': 6, '176 ~ 200 Dollars___55-64': 7, '201 ~ 225 Dollars___75+': 8, '176 ~ 200 Dollars___45-54': 9, '151 ~ 175 Dollars___65-74': 10, '151 ~ 175 Dollars___55-64': 11, '176 ~ 200 Dollars___35-44': 12, '176 ~ 200 Dollars___Unknown': 13, '176 ~ 200 Dollars___75+': 14, '151 ~ 175 Dollars___45-54': 15, '126 ~ 150 Dollars___55-64': 16, 'all_other': 17, '151 ~ 175 Dollars___75+': 18, '151 ~ 175 Dollars___Unknown': 19, '126 ~ 150 Dollars___Unknown': 20}, 'GRP_PAYMENT_25DOLLAR-archetype': {'226 ~ 250 Dollars___Indulgent Empty Nesters': 0, '201 ~ 225 Dollars___Indulgent Empty Nesters': 1, '226 ~ 250 Dollars___Busy Families Achievers': 2, '226 ~ 250 Dollars___Empty Nesters': 3, '201 ~ 225 Dollars___Busy Families Achievers': 4, '176 ~ 200 Dollars___Indulgent Empty Nesters': 5, '201 ~ 225 Dollars___Empty Nesters': 6, '176 ~ 200 Dollars___Busy Families Achievers': 7, '151 ~ 175 Dollars___Indulgent Empty Nesters': 8, '176 ~ 200 Dollars___Empty Nesters': 9, '126 ~ 150 Dollars___Indulgent Empty Nesters': 10, '176 ~ 200 Dollars___Industrious Entertain-Mes': 11, '151 ~ 175 Dollars___Busy Families Achievers': 12, 'all_other': 13, '151 ~ 175 Dollars___Empty Nesters': 14, '126 ~ 150 Dollars___Busy Families Achievers': 15, '151 ~ 175 Dollars___Tech Savvy Singles': 16, '126 ~ 150 Dollars___Empty Nesters': 17, '101 ~ 125 Dollars___Empty Nesters': 18, '151 ~ 175 Dollars___Industrious Entertain-Mes': 19, '126 ~ 150 Dollars___Industrious Entertain-Mes': 20}, 'GRP_PAYMENT_25DOLLAR-ethnic': {'226 ~ 250 Dollars___WESTERN EUROPEAN': 0, '226 ~ 250 Dollars___MEDITERRANEAN': 1, '201 ~ 225 Dollars___WESTERN EUROPEAN': 2, '201 ~ 225 Dollars___MEDITERRANEAN': 3, '201 ~ 225 Dollars___AFRICAN AMERICAN': 4, '226 ~ 250 Dollars___HISPANIC': 5, '176 ~ 200 Dollars___EASTERN EUROPEAN': 6, '176 ~ 200 Dollars___MEDITERRANEAN': 7, '176 ~ 200 Dollars___WESTERN EUROPEAN': 8, '176 ~ 200 Dollars___AFRICAN AMERICAN': 9, '151 ~ 175 Dollars___WESTERN EUROPEAN': 10, '151 ~ 175 Dollars___MEDITERRANEAN': 11, '201 ~ 225 Dollars___HISPANIC': 12, '126 ~ 150 Dollars___WESTERN EUROPEAN': 13, '126 ~ 150 Dollars___MEDITERRANEAN': 14, 'all_other': 15, '151 ~ 175 Dollars___AFRICAN AMERICAN': 16, '176 ~ 200 Dollars___HISPANIC': 17, '151 ~ 175 Dollars___HISPANIC': 18, '101 ~ 125 Dollars___HISPANIC': 19, '126 ~ 150 Dollars___HISPANIC': 20}, 'GRP_PAYMENT_25DOLLAR-grp_payment_change_10dollar': {'226 ~ 250 Dollars___1 ~ 10 Dollars': 0, '226 ~ 250 Dollars___-10 ~ -1 Dollars': 1, '226 ~ 250 Dollars___0 Dollar': 2, '201 ~ 225 Dollars___-10 ~ -1 Dollars': 3, '201 ~ 225 Dollars___1 ~ 10 Dollars': 4, '201 ~ 225 Dollars___0 Dollar': 5, '176 ~ 200 Dollars___-10 ~ -1 Dollars': 6, '176 ~ 200 Dollars___1 ~ 10 Dollars': 7, '151 ~ 175 Dollars___-10 ~ -1 Dollars': 8, '176 ~ 200 Dollars___0 Dollar': 9, '176 ~ 200 Dollars___Under -50 Dollars': 10, '151 ~ 175 Dollars___Under -50 Dollars': 11, '151 ~ 175 Dollars___11 ~ 20 Dollars': 12, 'all_other': 13, '151 ~ 175 Dollars___1 ~ 10 Dollars': 14, '151 ~ 175 Dollars___0 Dollar': 15, '126 ~ 150 Dollars___0 Dollar': 16, '101 ~ 125 Dollars___0 Dollar': 17, '76 ~ 100 Dollars___0 Dollar': 18, '151 ~ 175 Dollars___31 ~ 40 Dollars': 19, '51 ~ 75 Dollars___0 Dollar': 20}, 'GRP_PAYMENT_25DOLLAR-grp_payment_change_5pct': {'226 ~ 250 Dollars___1 ~ 5 Pct': 0, '226 ~ 250 Dollars___0 Pct': 1, '226 ~ 250 Dollars___-5 ~ -1 Pct': 2, '201 ~ 225 Dollars___-5 ~ -1 Pct': 3, '201 ~ 225 Dollars___1 ~ 5 Pct': 4, '201 ~ 225 Dollars___0 Pct': 5, '176 ~ 200 Dollars___-5 ~ -1 Pct': 6, '176 ~ 200 Dollars___0 Pct': 7, '176 ~ 200 Dollars___1 ~ 5 Pct': 8, '151 ~ 175 Dollars___-5 ~ -1 Pct': 9, '176 ~ 200 Dollars___6 ~ 10 Pct': 10, 'all_other': 11, '151 ~ 175 Dollars___1 ~ 5 Pct': 12, '151 ~ 175 Dollars___0 Pct': 13, '126 ~ 150 Dollars___1 ~ 5 Pct': 14, '126 ~ 150 Dollars___0 Pct': 15, '101 ~ 125 Dollars___0 Pct': 16, '76 ~ 100 Dollars___0 Pct': 17, '151 ~ 175 Dollars___6 ~ 10 Pct': 18, '51 ~ 75 Dollars___0 Pct': 19, '126 ~ 150 Dollars___6 ~ 10 Pct': 20}, 'GRP_PAYMENT_25DOLLAR-grp_payment_income': {'226 ~ 250 Dollars___1 ~ 1.99 pct': 0, '226 ~ 250 Dollars___3 ~ 3.99 pct': 1, '226 ~ 250 Dollars___2 ~ 2.99 pct': 2, '226 ~ 250 Dollars___4 ~ 4.99 pct': 3, '201 ~ 225 Dollars___1 ~ 1.99 pct': 4, '201 ~ 225 Dollars___2 ~ 2.99 pct': 5, '201 ~ 225 Dollars___3 ~ 3.99 pct': 6, '201 ~ 225 Dollars___4 ~ 4.99 pct': 7, '176 ~ 200 Dollars___Under 1 pct': 8, '176 ~ 200 Dollars___2 ~ 2.99 pct': 9, '176 ~ 200 Dollars___1 ~ 1.99 pct': 10, '176 ~ 200 Dollars___3 ~ 3.99 pct': 11, '151 ~ 175 Dollars___Under 1 pct': 12, '151 ~ 175 Dollars___1 ~ 1.99 pct': 13, 'all_other': 14, '151 ~ 175 Dollars___3 ~ 3.99 pct': 15, '151 ~ 175 Dollars___2 ~ 2.99 pct': 16, '126 ~ 150 Dollars___2 ~ 2.99 pct': 17, '101 ~ 125 Dollars___1 ~ 1.99 pct': 18, '126 ~ 150 Dollars___1 ~ 1.99 pct': 19, '151 ~ 175 Dollars___4 ~ 4.99 pct': 20}, 'GRP_PAYMENT_25DOLLAR-grp_payment_method': {'226 ~ 250 Dollars___AUTPAY': 0, '226 ~ 250 Dollars___DEBIT': 1, '201 ~ 225 Dollars___AUTPAY': 2, '226 ~ 250 Dollars___CREDIT': 3, '201 ~ 225 Dollars___DEBIT': 4, '176 ~ 200 Dollars___AUTPAY': 5, '201 ~ 225 Dollars___CREDIT': 6, '176 ~ 200 Dollars___DEBIT': 7, '176 ~ 200 Dollars___CREDIT': 8, '151 ~ 175 Dollars___AUTPAY': 9, 'all_other': 10, '151 ~ 175 Dollars___DEBIT': 11, '76 ~ 100 Dollars___AUTPAY': 12, '101 ~ 125 Dollars___AUTPAY': 13, '126 ~ 150 Dollars___AUTPAY': 14, '151 ~ 175 Dollars___CREDIT': 15, '126 ~ 150 Dollars___DEBIT': 16, '51 ~ 75 Dollars___AUTPAY': 17, '126 ~ 150 Dollars___CREDIT': 18, '76 ~ 100 Dollars___CREDIT': 19, '101 ~ 125 Dollars___CREDIT': 20}, 'GRP_PAYMENT_25DOLLAR-grp_tenure_3m': {'226 ~ 250 Dollars___97 ~ 99 Months': 0, '201 ~ 225 Dollars___97 ~ 99 Months': 1, '176 ~ 200 Dollars___97 ~ 99 Months': 2, '151 ~ 175 Dollars___97 ~ 99 Months': 3, '126 ~ 150 Dollars___97 ~ 99 Months': 4, '101 ~ 125 Dollars___97 ~ 99 Months': 5, '76 ~ 100 Dollars___97 ~ 99 Months': 6, 'all_other': 7}, 'GRP_PAYMENT_25DOLLAR-income_demos': {'226 ~ 250 Dollars___l.$250k+': 0, '226 ~ 250 Dollars___h.$125k-$149': 1, '226 ~ 250 Dollars___f.$75k-$99': 2, '226 ~ 250 Dollars___g.$100k-$124': 3, '201 ~ 225 Dollars___h.$125k-$149': 4, '226 ~ 250 Dollars___e.$50k-$74': 5, '201 ~ 225 Dollars___f.$75k-$99': 6, '201 ~ 225 Dollars___e.$50k-$74': 7, '201 ~ 225 Dollars___g.$100k-$124': 8, '176 ~ 200 Dollars___f.$75k-$99': 9, '176 ~ 200 Dollars___e.$50k-$74': 10, '176 ~ 200 Dollars___g.$100k-$124': 11, '176 ~ 200 Dollars___d.$35k-$49': 12, 'all_other': 13, '151 ~ 175 Dollars___e.$50k-$74': 14, '151 ~ 175 Dollars___f.$75k-$99': 15, '151 ~ 175 Dollars___g.$100k-$124': 16, '126 ~ 150 Dollars___e.$50k-$74': 17, '151 ~ 175 Dollars___a.$1-$14,999': 18, '151 ~ 175 Dollars___d.$35k-$49': 19, '126 ~ 150 Dollars___f.$75k-$99': 20}, 'GRP_PAYMENT_CHANGE_10DOLLAR-age_demos': {'-10 ~ -1 Dollars___55-64': 0, '-10 ~ -1 Dollars___65-74': 1, '1 ~ 10 Dollars___65-74': 2, '-10 ~ -1 Dollars___45-54': 3, '1 ~ 10 Dollars___55-64': 4, '1 ~ 10 Dollars___45-54': 5, '0 Dollar___65-74': 6, 'Under -50 Dollars___55-64': 7, '0 Dollar___55-64': 8, '11 ~ 20 Dollars___55-64': 9, 'Under -50 Dollars___45-54': 10, '1 ~ 10 Dollars___75+': 11, '-10 ~ -1 Dollars___75+': 12, '11 ~ 20 Dollars___45-54': 13, '0 Dollar___45-54': 14, '1 ~ 10 Dollars___Unknown': 15, '0 Dollar___75+': 16, '0 Dollar___Unknown': 17, 'all_other': 18, '0 Dollar___35-44': 19, '0 Dollar___25-34': 20}, 'GRP_PAYMENT_CHANGE_10DOLLAR-archetype': {'1 ~ 10 Dollars___Indulgent Empty Nesters': 0, '-10 ~ -1 Dollars___Indulgent Empty Nesters': 1, '-10 ~ -1 Dollars___Busy Families Achievers': 2, '1 ~ 10 Dollars___Busy Families Achievers': 3, '0 Dollar___Indulgent Empty Nesters': 4, '11 ~ 20 Dollars___Indulgent Empty Nesters': 5, '-10 ~ -1 Dollars___Empty Nesters': 6, 'Under -50 Dollars___Busy Families Achievers': 7, '1 ~ 10 Dollars___Empty Nesters': 8, 'Under -50 Dollars___Indulgent Empty Nesters': 9, '0 Dollar___Busy Families Achievers': 10, '0 Dollar___Empty Nesters': 11, 'Under -50 Dollars___Empty Nesters': 12, '11 ~ 20 Dollars___Empty Nesters': 13, 'all_other': 14, '0 Dollar___Movers and Shakers': 15, '0 Dollar___Busy Families Dreamers': 16, '0 Dollar___Industrious Entertain-Mes': 17, '0 Dollar___Tech Savvy Singles': 18, '31 ~ 40 Dollars___Empty Nesters': 19, 'Over 50 Dollars___Empty Nesters': 20}, 'GRP_PAYMENT_CHANGE_10DOLLAR-ethnic': {'-10 ~ -1 Dollars___WESTERN EUROPEAN': 0, '1 ~ 10 Dollars___WESTERN EUROPEAN': 1, '-10 ~ -1 Dollars___MEDITERRANEAN': 2, '1 ~ 10 Dollars___MEDITERRANEAN': 3, '11 ~ 20 Dollars___WESTERN EUROPEAN': 4, '0 Dollar___MEDITERRANEAN': 5, '0 Dollar___WESTERN EUROPEAN': 6, '21 ~ 30 Dollars___WESTERN EUROPEAN': 7, 'Under -50 Dollars___WESTERN EUROPEAN': 8, '31 ~ 40 Dollars___WESTERN EUROPEAN': 9, '0 Dollar___EASTERN EUROPEAN': 10, '0 Dollar___AFRICAN AMERICAN': 11, '0 Dollar___MIDDLE EAST NON-ARAB': 12, '0 Dollar___CARIBBEAN NON-HISPANIC': 13, 'all_other': 14, 'Over 50 Dollars___WESTERN EUROPEAN': 15, '1 ~ 10 Dollars___HISPANIC': 16, 'Under -50 Dollars___HISPANIC': 17, '11 ~ 20 Dollars___HISPANIC': 18, '0 Dollar___HISPANIC': 19, 'Over 50 Dollars___HISPANIC': 20}, 'GRP_PAYMENT_CHANGE_10DOLLAR-grp_payment_change_5pct': {'-10 ~ -1 Dollars___-5 ~ -1 Pct': 0, '-50 ~ -41 Dollars___-10 ~ -6 Pct': 1, '1 ~ 10 Dollars___1 ~ 5 Pct': 2, '-30 ~ -21 Dollars___-5 ~ -1 Pct': 3, 'Under -50 Dollars___-15 ~ -11 Pct': 4, 'Under -50 Dollars___-20 ~ -16 Pct': 5, '-40 ~ -31 Dollars___-10 ~ -6 Pct': 6, '0 Dollar___0 Pct': 7, '11 ~ 20 Dollars___1 ~ 5 Pct': 8, '21 ~ 30 Dollars___1 ~ 5 Pct': 9, '-20 ~ -11 Dollars___-5 ~ -1 Pct': 10, '41 ~ 50 Dollars___6 ~ 10 Pct': 11, '-30 ~ -21 Dollars___-10 ~ -6 Pct': 12, 'all_other': 13, 'Under -50 Dollars___Under -30 Pct': 14, '31 ~ 40 Dollars___6 ~ 10 Pct': 15, 'Over 50 Dollars___11 ~ 15 Pct': 16}, 'GRP_PAYMENT_CHANGE_10DOLLAR-grp_payment_income': {'-10 ~ -1 Dollars___2 ~ 2.99 pct': 0, '-10 ~ -1 Dollars___1 ~ 1.99 pct': 1, '-10 ~ -1 Dollars___3 ~ 3.99 pct': 2, '1 ~ 10 Dollars___3 ~ 3.99 pct': 3, '1 ~ 10 Dollars___2 ~ 2.99 pct': 4, '1 ~ 10 Dollars___1 ~ 1.99 pct': 5, 'Under -50 Dollars___1 ~ 1.99 pct': 6, '0 Dollar___2 ~ 2.99 pct': 7, '11 ~ 20 Dollars___1 ~ 1.99 pct': 8, '0 Dollar___3 ~ 3.99 pct': 9, '0 Dollar___1 ~ 1.99 pct': 10, 'Under -50 Dollars___2 ~ 2.99 pct': 11, '0 Dollar___Under 1 pct': 12, '0 Dollar___4 ~ 4.99 pct': 13, '0 Dollar___10 ~ 14.99 pct': 14, '11 ~ 20 Dollars___2 ~ 2.99 pct': 15, '0 Dollar___5 ~ 6.99 pct': 16, 'all_other': 17, '0 Dollar___Over 20 pct': 18, '0 Dollar___7 ~ 9.99 pct': 19, 'Over 50 Dollars___1 ~ 1.99 pct': 20}, 'GRP_PAYMENT_CHANGE_10DOLLAR-grp_payment_method': {'-10 ~ -1 Dollars___DEBIT': 0, '-10 ~ -1 Dollars___AUTPAY': 1, '1 ~ 10 Dollars___AUTPAY': 2, '1 ~ 10 Dollars___DEBIT': 3, '-10 ~ -1 Dollars___CREDIT': 4, 'Under -50 Dollars___AUTPAY': 5, '0 Dollar___AUTPAY': 6, '11 ~ 20 Dollars___AUTPAY': 7, '0 Dollar___DEBIT': 8, '-20 ~ -11 Dollars___AUTPAY': 9, '1 ~ 10 Dollars___CREDIT': 10, '21 ~ 30 Dollars___AUTPAY': 11, '31 ~ 40 Dollars___AUTPAY': 12, 'all_other': 13, 'Under -50 Dollars___CREDIT': 14, '0 Dollar___CREDIT': 15, '11 ~ 20 Dollars___CREDIT': 16, 'Over 50 Dollars___AUTPAY': 17, '21 ~ 30 Dollars___CREDIT': 18, '31 ~ 40 Dollars___CREDIT': 19, 'Over 50 Dollars___CREDIT': 20}, 'GRP_PAYMENT_CHANGE_10DOLLAR-grp_tenure_3m': {'1 ~ 10 Dollars___97 ~ 99 Months': 0, '-10 ~ -1 Dollars___97 ~ 99 Months': 1, '-40 ~ -31 Dollars___97 ~ 99 Months': 2, '-30 ~ -21 Dollars___97 ~ 99 Months': 3, '0 Dollar___97 ~ 99 Months': 4, '-20 ~ -11 Dollars___97 ~ 99 Months': 5, '11 ~ 20 Dollars___97 ~ 99 Months': 6, '31 ~ 40 Dollars___97 ~ 99 Months': 7, 'Under -50 Dollars___97 ~ 99 Months': 8, '21 ~ 30 Dollars___97 ~ 99 Months': 9, '41 ~ 50 Dollars___97 ~ 99 Months': 10, 'Over 50 Dollars___97 ~ 99 Months': 11, '0 Dollar___16 ~ 18 Months': 12, 'all_other': 13, '0 Dollar___40 ~ 42 Months': 14, '0 Dollar___28 ~ 30 Months': 15, '0 Dollar___19 ~ 21 Months': 16, '0 Dollar___31 ~ 33 Months': 17, '0 Dollar___22 ~ 24 Months': 18, '0 Dollar___43 ~ 45 Months': 19}, 'GRP_PAYMENT_CHANGE_10DOLLAR-income_demos': {'-10 ~ -1 Dollars___f.$75k-$99': 0, '-10 ~ -1 Dollars___g.$100k-$124': 1, '1 ~ 10 Dollars___f.$75k-$99': 2, '-10 ~ -1 Dollars___e.$50k-$74': 3, '1 ~ 10 Dollars___g.$100k-$124': 4, '0 Dollar___j.$175k-$199': 5, '1 ~ 10 Dollars___e.$50k-$74': 6, '0 Dollar___l.$250k+': 7, '0 Dollar___k.$200k-$249': 8, '0 Dollar___h.$125k-$149': 9, '0 Dollar___i.$150k-$174': 10, '0 Dollar___f.$75k-$99': 11, '0 Dollar___e.$50k-$74': 12, '0 Dollar___g.$100k-$124': 13, 'Under -50 Dollars___e.$50k-$74': 14, '11 ~ 20 Dollars___e.$50k-$74': 15, 'all_other': 16, '0 Dollar___d.$35k-$49': 17, '0 Dollar___a.$1-$14,999': 18, '0 Dollar___c.$25k-$34': 19, '0 Dollar___b.$15k-$24': 20}, 'GRP_PAYMENT_CHANGE_5PCT-age_demos': {'-5 ~ -1 Pct___65-74': 0, '-5 ~ -1 Pct___55-64': 1, '1 ~ 5 Pct___65-74': 2, '-5 ~ -1 Pct___45-54': 3, '0 Pct___65-74': 4, '1 ~ 5 Pct___55-64': 5, '1 ~ 5 Pct___45-54': 6, '0 Pct___55-64': 7, '0 Pct___45-54': 8, '-5 ~ -1 Pct___75+': 9, '1 ~ 5 Pct___75+': 10, '-5 ~ -1 Pct___Unknown': 11, '6 ~ 10 Pct___55-64': 12, '0 Pct___75+': 13, '1 ~ 5 Pct___Unknown': 14, '1 ~ 5 Pct___35-44': 15, '0 Pct___Unknown': 16, '0 Pct___35-44': 17, 'all_other': 18, '1 ~ 5 Pct___25-34': 19, '0 Pct___25-34': 20}, 'GRP_PAYMENT_CHANGE_5PCT-archetype': {'-5 ~ -1 Pct___Indulgent Empty Nesters': 0, '1 ~ 5 Pct___Indulgent Empty Nesters': 1, '-5 ~ -1 Pct___Busy Families Achievers': 2, '0 Pct___Indulgent Empty Nesters': 3, '1 ~ 5 Pct___Busy Families Achievers': 4, '-5 ~ -1 Pct___Empty Nesters': 5, '6 ~ 10 Pct___Indulgent Empty Nesters': 6, '0 Pct___Busy Families Achievers': 7, '-5 ~ -1 Pct___Industrious Entertain-Mes': 8, '-10 ~ -6 Pct___Empty Nesters': 9, '1 ~ 5 Pct___Empty Nesters': 10, '0 Pct___Empty Nesters': 11, '6 ~ 10 Pct___Busy Families Achievers': 12, '1 ~ 5 Pct___Industrious Entertain-Mes': 13, '0 Pct___Movers and Shakers': 14, '0 Pct___Busy Families Dreamers': 15, 'all_other': 16, '1 ~ 5 Pct___Tech Savvy Singles': 17, '0 Pct___Industrious Entertain-Mes': 18, '0 Pct___Tech Savvy Singles': 19, '6 ~ 10 Pct___Empty Nesters': 20}, 'GRP_PAYMENT_CHANGE_5PCT-ethnic': {'-5 ~ -1 Pct___WESTERN EUROPEAN': 0, '1 ~ 5 Pct___WESTERN EUROPEAN': 1, '-5 ~ -1 Pct___MEDITERRANEAN': 2, '-10 ~ -6 Pct___WESTERN EUROPEAN': 3, '1 ~ 5 Pct___MEDITERRANEAN': 4, '-5 ~ -1 Pct___EASTERN EUROPEAN': 5, '0 Pct___MEDITERRANEAN': 6, '0 Pct___WESTERN EUROPEAN': 7, '1 ~ 5 Pct___EASTERN EUROPEAN': 8, '0 Pct___EASTERN EUROPEAN': 9, '0 Pct___AFRICAN AMERICAN': 10, '0 Pct___MIDDLE EAST NON-ARAB': 11, '-5 ~ -1 Pct___AFRICAN AMERICAN': 12, '1 ~ 5 Pct___AFRICAN AMERICAN': 13, '6 ~ 10 Pct___WESTERN EUROPEAN': 14, '0 Pct___CARIBBEAN NON-HISPANIC': 15, '-5 ~ -1 Pct___HISPANIC': 16, 'all_other': 17, '1 ~ 5 Pct___HISPANIC': 18, '0 Pct___HISPANIC': 19, '6 ~ 10 Pct___HISPANIC': 20}, 'GRP_PAYMENT_CHANGE_5PCT-grp_payment_income': {'-5 ~ -1 Pct___2 ~ 2.99 pct': 0, '-5 ~ -1 Pct___3 ~ 3.99 pct': 1, '-5 ~ -1 Pct___1 ~ 1.99 pct': 2, '1 ~ 5 Pct___3 ~ 3.99 pct': 3, '1 ~ 5 Pct___Under 1 pct': 4, '1 ~ 5 Pct___2 ~ 2.99 pct': 5, '1 ~ 5 Pct___1 ~ 1.99 pct': 6, '0 Pct___2 ~ 2.99 pct': 7, '1 ~ 5 Pct___4 ~ 4.99 pct': 8, '0 Pct___3 ~ 3.99 pct': 9, '0 Pct___1 ~ 1.99 pct': 10, '0 Pct___Under 1 pct': 11, '0 Pct___4 ~ 4.99 pct': 12, '0 Pct___10 ~ 14.99 pct': 13, '1 ~ 5 Pct___5 ~ 6.99 pct': 14, '0 Pct___5 ~ 6.99 pct': 15, '0 Pct___Over 20 pct': 16, 'all_other': 17, '6 ~ 10 Pct___1 ~ 1.99 pct': 18, '0 Pct___7 ~ 9.99 pct': 19, '6 ~ 10 Pct___2 ~ 2.99 pct': 20}, 'GRP_PAYMENT_CHANGE_5PCT-grp_payment_method': {'-5 ~ -1 Pct___AUTPAY': 0, '-5 ~ -1 Pct___DEBIT': 1, '-10 ~ -6 Pct___AUTPAY': 2, '1 ~ 5 Pct___AUTPAY': 3, '1 ~ 5 Pct___DEBIT': 4, '0 Pct___AUTPAY': 5, '-5 ~ -1 Pct___CREDIT': 6, '0 Pct___DEBIT': 7, '1 ~ 5 Pct___CREDIT': 8, '6 ~ 10 Pct___AUTPAY': 9, '-10 ~ -6 Pct___CREDIT': 10, '0 Pct___CREDIT': 11, 'all_other': 12, '6 ~ 10 Pct___DEBIT': 13, '6 ~ 10 Pct___CREDIT': 14, '11 ~ 15 Pct___CREDIT': 15}, 'GRP_PAYMENT_CHANGE_5PCT-grp_tenure_3m': {'1 ~ 5 Pct___97 ~ 99 Months': 0, '-10 ~ -6 Pct___97 ~ 99 Months': 1, '-5 ~ -1 Pct___97 ~ 99 Months': 2, '-15 ~ -11 Pct___97 ~ 99 Months': 3, '0 Pct___97 ~ 99 Months': 4, '6 ~ 10 Pct___97 ~ 99 Months': 5, '0 Pct___16 ~ 18 Months': 6, 'all_other': 7, '0 Pct___40 ~ 42 Months': 8, '0 Pct___28 ~ 30 Months': 9, '0 Pct___19 ~ 21 Months': 10, '0 Pct___31 ~ 33 Months': 11, '0 Pct___22 ~ 24 Months': 12, '0 Pct___43 ~ 45 Months': 13}, 'GRP_PAYMENT_CHANGE_5PCT-income_demos': {'-5 ~ -1 Pct___f.$75k-$99': 0, '-5 ~ -1 Pct___g.$100k-$124': 1, '0 Pct___j.$175k-$199': 2, '-5 ~ -1 Pct___e.$50k-$74': 3, '1 ~ 5 Pct___h.$125k-$149': 4, '0 Pct___l.$250k+': 5, '0 Pct___k.$200k-$249': 6, '1 ~ 5 Pct___f.$75k-$99': 7, '1 ~ 5 Pct___g.$100k-$124': 8, '0 Pct___h.$125k-$149': 9, '0 Pct___i.$150k-$174': 10, '1 ~ 5 Pct___e.$50k-$74': 11, '0 Pct___f.$75k-$99': 12, '0 Pct___e.$50k-$74': 13, '0 Pct___g.$100k-$124': 14, 'all_other': 15, '1 ~ 5 Pct___d.$35k-$49': 16, '0 Pct___d.$35k-$49': 17, '0 Pct___a.$1-$14,999': 18, '0 Pct___c.$25k-$34': 19, '0 Pct___b.$15k-$24': 20}, 'GRP_PAYMENT_INCOME-age_demos': {'2 ~ 2.99 pct___65-74': 0, '3 ~ 3.99 pct___65-74': 1, '1 ~ 1.99 pct___55-64': 2, '2 ~ 2.99 pct___55-64': 3, '1 ~ 1.99 pct___65-74': 4, '3 ~ 3.99 pct___55-64': 5, 'Under 1 pct___55-64': 6, '3 ~ 3.99 pct___45-54': 7, '1 ~ 1.99 pct___45-54': 8, '2 ~ 2.99 pct___45-54': 9, 'Under 1 pct___45-54': 10, '2 ~ 2.99 pct___75+': 11, '3 ~ 3.99 pct___75+': 12, 'all_other': 13, '2 ~ 2.99 pct___35-44': 14, '2 ~ 2.99 pct___Unknown': 15, '3 ~ 3.99 pct___Unknown': 16, '1 ~ 1.99 pct___35-44': 17, '1 ~ 1.99 pct___Unknown': 18, '2 ~ 2.99 pct___25-34': 19, '1 ~ 1.99 pct___25-34': 20}, 'GRP_PAYMENT_INCOME-archetype': {'2 ~ 2.99 pct___Indulgent Empty Nesters': 0, '1 ~ 1.99 pct___Indulgent Empty Nesters': 1, '3 ~ 3.99 pct___Indulgent Empty Nesters': 2, 'Under 1 pct___Indulgent Empty Nesters': 3, '2 ~ 2.99 pct___Busy Families Achievers': 4, '3 ~ 3.99 pct___Busy Families Achievers': 5, '1 ~ 1.99 pct___Busy Families Achievers': 6, '3 ~ 3.99 pct___Empty Nesters': 7, '2 ~ 2.99 pct___Empty Nesters': 8, 'Under 1 pct___Busy Families Achievers': 9, '4 ~ 4.99 pct___Empty Nesters': 10, 'Under 1 pct___Empty Nesters': 11, '1 ~ 1.99 pct___Empty Nesters': 12, 'all_other': 13, '5 ~ 6.99 pct___Empty Nesters': 14, 'Over 20 pct___Empty Nesters': 15, '10 ~ 14.99 pct___Empty Nesters': 16, '3 ~ 3.99 pct___Industrious Entertain-Mes': 17, '7 ~ 9.99 pct___Empty Nesters': 18, '2 ~ 2.99 pct___Industrious Entertain-Mes': 19, '1 ~ 1.99 pct___Industrious Entertain-Mes': 20}, 'GRP_PAYMENT_INCOME-ethnic': {'2 ~ 2.99 pct___WESTERN EUROPEAN': 0, '3 ~ 3.99 pct___WESTERN EUROPEAN': 1, '2 ~ 2.99 pct___MEDITERRANEAN': 2, '3 ~ 3.99 pct___MEDITERRANEAN': 3, '1 ~ 1.99 pct___WESTERN EUROPEAN': 4, '1 ~ 1.99 pct___MEDITERRANEAN': 5, 'Under 1 pct___WESTERN EUROPEAN': 6, '4 ~ 4.99 pct___WESTERN EUROPEAN': 7, '2 ~ 2.99 pct___EASTERN EUROPEAN': 8, 'Under 1 pct___MEDITERRANEAN': 9, '1 ~ 1.99 pct___EASTERN EUROPEAN': 10, '5 ~ 6.99 pct___WESTERN EUROPEAN': 11, '2 ~ 2.99 pct___AFRICAN AMERICAN': 12, 'all_other': 13, 'Over 20 pct___HISPANIC': 14, '4 ~ 4.99 pct___HISPANIC': 15, '3 ~ 3.99 pct___HISPANIC': 16, '1 ~ 1.99 pct___HISPANIC': 17, '2 ~ 2.99 pct___HISPANIC': 18, '5 ~ 6.99 pct___HISPANIC': 19, '7 ~ 9.99 pct___HISPANIC': 20}, 'GRP_PAYMENT_INCOME-grp_payment_method': {'2 ~ 2.99 pct___AUTPAY': 0, '3 ~ 3.99 pct___AUTPAY': 1, '1 ~ 1.99 pct___AUTPAY': 2, '3 ~ 3.99 pct___DEBIT': 3, '4 ~ 4.99 pct___AUTPAY': 4, '2 ~ 2.99 pct___DEBIT': 5, 'Under 1 pct___AUTPAY': 6, '1 ~ 1.99 pct___DEBIT': 7, 'Under 1 pct___DEBIT': 8, '5 ~ 6.99 pct___AUTPAY': 9, 'all_other': 10, '7 ~ 9.99 pct___AUTPAY': 11, '3 ~ 3.99 pct___CREDIT': 12, '2 ~ 2.99 pct___CREDIT': 13, '1 ~ 1.99 pct___CREDIT': 14, 'Under 1 pct___CREDIT': 15, '10 ~ 14.99 pct___CREDIT': 16, '5 ~ 6.99 pct___CREDIT': 17, '4 ~ 4.99 pct___CREDIT': 18, 'Over 20 pct___CREDIT': 19, '7 ~ 9.99 pct___CREDIT': 20}, 'GRP_PAYMENT_INCOME-grp_tenure_3m': {'1 ~ 1.99 pct___97 ~ 99 Months': 0, '2 ~ 2.99 pct___97 ~ 99 Months': 1, '3 ~ 3.99 pct___97 ~ 99 Months': 2, 'Under 1 pct___97 ~ 99 Months': 3, '4 ~ 4.99 pct___97 ~ 99 Months': 4, '10 ~ 14.99 pct___97 ~ 99 Months': 5, '5 ~ 6.99 pct___97 ~ 99 Months': 6, 'Over 20 pct___97 ~ 99 Months': 7, '7 ~ 9.99 pct___97 ~ 99 Months': 8, 'all_other': 9}, 'GRP_PAYMENT_INCOME-income_demos': {'1 ~ 1.99 pct___k.$200k-$249': 0, '3 ~ 3.99 pct___f.$75k-$99': 1, '4 ~ 4.99 pct___e.$50k-$74': 2, '1 ~ 1.99 pct___j.$175k-$199': 3, '2 ~ 2.99 pct___g.$100k-$124': 4, '1 ~ 1.99 pct___i.$150k-$174': 5, 'Under 1 pct___l.$250k+': 6, '5 ~ 6.99 pct___d.$35k-$49': 7, '1 ~ 1.99 pct___h.$125k-$149': 8, '2 ~ 2.99 pct___f.$75k-$99': 9, '3 ~ 3.99 pct___e.$50k-$74': 10, '7 ~ 9.99 pct___c.$25k-$34': 11, '10 ~ 14.99 pct___b.$15k-$24': 12, 'Over 20 pct___a.$1-$14,999': 13, 'all_other': 14, '1 ~ 1.99 pct___g.$100k-$124': 15, '2 ~ 2.99 pct___e.$50k-$74': 16, '4 ~ 4.99 pct___d.$35k-$49': 17, '1 ~ 1.99 pct___f.$75k-$99': 18, '5 ~ 6.99 pct___c.$25k-$34': 19, '7 ~ 9.99 pct___b.$15k-$24': 20}, 'GRP_PAYMENT_METHOD-age_demos': {'AUTPAY___65-74': 0, 'AUTPAY___55-64': 1, 'DEBIT___55-64': 2, 'DEBIT___65-74': 3, 'AUTPAY___45-54': 4, 'DEBIT___45-54': 5, 'CREDIT___55-64': 6, 'CREDIT___65-74': 7, 'AUTPAY___75+': 8, 'AUTPAY___Unknown': 9, 'AUTPAY___35-44': 10, 'CREDIT___45-54': 11, 'DEBIT___Unknown': 12, 'DEBIT___75+': 13, 'DEBIT___35-44': 14, 'CREDIT___75+': 15, 'all_other': 16, 'AUTPAY___25-34': 17, 'CREDIT___Unknown': 18, 'CREDIT___35-44': 19, 'CREDIT___25-34': 20}, 'GRP_PAYMENT_METHOD-archetype': {'AUTPAY___Indulgent Empty Nesters': 0, 'DEBIT___Indulgent Empty Nesters': 1, 'AUTPAY___Busy Families Achievers': 2, 'DEBIT___Busy Families Achievers': 3, 'CREDIT___Indulgent Empty Nesters': 4, 'DEBIT___Movers and Shakers': 5, 'AUTPAY___Empty Nesters': 6, 'DEBIT___Empty Nesters': 7, 'AUTPAY___Movers and Shakers': 8, 'CREDIT___Busy Families Achievers': 9, 'CREDIT___Empty Nesters': 10, 'all_other': 11, 'DEBIT___Industrious Entertain-Mes': 12, 'AUTPAY___Industrious Entertain-Mes': 13, 'CREDIT___Busy Families Dreamers': 14, 'CREDIT___Movers and Shakers': 15, 'CREDIT___Tech Savvy Singles': 16, 'CREDIT___Industrious Entertain-Mes': 17, 'AUTPAY___Tech Savvy Singles': 18}, 'GRP_PAYMENT_METHOD-ethnic': {'AUTPAY___WESTERN EUROPEAN': 0, 'DEBIT___WESTERN EUROPEAN': 1, 'AUTPAY___MEDITERRANEAN': 2, 'DEBIT___MEDITERRANEAN': 3, 'AUTPAY___MIDDLE EAST NON-ARAB': 4, 'AUTPAY___EASTERN EUROPEAN': 5, 'DEBIT___EASTERN EUROPEAN': 6, 'CREDIT___MEDITERRANEAN': 7, 'CREDIT___WESTERN EUROPEAN': 8, 'DEBIT___AFRICAN AMERICAN': 9, 'AUTPAY___AFRICAN AMERICAN': 10, 'CREDIT___CARIBBEAN NON-HISPANIC': 11, 'CREDIT___AFRICAN AMERICAN': 12, 'CREDIT___EASTERN EUROPEAN': 13, 'all_other': 14, 'AUTPAY___HISPANIC': 15, 'DEBIT___HISPANIC': 16, 'AUTPAY___EAST ASIAN': 17, 'CREDIT___HISPANIC': 18, 'AUTPAY___SOUTH ASIAN': 19}, 'GRP_PAYMENT_METHOD-grp_tenure_3m': {'AUTPAY___97 ~ 99 Months': 0, 'DEBIT___97 ~ 99 Months': 1, 'CHECK___97 ~ 99 Months': 2, 'CREDIT___97 ~ 99 Months': 3, 'AUTPAY___16 ~ 18 Months': 4, 'CREDIT___16 ~ 18 Months': 5, 'all_other': 6, 'CREDIT___13 ~ 15 Months': 7, 'CREDIT___40 ~ 42 Months': 8, 'CREDIT___28 ~ 30 Months': 9, 'AUTPAY___19 ~ 21 Months': 10, 'CREDIT___19 ~ 21 Months': 11, 'CREDIT___22 ~ 24 Months': 12, 'CREDIT___25 ~ 27 Months': 13}, 'GRP_PAYMENT_METHOD-income_demos': {'AUTPAY___l.$250k+': 0, 'AUTPAY___j.$175k-$199': 1, 'AUTPAY___k.$200k-$249': 2, 'AUTPAY___h.$125k-$149': 3, 'AUTPAY___f.$75k-$99': 4, 'AUTPAY___g.$100k-$124': 5, 'DEBIT___f.$75k-$99': 6, 'AUTPAY___e.$50k-$74': 7, 'DEBIT___e.$50k-$74': 8, 'DEBIT___g.$100k-$124': 9, 'all_other': 10, 'AUTPAY___c.$25k-$34': 11, 'AUTPAY___d.$35k-$49': 12, 'CREDIT___f.$75k-$99': 13, 'CREDIT___e.$50k-$74': 14, 'AUTPAY___b.$15k-$24': 15, 'CREDIT___g.$100k-$124': 16, 'CREDIT___a.$1-$14,999': 17, 'CREDIT___b.$15k-$24': 18, 'CREDIT___c.$25k-$34': 19, 'CREDIT___d.$35k-$49': 20}, 'GRP_TENURE_3M-age_demos': {'97 ~ 99 Months___55-64': 0, '97 ~ 99 Months___65-74': 1, '97 ~ 99 Months___45-54': 2, '97 ~ 99 Months___35-44': 3, '97 ~ 99 Months___Unknown': 4, '97 ~ 99 Months___25-34': 5, '97 ~ 99 Months___75+': 6, 'all_other': 7}, 'GRP_TENURE_3M-archetype': {'97 ~ 99 Months___Indulgent Empty Nesters': 0, '97 ~ 99 Months___Busy Families Achievers': 1, '97 ~ 99 Months___Movers and Shakers': 2, '97 ~ 99 Months___Empty Nesters': 3, '97 ~ 99 Months___Industrious Entertain-Mes': 4, '97 ~ 99 Months___Busy Families Dreamers': 5, '97 ~ 99 Months___Tech Savvy Singles': 6, 'all_other': 7}, 'GRP_TENURE_3M-ethnic': {'97 ~ 99 Months___WESTERN EUROPEAN': 0, '97 ~ 99 Months___MEDITERRANEAN': 1, '97 ~ 99 Months___MIDDLE EAST NON-ARAB': 2, '97 ~ 99 Months___EASTERN EUROPEAN': 3, '97 ~ 99 Months___CARIBBEAN NON-HISPANIC': 4, '97 ~ 99 Months___AFRICAN AMERICAN': 5, '97 ~ 99 Months___HISPANIC': 6, 'all_other': 7}, 'GRP_TENURE_3M-income_demos': {'97 ~ 99 Months___i.$150k-$174': 0, '97 ~ 99 Months___h.$125k-$149': 1, '97 ~ 99 Months___k.$200k-$249': 2, '97 ~ 99 Months___j.$175k-$199': 3, '97 ~ 99 Months___l.$250k+': 4, '97 ~ 99 Months___f.$75k-$99': 5, '97 ~ 99 Months___g.$100k-$124': 6, '97 ~ 99 Months___e.$50k-$74': 7, '97 ~ 99 Months___b.$15k-$24': 8, '97 ~ 99 Months___d.$35k-$49': 9, '97 ~ 99 Months___a.$1-$14,999': 10, '97 ~ 99 Months___c.$25k-$34': 11, 'all_other': 12}, 'account_pend_disco_frq': {'N': 0, 'Y': 1}, 'age': {'all_other': 0, 'Pre-Retirement (55-64)': 1, 'Retired (65+)': 2, 'Working Years (35-54)': 3, 'Young (<35)': 4}, 'age_demos': {'65-74': 0, '55-64': 1, '45-54': 2, '75+': 3, '35-44': 4, 'Unknown': 5, '18-24': 6, '25-34': 7}, 'anydvrbox': {'Y': 0, 'N': 1}, 'archetype': {'all_other': 0, 'Indulgent Empty Nesters': 1, 'Busy Families Achievers': 2, 'Empty Nesters': 3, 'Movers and Shakers': 4, 'Busy Families Dreamers': 5, 'Industrious Entertain-Mes': 6, 'Tech Savvy Singles': 7, 'Tech Sensible': 8}, 'archetype_grp': {'all_other': 0, 'Indulgent Empty Nesters': 1, 'Movers and Shakers': 2, 'Industrious Entertain-Mes': 3, 'Tech Savvy Singles': 4}, 'baserev_grp2_m2': {'$165-$170': 0, '$170-$175': 1, '$175-$180': 2, '$180-$185': 3, '$160-$165': 4, '$145-$150': 5, '$150-$155': 6, '$155-$160': 7, '$140-$145': 8, '$135-$140': 9, '$130-$135': 10, '$125-$130': 11, 'all_other': 12, '$120-$125': 13, '$105-$110': 14, '$115-$120': 15, '$110-$115': 16, '$95-$100': 17, '$75-$80': 18, '$85-$90': 19, '$100-$105': 20}, 'baserev_grp_m2': {'$200-$225': 0, '$175-$200': 1, '$150-$175': 2, 'all_other': 3, '< $25': 4, '$125-$150': 5, '$100-$125': 6, '$75-$100': 7, '$50-$75': 8}, 'bill_sub_m1': {'N': 0, 'Y': 1}, 'billdisp_sub_m1': {'N': 0, 'Y': 1}, 'boxswap_sub_m1': {'Y': 0, 'N': 1}, 'boxswap_sub_m2': {'Y': 0, 'N': 1}, 'boxswap_sub_m3': {'Y': 0, 'N': 1}, 'boxtag_m1': {'SAMSUNG+OTHER': 0, 'NO SAMSUNG-OTHBOX': 1, 'ONLY SAMSUNG': 2, 'NO BOX': 3}, 'boxtag_m2': {'SAMSUNG+OTHER': 0, 'NO SAMSUNG-OTHBOX': 1, 'ONLY SAMSUNG': 2, 'NO BOX': 3}, 'childrenflg': {'Y': 0, 'N': 1}, 'combo_samsung': {'SAMSUNG+OTHER': 0, 'NO SAMSUNG-OTHBOX': 1, 'ONLY_SAMSUNG': 2, 'NO BOX': 3}, 'commprod_ind': {'N': 0}, 'competitive_area': {'Non-Competitive Area': 0, 'U-verse Competitive Area': 1, 'Pre-Fios Competitive Area': 2, 'Fios Competitive Area': 3, 'Fios ONT Competitive Area': 4}, 'csc_sub_m1': {'N': 0, 'Y': 1}, 'csr_calls_m0': {'N': 0, 'Y': 1}, 'csr_calls_m1': {'N': 0, 'Y': 1}, 'csr_calls_m2': {'Y': 0, 'N': 1}, 'csr_calls_m3': {'N': 0, 'Y': 1}, 'csr_calls_m4': {'N': 0, 'Y': 1}, 'csr_calls_m5': {'N': 0, 'Y': 1}, 'csr_calls_m6': {'N': 0, 'Y': 1}, 'curr_games_combo_str_desc2_m1': {'all_other': 0, 'NO GAMES SVC': 1}, 'curr_games_combo_str_desc2_m2': {'all_other': 0, 'NO GAMES SVC': 1}, 'curr_games_combo_str_desc2_m3': {'all_other': 0, 'NO GAMES SVC': 1}, 'curr_games_combo_str_desc2_m4': {'all_other': 0, 'NO GAMES SVC': 1}, 'curr_intl_combo_str_desc2_m1': {'NO INTERNATIONAL SVC': 0, 'all_other': 1, 'IO EN ESPANOL': 2}, 'curr_intl_combo_str_desc2_m2': {'NO INTERNATIONAL SVC': 0, 'all_other': 1, 'IO EN ESPANOL': 2}, 'curr_intl_combo_str_desc2_m3': {'NO INTERNATIONAL SVC': 0, 'all_other': 1, 'IO EN ESPANOL': 2}, 'curr_intl_combo_str_desc2_m4': {'NO INTERNATIONAL SVC': 0, 'all_other': 1, 'IO EN ESPANOL': 2}, 'curr_io_combo_str_desc2_m1': {'DVR+IO SPORTS PAK+FREE NAVIGATOR PLUS+SPORTS SURCHARGE': 0, 'DVR+RS-DVR 500GB PAY+FREE NAVIGATOR PLUS+SPORTS SURCHARGE+RS-DVR 500GB PAY': 1, 'DVR+FREE NAVIGATOR PLUS+SPORTS SURCHARGE': 2, 'IO SPORTS PAK+FREE NAVIGATOR PLUS+SPORTS SURCHARGE': 3, 'IO SPORTS PAK+RS-DVR 500GB PAY+FREE NAVIGATOR PLUS+SPORTS SURCHARGE+RS-DVR 500GB PAY': 4, 'FREE NAVIGATOR PLUS+SPORTS SURCHARGE': 5, 'IO SPORTS PAK+FREE NAVIGATOR PLUS+SPORTS SURCHARGE+REWIND BUFFER - NON CHRG+RS-DVR PLUS': 6, 'FREE NAVIGATOR PLUS+SPORTS SURCHARGE+REWIND BUFFER - NON CHRG+RS-DVR PLUS': 7, 'FREE NAVIGATOR PLUS': 8, 'RS-DVR 500GB PAY+FREE NAVIGATOR PLUS+SPORTS SURCHARGE+RS-DVR 500GB PAY': 9, 'FREE NAVIGATOR PLUS+BROADCAST TV SURCHARGE': 10, 'FREE NAVIGATOR+SPORTS SURCHARGE': 11, 'all_other': 12, 'FREE NAVIGATOR+BROADCAST TV SURCHARGE': 13, 'FREE NAVIGATOR PLUS+SPORTS SURCHARGE+TRK RW BUFFER': 14, 'FREE NAVIGATOR': 15, 'IO ESPANOL+SPORTS SURCHARGE': 16, 'FREE NAVIGATOR+OPT APP NO STB': 17}, 'curr_io_combo_str_desc2_m2': {'DVR+IO SPORTS PAK+FREE NAVIGATOR PLUS+SPORTS SURCHARGE': 0, 'DVR+RS-DVR 500GB PAY+FREE NAVIGATOR PLUS+SPORTS SURCHARGE+RS-DVR 500GB PAY': 1, 'DVR+FREE NAVIGATOR PLUS+SPORTS SURCHARGE': 2, 'IO SPORTS PAK+FREE NAVIGATOR PLUS+SPORTS SURCHARGE': 3, 'IO SPORTS PAK+RS-DVR 500GB PAY+FREE NAVIGATOR PLUS+SPORTS SURCHARGE+RS-DVR 500GB PAY': 4, 'FREE NAVIGATOR PLUS+SPORTS SURCHARGE': 5, 'IO SPORTS PAK+FREE NAVIGATOR PLUS+SPORTS SURCHARGE+REWIND BUFFER - NON CHRG+RS-DVR PLUS': 6, 'FREE NAVIGATOR PLUS': 7, 'FREE NAVIGATOR PLUS+SPORTS SURCHARGE+REWIND BUFFER - NON CHRG+RS-DVR PLUS': 8, 'RS-DVR 500GB PAY+FREE NAVIGATOR PLUS+SPORTS SURCHARGE+RS-DVR 500GB PAY': 9, 'FREE NAVIGATOR PLUS+BROADCAST TV SURCHARGE': 10, 'FREE NAVIGATOR+SPORTS SURCHARGE': 11, 'all_other': 12, 'FREE NAVIGATOR+BROADCAST TV SURCHARGE': 13, 'FREE NAVIGATOR PLUS+SPORTS SURCHARGE+TRK RW BUFFER': 14, 'FREE NAVIGATOR': 15, 'IO ESPANOL+SPORTS SURCHARGE': 16, 'FREE NAVIGATOR+OPT APP NO STB': 17}, 'curr_io_combo_str_desc2_m3': {'DVR+RS-DVR 500GB PAY+FREE NAVIGATOR PLUS+SPORTS SURCHARGE+RS-DVR 500GB PAY': 0, 'DVR+IO SPORTS PAK+FREE NAVIGATOR PLUS+SPORTS SURCHARGE': 1, 'DVR+FREE NAVIGATOR PLUS+SPORTS SURCHARGE': 2, 'IO SPORTS PAK+FREE NAVIGATOR PLUS+SPORTS SURCHARGE': 3, 'IO SPORTS PAK+FREE NAVIGATOR PLUS+SPORTS SURCHARGE+REWIND BUFFER - NON CHRG+RS-DVR PLUS': 4, 'IO SPORTS PAK+RS-DVR 500GB PAY+FREE NAVIGATOR PLUS+SPORTS SURCHARGE+RS-DVR 500GB PAY': 5, 'FREE NAVIGATOR PLUS+SPORTS SURCHARGE': 6, 'FREE NAVIGATOR PLUS+SPORTS SURCHARGE+REWIND BUFFER - NON CHRG+RS-DVR PLUS': 7, 'FREE NAVIGATOR PLUS': 8, 'RS-DVR 500GB PAY+FREE NAVIGATOR PLUS+SPORTS SURCHARGE+RS-DVR 500GB PAY': 9, 'FREE NAVIGATOR PLUS+BROADCAST TV SURCHARGE': 10, 'FREE NAVIGATOR+SPORTS SURCHARGE': 11, 'FREE NAVIGATOR+BROADCAST TV SURCHARGE': 12, 'all_other': 13, 'FREE NAVIGATOR PLUS+SPORTS SURCHARGE+TRK RW BUFFER': 14, 'FREE NAVIGATOR': 15, 'IO ESPANOL+SPORTS SURCHARGE': 16, 'FREE NAVIGATOR+OPT APP NO STB': 17}, 'curr_io_combo_str_desc2_m4': {'DVR+IO SPORTS PAK+FREE NAVIGATOR PLUS+SPORTS SURCHARGE': 0, 'DVR+RS-DVR 500GB PAY+FREE NAVIGATOR PLUS+SPORTS SURCHARGE+RS-DVR 500GB PAY': 1, 'DVR+FREE NAVIGATOR PLUS+SPORTS SURCHARGE': 2, 'IO SPORTS PAK+FREE NAVIGATOR PLUS+SPORTS SURCHARGE': 3, 'IO SPORTS PAK+FREE NAVIGATOR PLUS+SPORTS SURCHARGE+REWIND BUFFER - NON CHRG+RS-DVR PLUS': 4, 'IO SPORTS PAK+RS-DVR 500GB PAY+FREE NAVIGATOR PLUS+SPORTS SURCHARGE+RS-DVR 500GB PAY': 5, 'FREE NAVIGATOR PLUS+SPORTS SURCHARGE': 6, 'FREE NAVIGATOR PLUS+SPORTS SURCHARGE+REWIND BUFFER - NON CHRG+RS-DVR PLUS': 7, 'FREE NAVIGATOR PLUS': 8, 'RS-DVR 500GB PAY+FREE NAVIGATOR PLUS+SPORTS SURCHARGE+RS-DVR 500GB PAY': 9, 'FREE NAVIGATOR PLUS+BROADCAST TV SURCHARGE': 10, 'FREE NAVIGATOR+SPORTS SURCHARGE': 11, 'FREE NAVIGATOR+BROADCAST TV SURCHARGE': 12, 'all_other': 13, 'FREE NAVIGATOR PLUS+SPORTS SURCHARGE+TRK RW BUFFER': 14, 'FREE NAVIGATOR': 15, 'FREE NAVIGATOR PLUS+SPORTS SURCHARGE+REWIND BUFFER - NON CHRG+RS-DVR PLUS - 12 MONTHS': 16, 'IO ESPANOL+SPORTS SURCHARGE': 17, 'FREE NAVIGATOR+OPT APP NO STB': 18}, 'curr_misc_combo_str_desc2_m1': {'OPTIMUM REWARDS+8K HIDEF VOD+BONUS SVOD+OPTIMUM REWARDS TRACKING+SPP - 6 MONTHS - $0': 0, '8K HIDEF VOD+BONUS SVOD+SPP - 6 MONTHS - $0': 1, 'OPTIMUM REWARDS+8K HIDEF VOD+BONUS SVOD+SPP - 6 MONTHS - $0': 2, '8K HIDEF VOD+BONUS SVOD+SPP - 6 MONTHS - $0+RATE EVENT SPEED TIER MIG': 3, 'OPTIMUM REWARDS+8K HIDEF VOD+BONUS SVOD+OPTIMUM REWARDS TRACKING+SPP - 6 MONTHS - $0+RATE EVENT SPEED TIER MIG': 4, 'OPTIMUM REWARDS+8K HIDEF VOD+OPTIMUM REWARDS TRACKING+SPP - 6 MONTHS - $0': 5, '8K HIDEF VOD+BONUS SVOD+OFFER TRACK2': 6, 'OPTIMUM REWARDS+8K HIDEF VOD+BONUS SVOD+SPP - 6 MONTHS - $0+RATE EVENT SPEED TIER MIG': 7, 'OPTIMUM REWARDS+8K HIDEF VOD+BONUS SVOD': 8, 'OPTIMUM REWARDS+8K HIDEF VOD+SPP - 6 MONTHS - $0': 9, '8K HIDEF VOD+SPP - 6 MONTHS - $0': 10, '8K HIDEF VOD+BONUS SVOD+STEP UP OFFER TRACK': 11, 'all_other': 12, '8K HIDEF VOD+BONUS SVOD+STEP UP OFFER TRACK+OPTIMUM REWARDS TRACKING+StepUpTk+RATE EVENT SPEED TIER MIG': 13, '8K HIDEF VOD': 14, '8K HIDEF VOD+OFFER TRACK2': 15, '8K HIDEF VOD+BONUS SVOD+STEP UP OFFER TRACK+RATE EVENT SPEED TIER MIG': 16, '8K HIDEF VOD+BONUS SVOD+STEP UP OFFER TRACK+StepUpTk+RATE EVENT SPEED TIER MIG': 17, '8K HIDEF VOD+STEP UP OFFER TRACK': 18, '8K HIDEF VOD+STEP UP OFFER TRACK+SWEEPSTAKES': 19, '8K HIDEF VOD+STEP UP OFFER TRACK+StepUpTk': 20}, 'curr_misc_combo_str_desc2_m2': {'OPTIMUM REWARDS+8K HIDEF VOD+BONUS SVOD+OPTIMUM REWARDS TRACKING+SPP - 6 MONTHS - $0': 0, '8K HIDEF VOD+BONUS SVOD+SPP - 6 MONTHS - $0': 1, 'OPTIMUM REWARDS+8K HIDEF VOD+BONUS SVOD+SPP - 6 MONTHS - $0': 2, 'OPTIMUM REWARDS+8K HIDEF VOD+BONUS SVOD+OPTIMUM REWARDS TRACKING+SPP - 6 MONTHS - $0+SWEEPSTAKES': 3, 'OPTIMUM REWARDS+8K HIDEF VOD+OPTIMUM REWARDS TRACKING+SPP - 6 MONTHS - $0': 4, '8K HIDEF VOD+BONUS SVOD+OFFER TRACK2': 5, 'OPTIMUM REWARDS+8K HIDEF VOD+BONUS SVOD': 6, 'OPTIMUM REWARDS+8K HIDEF VOD+BONUS SVOD+SPP - 6 MONTHS - $0+SWEEPSTAKES': 7, 'OPTIMUM REWARDS+8K HIDEF VOD+BONUS SVOD+OPTIMUM REWARDS TRACKING': 8, '8K HIDEF VOD+BONUS SVOD+STEP UP OFFER TRACK+OPTIMUM REWARDS TRACKING': 9, 'OPTIMUM REWARDS+8K HIDEF VOD+SPP - 6 MONTHS - $0': 10, '8K HIDEF VOD+SPP - 6 MONTHS - $0': 11, '8K HIDEF VOD+BONUS SVOD+STEP UP OFFER TRACK': 12, 'all_other': 13, '8K HIDEF VOD+BONUS SVOD+STEP UP OFFER TRACK+StepUpTk': 14, '8K HIDEF VOD': 15, '8K HIDEF VOD+OFFER TRACK2': 16, '8K HIDEF VOD+BONUS SVOD+STEP UP OFFER TRACK+SWEEPSTAKES': 17, '8K HIDEF VOD+STEP UP OFFER TRACK': 18, '8K HIDEF VOD+STEP UP OFFER TRACK+SWEEPSTAKES': 19, '8K HIDEF VOD+STEP UP OFFER TRACK+StepUpTk': 20}, 'curr_misc_combo_str_desc2_m3': {'OPTIMUM REWARDS+8K HIDEF VOD+BONUS SVOD+OPTIMUM REWARDS TRACKING+SPP - 6 MONTHS - $0': 0, '8K HIDEF VOD+BONUS SVOD+SPP - 6 MONTHS - $0': 1, 'OPTIMUM REWARDS+8K HIDEF VOD+BONUS SVOD+OPTIMUM REWARDS TRACKING+SPP - 6 MONTHS - $0+SWEEPSTAKES': 2, 'OPTIMUM REWARDS+8K HIDEF VOD+BONUS SVOD+OPTIMUM REWARDS TRACKING+SPP - 6 MONTHS - $0+RATE EVENT SPEED TIER MIG': 3, 'OPTIMUM REWARDS+8K HIDEF VOD+BONUS SVOD+SPP - 6 MONTHS - $0': 4, 'OPTIMUM REWARDS+8K HIDEF VOD+OPTIMUM REWARDS TRACKING+SPP - 6 MONTHS - $0': 5, '8K HIDEF VOD+BONUS SVOD+STEP UP OFFER TRACK+SPP - 6 MONTHS - $0+RATE EVENT SPEED TIER MIG': 6, 'OPTIMUM REWARDS+8K HIDEF VOD+BONUS SVOD+OPTIMUM REWARDS TRACKING': 7, 'OPTIMUM REWARDS+8K HIDEF VOD+BONUS SVOD': 8, 'OPTIMUM REWARDS+8K HIDEF VOD+SPP - 6 MONTHS - $0': 9, '8K HIDEF VOD+BONUS SVOD+STEP UP OFFER TRACK+OPTIMUM REWARDS TRACKING': 10, '8K HIDEF VOD+BONUS SVOD+OFFER TRACK2': 11, '8K HIDEF VOD+SPP - 6 MONTHS - $0': 12, 'all_other': 13, '8K HIDEF VOD+BONUS SVOD+STEP UP OFFER TRACK': 14, '8K HIDEF VOD+BONUS SVOD+STEP UP OFFER TRACK+StepUpTk': 15, '8K HIDEF VOD': 16, '8K HIDEF VOD+OFFER TRACK2': 17, '8K HIDEF VOD+STEP UP OFFER TRACK': 18, '8K HIDEF VOD+STEP UP OFFER TRACK+StepUpTk': 19}, 'curr_misc_combo_str_desc2_m4': {'OPTIMUM REWARDS+8K HIDEF VOD+BONUS SVOD+OPTIMUM REWARDS TRACKING+SPP - 6 MONTHS - $0': 0, '8K HIDEF VOD+BONUS SVOD+SPP - 6 MONTHS - $0': 1, 'OPTIMUM REWARDS+8K HIDEF VOD+BONUS SVOD+OPTIMUM REWARDS TRACKING+SPP - 6 MONTHS - $0+RATE EVENT SPEED TIER MIG': 2, 'OPTIMUM REWARDS+8K HIDEF VOD+BONUS SVOD+SPP - 6 MONTHS - $0': 3, 'OPTIMUM REWARDS+8K HIDEF VOD+BONUS SVOD+OPTIMUM REWARDS TRACKING': 4, 'OPTIMUM REWARDS+8K HIDEF VOD+OPTIMUM REWARDS TRACKING+SPP - 6 MONTHS - $0': 5, '8K HIDEF VOD+BONUS SVOD+STEP UP OFFER TRACK+SPP - 6 MONTHS - $0+RATE EVENT SPEED TIER MIG': 6, 'OPTIMUM REWARDS+8K HIDEF VOD+BONUS SVOD': 7, 'OPTIMUM REWARDS+8K HIDEF VOD+SPP - 6 MONTHS - $0': 8, '8K HIDEF VOD+BONUS SVOD+STEP UP OFFER TRACK+OPTIMUM REWARDS TRACKING': 9, '8K HIDEF VOD+BONUS SVOD+OFFER TRACK2': 10, '8K HIDEF VOD+BONUS SVOD+STEP UP OFFER TRACK+SPP $6.99': 11, '8K HIDEF VOD+SPP - 6 MONTHS - $0': 12, '8K HIDEF VOD+BONUS SVOD+STEP UP OFFER TRACK': 13, 'all_other': 14, '8K HIDEF VOD+BONUS SVOD+STEP UP OFFER TRACK+StepUpTk': 15, '8K HIDEF VOD': 16, '8K HIDEF VOD+OFFER TRACK2': 17, '8K HIDEF VOD+STEP UP OFFER TRACK': 18, 'NO ADDNL REWARDS': 19, '8K HIDEF VOD+STEP UP OFFER TRACK+StepUpTk': 20}, 'curr_ool_combo_str_desc2_m1': {'OPTIMUM 100 -$0+LEASED MODEM $4.95': 0, 'LEASED MODEM $4.95+OPTIMUM 200 - $4.95': 1, 'MANAGED ROUTER+LEASED MODEM $4.95+OPTIMUM 200 - $4.95': 2, 'LEASED MODEM $4.95+OPTIMUM 60 - $0': 3, 'OPTIMUM 100 -$0+MANAGED ROUTER+LEASED MODEM $4.95': 4, 'OPTIMUM 100 - 6 MONTHS -$0+LEASED MODEM $4.95': 5, 'MANAGED ROUTER+LEASED MODEM $4.95+OPTIMUM 60 - $0': 6, 'MANAGED ROUTER+OPTIMUM 60 TRIPLE PRODUCT - $0': 7, 'all_other': 8, 'OPTIMUM 100 -$10+MANAGED ROUTER+LEASED MODEM $4.95': 9, 'OPTIMUM 100 -$10+MANAGED ROUTER+LEASED MODEM $4.95+OPTIMUM 200 - 6 MONTHS -$0': 10, 'MANAGED ROUTER+LEASED MODEM $4.95+OPTIMUM 60 TRIPLE PRODUCT - $0': 11, 'MANAGED ROUTER+LEASED MODEM $4.95+OPTIMUM 200 - $0': 12, 'OPTIMUM 100 - 6 MONTHS -$0+MANAGED ROUTER+LEASED MODEM $4.95': 13, 'MANAGED ROUTER+LEASED MODEM $4.95+OPTIMUM 200 - $10': 14, 'MANAGED ROUTER': 15, 'MANAGED ROUTER+LEASED MODEM $4.95+OPTIMUM 200 - 6 MONTHS -$0': 16, 'OPTIMUM 100 - 6 MONTHS -$0+MANAGED ROUTER+LEASED MODEM $4.95+OPTIMUM 60 TRIPLE PRODUCT - $0': 17, 'MANAGED ROUTER+LEASED MODEM $4.95+OPTIMUM 60 - $4.95': 18, 'MANAGED ROUTER+LEASED MODEM $4.95': 19, 'MANAGED ROUTER+LEASED MODEM $4.95+OPTIMUM 60 TRIPLE PRODUCT - $0+OPTIMUM 200 - 6 MONTHS -$0': 20}, 'curr_ool_combo_str_desc2_m2': {'OPTIMUM 100 -$0+LEASED MODEM $4.95': 0, 'LEASED MODEM $4.95+OPTIMUM 200 - $4.95': 1, 'OPTIMUM 100 -$0+MANAGED ROUTER+LEASED MODEM $4.95': 2, 'LEASED MODEM $4.95+OPTIMUM 60 - $0': 3, 'MANAGED ROUTER+LEASED MODEM $4.95+OPTIMUM 200 - $4.95': 4, 'OPTIMUM 100 - 6 MONTHS -$0+LEASED MODEM $4.95+OPTIMUM 60 TRIPLE PRODUCT - $0': 5, 'OPTIMUM 60 TRIPLE PRODUCT - $0': 6, 'MANAGED ROUTER+LEASED MODEM $4.95+OPTIMUM 60 - $0': 7, 'MANAGED ROUTER+OPTIMUM 60 TRIPLE PRODUCT - $0': 8, 'OPTIMUM 100 - 6 MONTHS -$0+LEASED MODEM $4.95': 9, 'all_other': 10, 'OPTIMUM 100 -$10+MANAGED ROUTER+LEASED MODEM $4.95+OPTIMUM 200 - 6 MONTHS -$0': 11, 'OPTIMUM 100 -$10+MANAGED ROUTER+LEASED MODEM $4.95': 12, 'MANAGED ROUTER': 13, 'MANAGED ROUTER+LEASED MODEM $4.95+OPTIMUM 200 - $0': 14, 'MANAGED ROUTER+LEASED MODEM $4.95+OPTIMUM 60 TRIPLE PRODUCT - $0': 15, 'MANAGED ROUTER+LEASED MODEM $4.95+OPTIMUM 200 - $10': 16, 'OPTIMUM 100 - 6 MONTHS -$0+MANAGED ROUTER+LEASED MODEM $4.95': 17, 'OPTIMUM 100 - 6 MONTHS -$0+MANAGED ROUTER+LEASED MODEM $4.95+OPTIMUM 60 TRIPLE PRODUCT - $0': 18, 'MANAGED ROUTER+LEASED MODEM $4.95+OPTIMUM 60 - $4.95': 19, 'MANAGED ROUTER+LEASED MODEM $4.95': 20}, 'curr_ool_combo_str_desc2_m3': {'OPTIMUM 100 -$0+LEASED MODEM $4.95': 0, 'LEASED MODEM $4.95+OPTIMUM 200 - $4.95': 1, 'OPTIMUM 100 -$0+MANAGED ROUTER+LEASED MODEM $4.95': 2, 'LEASED MODEM $4.95+OPTIMUM 60 - $0': 3, 'MANAGED ROUTER+LEASED MODEM $4.95+OPTIMUM 200 - $4.95': 4, 'OPTIMUM 100 - 6 MONTHS -$0+LEASED MODEM $4.95+OPTIMUM 60 TRIPLE PRODUCT - $0': 5, 'OPTIMUM 60 TRIPLE PRODUCT - $0': 6, 'MANAGED ROUTER+LEASED MODEM $4.95+OPTIMUM 60 - $0': 7, 'MANAGED ROUTER+OPTIMUM 60 TRIPLE PRODUCT - $0': 8, 'OPTIMUM 100 - 6 MONTHS -$0+LEASED MODEM $4.95': 9, 'all_other': 10, 'OPTIMUM 100 -$10+MANAGED ROUTER+LEASED MODEM $4.95+OPTIMUM 200 - 6 MONTHS -$0': 11, 'OPTIMUM 100 -$10+MANAGED ROUTER+LEASED MODEM $4.95': 12, 'MANAGED ROUTER': 13, 'MANAGED ROUTER+LEASED MODEM $4.95+OPTIMUM 60 TRIPLE PRODUCT - $0': 14, 'MANAGED ROUTER+LEASED MODEM $4.95+OPTIMUM 200 - $0': 15, 'OPTIMUM 100 - 6 MONTHS -$0+MANAGED ROUTER+LEASED MODEM $4.95': 16, 'MANAGED ROUTER+LEASED MODEM $4.95+OPTIMUM 200 - $10': 17, 'OPTIMUM 100 - 6 MONTHS -$0+MANAGED ROUTER+LEASED MODEM $4.95+OPTIMUM 60 TRIPLE PRODUCT - $0': 18, 'MANAGED ROUTER+LEASED MODEM $4.95+OPTIMUM 60 - $4.95': 19, 'MANAGED ROUTER+LEASED MODEM $4.95': 20}, 'curr_ool_combo_str_desc2_m4': {'OPTIMUM 100 -$0+LEASED MODEM $4.95': 0, 'LEASED MODEM $4.95+OPTIMUM 200 - $4.95': 1, 'OPTIMUM 100 -$0+MANAGED ROUTER+LEASED MODEM $4.95': 2, 'LEASED MODEM $4.95+OPTIMUM 60 - $0': 3, 'MANAGED ROUTER+LEASED MODEM $4.95+OPTIMUM 200 - $4.95': 4, 'OPTIMUM 100 - 6 MONTHS -$0+LEASED MODEM $4.95+OPTIMUM 60 TRIPLE PRODUCT - $0': 5, 'OPTIMUM 60 TRIPLE PRODUCT - $0': 6, 'LEASED MODEM $4.95+OPTIMUM 60 TRIPLE PRODUCT - $0': 7, 'MANAGED ROUTER+LEASED MODEM $4.95+OPTIMUM 60 - $0': 8, 'MANAGED ROUTER+OPTIMUM 60 TRIPLE PRODUCT - $0': 9, 'OPTIMUM 100 - 6 MONTHS -$0+LEASED MODEM $4.95': 10, 'all_other': 11, 'OPTIMUM 100 -$10+MANAGED ROUTER+LEASED MODEM $4.95+OPTIMUM 200 - 6 MONTHS -$0': 12, 'OPTIMUM 100 -$10+MANAGED ROUTER+LEASED MODEM $4.95': 13, 'MANAGED ROUTER': 14, 'MANAGED ROUTER+LEASED MODEM $4.95+OPTIMUM 60 TRIPLE PRODUCT - $0': 15, 'OPTIMUM 100 - 6 MONTHS -$0+MANAGED ROUTER+LEASED MODEM $4.95': 16, 'OPTIMUM 100 - 6 MONTHS -$0+MANAGED ROUTER+LEASED MODEM $4.95+OPTIMUM 60 TRIPLE PRODUCT - $0': 17, 'MANAGED ROUTER+LEASED MODEM $4.95+OPTIMUM 60 - $4.95': 18, 'MANAGED ROUTER+LEASED MODEM $4.95+OPTIMUM 200 - $10': 19, 'MANAGED ROUTER+LEASED MODEM $4.95': 20}, 'curr_ool_tier_desc2_m1': {'all_other': 0, '$54.95': 1, '$59.95': 2, '$44.95': 3, '$49.99 ': 4, '$44.99': 5, '$34.99': 6, '$39.99': 7, '$64.95': 8, '$24.95': 9, 'Seasonal': 10, '$39.95': 11, '$34.95': 12, '$29.95': 13}, 'curr_ool_tier_desc2_m2': {'all_other': 0, '$59.95': 1, '$54.95': 2, '$44.95': 3, '$49.99 ': 4, '$44.99': 5, '$34.99': 6, '$64.95': 7, '$39.99': 8, '$24.95': 9, 'Seasonal': 10, '$39.95': 11, '$34.95': 12, '$29.95': 13}, 'curr_ool_tier_desc2_m3': {'$59.95': 0, '$54.95': 1, '$44.95': 2, 'all_other': 3, '$49.99 ': 4, '$64.95': 5, '$34.99': 6, '$44.99': 7, '$39.99': 8, '$24.95': 9, '$39.95': 10, '$34.95': 11, '$29.95': 12}, 'curr_ool_tier_desc2_m4': {'$59.95': 0, '$54.95': 1, 'all_other': 2, '$44.95': 3, '$64.95': 4, '$34.99': 5, '$44.99': 6, '$24.95': 7, '$39.95': 8, '$39.99': 9, '$34.95': 10, '$29.95': 11}, 'curr_ov_combo_str_desc2_m1': {'PORTED+OV SVCS ADDNL LINES - $34.95+OV ADDNL LINES - $14.95': 0, 'PORTED+OV SVCS ADDNL LINES - $10': 1, 'PORTED+OV SVCS ADDNL LINES - $34.95': 2, 'OV SVCS ADDNL LINES - $34.95': 3, 'NO OV ADDNL SVC': 4, 'OV SVCS ADDNL LINES - $10': 5, 'all_other': 6, 'OV ADDNL LINES - $29.95': 7, 'PORTED+OV SVCS ADDNL LINES - $14.95': 8, 'OV SVCS ADDNL LINES - $14.95': 9, 'PORTED+OV ADDNL LINES - $29.95': 10}, 'curr_ov_combo_str_desc2_m2': {'PORTED+OV SVCS ADDNL LINES - $34.95+OV ADDNL LINES - $14.95': 0, 'PORTED+OV SVCS ADDNL LINES - $34.95': 1, 'PORTED+OV SVCS ADDNL LINES - $10': 2, 'OV SVCS ADDNL LINES - $34.95': 3, 'NO OV ADDNL SVC': 4, 'OV SVCS ADDNL LINES - $10': 5, 'all_other': 6, 'PORTED+OV SVCS ADDNL LINES - $14.95': 7, 'OV ADDNL LINES - $29.95': 8, 'OV SVCS ADDNL LINES - $14.95': 9, 'PORTED+OV ADDNL LINES - $29.95': 10}, 'curr_ov_combo_str_desc2_m3': {'PORTED+OV SVCS ADDNL LINES - $34.95+OV ADDNL LINES - $14.95': 0, 'PORTED+OV SVCS ADDNL LINES - $34.95': 1, 'PORTED+OV SVCS ADDNL LINES - $10': 2, 'OV SVCS ADDNL LINES - $34.95': 3, 'NO OV ADDNL SVC': 4, 'all_other': 5, 'OV SVCS ADDNL LINES - $10': 6, 'PORTED+OV SVCS ADDNL LINES - $14.95': 7, 'OV ADDNL LINES - $29.95': 8, 'OV SVCS ADDNL LINES - $14.95': 9, 'OV SVCS ADDNL LINES - $29.95': 10, 'PORTED+OV ADDNL LINES - $29.95': 11}, 'curr_ov_combo_str_desc2_m4': {'PORTED+OV SVCS ADDNL LINES - $34.95+OV ADDNL LINES - $14.95': 0, 'PORTED+OV SVCS ADDNL LINES - $34.95': 1, 'PORTED+OV SVCS ADDNL LINES - $29.95': 2, 'PORTED+OV SVCS ADDNL LINES - $10': 3, 'OV SVCS ADDNL LINES - $34.95': 4, 'NO OV ADDNL SVC': 5, 'all_other': 6, 'OV SVCS ADDNL LINES - $10': 7, 'PORTED+OV SVCS ADDNL LINES - $14.95': 8, 'OV SVCS ADDNL LINES - $29.95': 9, 'OV ADDNL LINES - $29.95': 10, 'OV SVCS ADDNL LINES - $14.95': 11, 'OV OFFER SAVE DISCO ADDNL LINES': 12, 'PORTED+OV ADDNL LINES - $29.95': 13}, 'curr_ov_tier_desc2_m1': {'$19.95': 0, '$34.95': 1, '$10': 2, 'all_other': 3, 'Other': 4, '$29.95': 5, '$14.95': 6}, 'curr_ov_tier_desc2_m2': {'$19.95': 0, '$34.95': 1, 'all_other': 2, '$10': 3, 'Other': 4, '$29.95': 5, '$14.95': 6}, 'curr_ov_tier_desc2_m3': {'$19.95': 0, '$34.95': 1, 'all_other': 2, 'Other': 3, '$10': 4, '$29.95': 5, '$14.95': 6}, 'curr_ov_tier_desc2_m4': {'$19.95': 0, '$34.95': 1, 'all_other': 2, 'Other': 3, '$10': 4, '$29.95': 5, '$14.95': 6}, 'curr_prem_combo_str_desc2_m1': {'HBO+ENCORE+STARZ+SHOWTIME+MAX+TMC': 0, 'HBO+ENCORE+STARZ+SHOWTIME': 1, 'ENCORE+TMC': 2, 'all_other': 3, 'ENCORE+STARZ+TMC': 4, 'ENCORE+STARZ+SHOWTIME+TMC': 5, 'INTERNATIONAL': 6, 'NO PREMIUM SVC': 7, 'SHOWTIME': 8, 'ENCORE+SHOWTIME+TMC': 9}, 'curr_prem_combo_str_desc2_m2': {'HBO+ENCORE+STARZ+SHOWTIME+MAX+TMC': 0, 'HBO+ENCORE+STARZ+SHOWTIME': 1, 'ENCORE+SHOWTIME+TMC': 2, 'ENCORE+TMC': 3, 'all_other': 4, 'ENCORE+STARZ+TMC': 5, 'SHOWTIME': 6, 'INTERNATIONAL': 7, 'NO PREMIUM SVC': 8, 'ENCORE+STARZ+SHOWTIME+TMC': 9, 'ENCORE+STARZ+SHOWTIME': 10}, 'curr_prem_combo_str_desc2_m3': {'HBO+ENCORE+STARZ+SHOWTIME+MAX+TMC': 0, 'HBO+ENCORE+STARZ+SHOWTIME': 1, 'ENCORE': 2, 'all_other': 3, 'ENCORE+STARZ': 4, 'SHOWTIME': 5, 'INTERNATIONAL': 6, 'NO PREMIUM SVC': 7, 'ENCORE+STARZ+SHOWTIME': 8}, 'curr_prem_combo_str_desc2_m4': {'HBO+ENCORE+STARZ+SHOWTIME+MAX+TMC': 0, 'HBO+ENCORE+STARZ+SHOWTIME': 1, 'ENCORE': 2, 'all_other': 3, 'ENCORE+STARZ': 4, 'SHOWTIME': 5, 'INTERNATIONAL': 6, 'NO PREMIUM SVC': 7, 'ENCORE+STARZ+SHOWTIME': 8}, 'curr_sports_combo_str_desc2_m1': {'all_other': 0, 'NO SPORTS SVC': 1}, 'curr_sports_combo_str_desc2_m2': {'all_other': 0, 'NO SPORTS SVC': 1}, 'curr_sports_combo_str_desc2_m3': {'all_other': 0, 'NO SPORTS SVC': 1}, 'curr_sports_combo_str_desc2_m4': {'all_other': 0, 'NO SPORTS SVC': 1}, 'curr_svod_combo_str_desc2_m1': {'HBO+SHOWTIME+MAX+STARZ/ENCORE+TMC': 0, 'HBO+SHOWTIME+STARZ/ENCORE': 1, 'SHOWTIME+STARZ/ENCORE+TMC+ENCORE': 2, 'all_other': 3, 'TMC+ENCORE': 4, 'TMC': 5, 'NO SVOD SVC': 6, 'SHOWTIME+STARZ/ENCORE+TMC': 7, 'SHOWTIME': 8, 'SHOWTIME+TMC+ENCORE': 9}, 'curr_svod_combo_str_desc2_m2': {'HBO+SHOWTIME+MAX+STARZ/ENCORE+TMC': 0, 'HBO+SHOWTIME+STARZ/ENCORE': 1, 'all_other': 2, 'SHOWTIME+TMC+ENCORE': 3, 'TMC+ENCORE': 4, 'SHOWTIME': 5, 'NO SVOD SVC': 6, 'SHOWTIME+STARZ/ENCORE+TMC': 7, 'SHOWTIME+STARZ/ENCORE+TMC+ENCORE': 8, 'SHOWTIME+STARZ/ENCORE': 9}, 'curr_svod_combo_str_desc2_m3': {'HBO+SHOWTIME+MAX+STARZ/ENCORE+TMC': 0, 'HBO+SHOWTIME+STARZ/ENCORE': 1, 'all_other': 2, 'ENCORE': 3, 'SHOWTIME': 4, 'NO SVOD SVC': 5, 'SHOWTIME+STARZ/ENCORE+ENCORE': 6, 'SHOWTIME+STARZ/ENCORE': 7}, 'curr_svod_combo_str_desc2_m4': {'HBO+SHOWTIME+MAX+STARZ/ENCORE+TMC': 0, 'HBO+SHOWTIME+STARZ/ENCORE': 1, 'all_other': 2, 'ENCORE': 3, 'SHOWTIME': 4, 'NO SVOD SVC': 5, 'SHOWTIME+STARZ/ENCORE+ENCORE': 6, 'SHOWTIME+STARZ/ENCORE': 7}, 'curr_video_tier_desc2_m1': {'BULK': 0, 'iO GOLD': 1, 'iO SILVER': 2, 'OPTIMUM SELECT': 3, 'all_other': 4, 'iO PREFERRED +': 5, 'iO BASIC +': 6, 'iO VALUE': 7, 'iO ECONOMY': 8, 'iO VALUE + MINI PAY': 9, 'iO VALUE +': 10, 'iO BASIC ONLY': 11}, 'curr_video_tier_desc2_m2': {'BULK': 0, 'iO GOLD': 1, 'iO SILVER': 2, 'OPTIMUM SELECT': 3, 'all_other': 4, 'iO PREFERRED +': 5, 'iO BASIC +': 6, 'iO VALUE': 7, 'iO VALUE + MINI PAY': 8, 'iO ECONOMY': 9, 'iO VALUE +': 10, 'iO BASIC ONLY': 11}, 'curr_video_tier_desc2_m3': {'BULK': 0, 'iO GOLD': 1, 'iO SILVER': 2, 'all_other': 3, 'iO PREFERRED + MINI PAY': 4, 'iO PREFERRED': 5, 'iO BASIC +': 6, 'iO PREFERRED +': 7, 'iO VALUE + MINI PAY': 8, 'iO ECONOMY': 9, 'iO VALUE': 10, 'iO VALUE +': 11, 'iO BASIC ONLY': 12}, 'curr_video_tier_desc2_m4': {'BULK': 0, 'iO GOLD': 1, 'iO SILVER': 2, 'all_other': 3, 'iO PREFERRED + MINI PAY': 4, 'iO PREFERRED': 5, 'iO PREFERRED +': 6, 'iO BASIC +': 7, 'iO ECONOMY': 8, 'iO VALUE': 9, 'iO VALUE + MINI PAY': 10, 'iO VALUE +': 11, 'iO BASIC ONLY': 12}, 'custtengrp3': {'all_other': 0, 'I:61+': 1, 'F:15-24': 2, 'H:31-60': 3, 'G:25-30': 4, 'E:13-14': 5}, 'ddp_recurring_m1': {1.0: 0, 0.0: 1, 'all_other': 2}, 'dig_ant_m1': {0: 0, 'all_other': 1}, 'dig_ant_m2': {0.0: 0, 'all_other': 1}, 'dig_ant_m3': {0.0: 0, 'all_other': 1}, 'dig_ant_m4': {0.0: 0, 'all_other': 1}, 'dvr_m1': {'Y': 0, 'N': 1}, 'dvr_m2': {'Y': 0, 'N': 1}, 'dvr_m3': {'Y': 0, 'N': 1}, 'dvr_m4': {'Y': 0, 'N': 1}, 'dvr_plus_m1': {'N': 0, 'Y': 1}, 'dvr_plus_m2': {'N': 0, 'Y': 1}, 'dvr_plus_m3': {'N': 0, 'Y': 1}, 'dvr_plus_m4': {'N': 0, 'Y': 1}, 'dwell_demos': {'all_other': 0, 'SINGLE FAMILY': 1, 'Unknown': 2, 'MULTI-FAMILIES & CONDOS': 3, 'MARGINAL MULTI-FAMILY': 4}, 'ecgroup': {'O': 0, 'P': 1, 'L': 2, 'N': 3, 'K': 4, 'all_other': 5, 'J': 6, 'G': 7, 'H': 8, 'F': 9, 'B': 10, 'C': 11, 'A': 12, 'I': 13, 'D': 14, 'E': 15}, 'ecohort_group': {'O': 0, 'P': 1, 'L': 2, 'N': 3, 'K': 4, 'all_other': 5, 'J': 6, 'G': 7, 'H': 8, 'F': 9, 'B': 10, 'C': 11, 'A': 12, 'I': 13, 'D': 14, 'E': 15}, 'ethnic': {'WESTERN EUROPEAN': 0, 'MEDITERRANEAN': 1, 'SCANDINAVIAN': 2, 'MIDDLE EAST NON-ARAB': 3, 'EASTERN EUROPEAN': 4, 'AFRICAN AMERICAN': 5, 'CARIBBEAN NON-HISPANIC': 6, 'SOUTHEAST ASIAN': 7, 'all_other': 8, 'EAST ASIAN': 9, 'HISPANIC': 10, 'SOUTH ASIAN': 11}, 'fiosont': {'N': 0, 'Y': 1}, 'freevodu_sub_m2': {'Y': 0, 'N': 1}, 'freevodu_sub_m3': {'Y': 0, 'N': 1}, 'freevodu_sub_m4': {'Y': 0, 'N': 1}, 'gf_mig': {'N': 0}, 'grp_call_bill': {'0 Call': 0, '1 Calls': 1, '2 Calls': 2, '4 Calls': 3, '3 Calls': 4, '4+ Calls': 5}, 'grp_call_csc': {'10+ Calls': 0, '0 Call': 1, '7 ~ 8 Calls': 2, '3 ~ 4 Calls': 3, '5 ~ 6 Calls': 4, '1 ~ 2 Calls': 5, '9 ~ 10 Calls': 6}, 'grp_call_csr': {'0 Call': 0, '3 ~ 4 Calls': 1, '1 ~ 2 Calls': 2, '5 ~ 6 Calls': 3, '7 ~ 8 Calls': 4, '10+ Calls': 5, '9 ~ 10 Calls': 6}, 'grp_call_tsr': {'4 Calls': 0, '4+ Calls': 1, '2 Calls': 2, '1 Calls': 3, '3 Calls': 4, '0 Call': 5}, 'grp_payment_10dollar': {'241 ~ 250 Dollars': 0, '231 ~ 240 Dollars': 1, '211 ~ 220 Dollars': 2, '221 ~ 230 Dollars': 3, 'Under 50 Dollars': 4, '201 ~ 210 Dollars': 5, '191 ~ 200 Dollars': 6, '181 ~ 190 Dollars': 7, '171 ~ 180 Dollars': 8, '161 ~ 170 Dollars': 9, '91 ~ 100 Dollars': 10, '151 ~ 160 Dollars': 11, '51 ~ 60 Dollars': 12, '141 ~ 150 Dollars': 13, '101 ~ 110 Dollars': 14, '131 ~ 140 Dollars': 15, '111 ~ 120 Dollars': 16, '81 ~ 90 Dollars': 17, '121 ~ 130 Dollars': 18, '61 ~ 70 Dollars': 19, '71 ~ 80 Dollars': 20}, 'grp_payment_25dollar': {'226 ~ 250 Dollars': 0, '201 ~ 225 Dollars': 1, 'Under 50 Dollars': 2, '176 ~ 200 Dollars': 3, '151 ~ 175 Dollars': 4, '76 ~ 100 Dollars': 5, '126 ~ 150 Dollars': 6, '101 ~ 125 Dollars': 7, '51 ~ 75 Dollars': 8}, 'grp_payment_change_10dollar': {'-10 ~ -1 Dollars': 0, '1 ~ 10 Dollars': 1, '-50 ~ -41 Dollars': 2, '-40 ~ -31 Dollars': 3, '-30 ~ -21 Dollars': 4, 'Under -50 Dollars': 5, '0 Dollar': 6, '11 ~ 20 Dollars': 7, '-20 ~ -11 Dollars': 8, '21 ~ 30 Dollars': 9, '31 ~ 40 Dollars': 10, '41 ~ 50 Dollars': 11, 'Over 50 Dollars': 12}, 'grp_payment_change_2pct': {'-2 ~ -1 Pct': 0, '1 ~ 2 Pct': 1, '-16 ~ -15 Pct': 2, '-8 ~ -7 Pct': 3, '-6 ~ -5 Pct': 4, '-18 ~ -17 Pct': 5, '-12 ~ -11 Pct': 6, '-10 ~ -9 Pct': 7, '-20 ~ -19 Pct': 8, '-14 ~ -13 Pct': 9, '0 Pct': 10, '-4 ~ -3 Pct': 11, '3 ~ 4 Pct': 12, '5 ~ 6 Pct': 13, 'Under -20 Pct': 14, '9 ~ 10 Pct': 15, '7 ~ 8 Pct': 16, 'Over 20 Pct': 17, '11 ~ 12 Pct': 18, '15 ~ 16 Pct': 19, '13 ~ 14 Pct': 20, '19 ~ 20 Pct': 21, '17 ~ 18 Pct': 22}, 'grp_payment_change_5dollar': {'-5 ~ -1 Dollars': 0, '1 ~ 5 Dollars': 1, '-45 ~ -41 Dollars': 2, '-50 ~ -46 Dollars': 3, '-10 ~ -6 Dollars': 4, '-35 ~ -31 Dollars': 5, '-30 ~ -26 Dollars': 6, 'Under -50 Dollars': 7, '0 Dollar': 8, '11 ~ 15 Dollars': 9, '-25 ~ -21 Dollars': 10, '-40 ~ -36 Dollars': 11, '-20 ~ -16 Dollars': 12, '6 ~ 10 Dollars': 13, '-15 ~ -11 Dollars': 14, '16 ~ 20 Dollars': 15, '21 ~ 25 Dollars': 16, '26 ~ 30 Dollars': 17, '41 ~ 45 Dollars': 18, '31 ~ 35 Dollars': 19, '36 ~ 40 Dollars': 20, 'Over 50 Dollars': 21, '46 ~ 50 Dollars': 22}, 'grp_payment_change_5pct': {'-5 ~ -1 Pct': 0, '1 ~ 5 Pct': 1, '-10 ~ -6 Pct': 2, '-20 ~ -16 Pct': 3, '-15 ~ -11 Pct': 4, '0 Pct': 5, '-25 ~ -21 Pct': 6, 'Under -30 Pct': 7, '6 ~ 10 Pct': 8, 'Over 30 Pct': 9, '-30 ~ -26 Pct': 10, '21 ~ 25 Pct': 11, '16 ~ 20 Pct': 12, '11 ~ 15 Pct': 13, '26 ~ 30 Pct': 14}, 'grp_payment_income': {'2 ~ 2.99 pct': 0, '3 ~ 3.99 pct': 1, '1 ~ 1.99 pct': 2, 'Under 1 pct': 3, '4 ~ 4.99 pct': 4, '10 ~ 14.99 pct': 5, '5 ~ 6.99 pct': 6, 'Over 20 pct': 7, '7 ~ 9.99 pct': 8, '15 ~ 19.99 pct': 9}, 'grp_payment_method': {'AUTPAY': 0, 'DEBIT': 1, 'CHECK': 2, 'CREDIT': 3, 'CASH': 4, 'CENTER': 5}, 'grp_tenure_1m': {'97 Months': 0, '79 Months': 1, '91 Months': 2, '89 Months': 3, '67 Months': 4, '93 Months': 5, '92 Months': 6, '85 Months': 7, '96 Months': 8, '90 Months': 9, '88 Months': 10, '83 Months': 11, '95 Months': 12, '80 Months': 13, '87 Months': 14, '77 Months': 15, '94 Months': 16, '81 Months': 17, '86 Months': 18, '68 Months': 19, '69 Months': 20, '57 Months': 21, '84 Months': 22, '75 Months': 23, '70 Months': 24, '74 Months': 25, '78 Months': 26, '76 Months': 27, '54 Months': 28, '55 Months': 29, '73 Months': 30, '63 Months': 31, '65 Months': 32, '52 Months': 33, '71 Months': 34, '66 Months': 35, '58 Months': 36, '82 Months': 37, '62 Months': 38, '64 Months': 39, '15 Months': 40, '61 Months': 41, '56 Months': 42, '59 Months': 43, '18 Months': 44, '17 Months': 45, '72 Months': 46, '16 Months': 47, '53 Months': 48, '41 Months': 49, '39 Months': 50, '29 Months': 51, '50 Months': 52, '19 Months': 53, '28 Months': 54, '14 Months': 55, '38 Months': 56, '60 Months': 57, '49 Months': 58, '51 Months': 59, '42 Months': 60, '43 Months': 61, '36 Months': 62, '30 Months': 63, '27 Months': 64, '40 Months': 65, '37 Months': 66, '25 Months': 67, '33 Months': 68, '20 Months': 69, '26 Months': 70, '31 Months': 71, '34 Months': 72, '13 Months': 73, '23 Months': 74, '22 Months': 75, '32 Months': 76, '24 Months': 77, '35 Months': 78, '45 Months': 79, '21 Months': 80, '44 Months': 81, '48 Months': 82, '47 Months': 83, '46 Months': 84, 'Under 12 Months': 85}, 'grp_tenure_3m': {'97 ~ 99 Months': 0, '91 ~ 93 Months': 1, '88 ~ 90 Months': 2, '79 ~ 81 Months': 3, '94 ~ 96 Months': 4, '85 ~ 87 Months': 5, '67 ~ 69 Months': 6, '76 ~ 78 Months': 7, '82 ~ 84 Months': 8, '73 ~ 75 Months': 9, '55 ~ 57 Months': 10, '70 ~ 72 Months': 11, '64 ~ 66 Months': 12, '61 ~ 63 Months': 13, '52 ~ 54 Months': 14, '16 ~ 18 Months': 15, '58 ~ 60 Months': 16, '13 ~ 15 Months': 17, '28 ~ 30 Months': 18, '49 ~ 51 Months': 19, '37 ~ 39 Months': 20, '40 ~ 42 Months': 21, '25 ~ 27 Months': 22, '19 ~ 21 Months': 23, '34 ~ 36 Months': 24, '31 ~ 33 Months': 25, '43 ~ 45 Months': 26, '22 ~ 24 Months': 27, '46 ~ 48 Months': 28, 'Under 12 Months': 29}, 'grp_tenure_6m': {'97 ~ 102 Months': 0, '91 ~ 96 Months': 1, '85 ~ 90 Months': 2, '79 ~ 84 Months': 3, '67 ~ 72 Months': 4, '73 ~ 78 Months': 5, '61 ~ 66 Months': 6, '55 ~ 60 Months': 7, '49 ~ 54 Months': 8, '13 ~ 18 Months': 9, '37 ~ 42 Months': 10, '25 ~ 30 Months': 11, '19 ~ 24 Months': 12, '31 ~ 36 Months': 13, '43 ~ 48 Months': 14, 'Under 12 Months': 15}, 'hbo_svod': {'all_other': 0, 'NONE': 1}, 'homenet_router_m1': {0: 0, 'all_other': 1}, 'homenet_router_m2': {0: 0, 'all_other': 1}, 'homeown': {'all_other': 0, 'Y': 1, 'U': 2}, 'income': {'all_other': 0, 'Elite (>$200K)': 1, 'High ($100K-$200K)': 2, 'Moderate ($50K-$100K)': 3, 'Low (<$50K)': 4}, 'income_demos': {'l.$250k+': 0, 'j.$175k-$199': 1, 'k.$200k-$249': 2, 'h.$125k-$149': 3, 'i.$150k-$174': 4, 'f.$75k-$99': 5, 'g.$100k-$124': 6, 'e.$50k-$74': 7, 'd.$35k-$49': 8, 'c.$25k-$34': 9, 'a.$1-$14,999': 10, 'b.$15k-$24': 11, 'all_other': 12}, 'ioeprog_m1': {'N': 0, 'Y': 1}, 'ioeprog_m2': {'N': 0, 'Y': 1}, 'kom_tenure_grp': {'I:61+': 0, 'F:15-24': 1, 'H:31-60': 2, 'G:25-30': 3, 'E:13-14': 4}, 'managed_router_m1': {0: 0, 1: 1}, 'managed_router_m2': {0: 0, 1: 1}, 'marital_stat': {'M': 0, 'U': 1, 'S': 2}, 'mb_ool_range1': {'e: 50 GB': 0, 'f: 100 GB': 1, 'd: 10 GB': 2, 'g: 100+ GB': 3, 'c: 1 GB': 4, 'b: 50K': 5, 'all_other': 6}, 'mb_ool_range2': {'e: 50 GB': 0, 'd: 10 GB': 1, 'f: 100 GB': 2, 'g: 100+ GB': 3, 'c: 1 GB': 4, 'all_other': 5, 'b: 50K': 6}, 'mb_ool_range_rl_m2': {'e: 50 GB': 0, 'd: 10 GB': 1, 'f: 100 GB': 2, 'g: 150 GB': 3, 'h: 200 GB': 4, 'i: 250 GB': 5, 'c: 1 GB': 6, 'j: 250+GB': 7, 'all_other': 8, 'b: 50K': 9}, 'mb_total_range1': {'e: 50 GB': 0, 'f: 100 GB': 1, 'd: 10 GB': 2, 'g: 100+ GB': 3, 'c: 1 GB': 4, 'b: 50K': 5, 'all_other': 6}, 'mb_total_range2': {'e: 50 GB': 0, 'f: 100 GB': 1, 'd: 10 GB': 2, 'g: 100+ GB': 3, 'c: 1 GB': 4, 'all_other': 5, 'b: 50K': 6}, 'mb_total_range_rl_m2': {'e: 50 GB': 0, 'f: 100 GB': 1, 'd: 10 GB': 2, 'g: 150 GB': 3, 'h: 200 GB': 4, 'i: 250 GB': 5, 'c: 1 GB': 6, 'j: 250+GB': 7, 'all_other': 8, 'b: 50K': 9}, 'mdu_flg': {'N': 0, 'Y': 1}, 'mover': {'NONE': 0}, 'music_choice_m1': {0: 0}, 'music_choice_m2': {0: 0}, 'new_video_tier': {'RESIDENTIAL BULK': 0, 'iO GOLD': 1, 'iO SILVER': 2, 'OPTIMUM SELECT': 3, 'all_other': 4, 'iO PREFERRED +': 5, 'BASIC +': 6, 'iO VALUE': 7, 'iO VALUE + MINI PAY': 8, 'iO ECONOMY': 9, 'iO VALUE +': 10, 'BASIC ONLY': 11}, 'new_video_tier2': {'RESIDENTIAL BULK': 0, 'iO GOLD': 1, 'iO SILVER': 2, 'OPTIMUM SELECT': 3, 'all_other': 4, 'iO PREFERRED +': 5, 'BASIC +': 6, 'iO VALUE': 7, 'iO VALUE + MINI PAY': 8, 'iO ECONOMY': 9, 'iO VALUE +': 10, 'BASIC ONLY': 11}, 'no_oolsvc_m1': {0: 0, 'all_other': 1}, 'no_oolsvc_m2': {0: 0, 'all_other': 1}, 'ont_wb12': {'N': 0, 'all_other': 1}, 'ont_wb24': {'N': 0, 'Y': 1}, 'ool4b_flag': {'N': 0}, 'ool_offer_desc_m1': {'TRIPLE PLAY SAVE - OOL - $39.99 - 36 MONTHS': 0, '$44.95 OOL/OV SAVE OFFER - 12 MONTHS': 1, 'Optimum Rewards': 2, 'TRIPLE PLAY SAVE - OOL - $44.99 - 12 MONTHS': 3, '$49.99 OOL/OV SAVE- 12 MONTHS': 4, 'No OOL Offer': 5, 'TRIPLE PLAY SAVE - OOL -$39.95': 6, 'TRIPLE PLAY SAVE - OOL - $44.95  STEP UP - 12 MONTHS': 7, 'TRIPLE PLAY SAVE - OOL - $34.95': 8, 'TRIPLE PLAY SAVE - OOL - $34.99 - 24 MONTHS': 9, 'TRIPLE PLAY SAVE - OOL - $39.99 - 24 MONTHS': 10, 'TRIPLE PLAY SAVE - OOL - $44.99 - 24 MONTHS': 11, 'all_other': 12, '$39.99 SAVE OFFER - 12 MONTHS': 13, '$44.99 OOL/OV SAVE OFFER - 12 MONTHS': 14, 'TRIPLE PLAY - OOL - STEP UP(2) - $44.95 - 12 MONTHS': 15, 'TRIPLE PLAY - OOL - $39.95 - 36 MONTHS': 16, 'TRIPLE PLAY - OOL - $39.95 STEP UP - 12 MONTHS': 17, 'TRIPLE PLAY - OOL - $34.95 - 36 MONTHS': 18, 'TRIPLE PLAY - OOL - STEP UP(2) - $39.95 - 12 MONTHS': 19, 'TRIPLE PLAY - OOL - STEP UP(1) - $39.95 - 12 MONTHS': 20}, 'ool_offer_desc_m2': {'$44.95 OOL/OV SAVE OFFER - 12 MONTHS': 0, 'Optimum Rewards': 1, 'TRIPLE PLAY SAVE - OOL - $44.99 - 12 MONTHS': 2, '$49.99 OOL/OV SAVE- 12 MONTHS': 3, 'No OOL Offer': 4, 'TRIPLE PLAY SAVE - OOL - $44.95  STEP UP - 12 MONTHS': 5, 'TRIPLE PLAY SAVE - OOL -$39.95': 6, 'TRIPLE PLAY SAVE - OOL - $34.99 - 24 MONTHS': 7, 'TRIPLE PLAY SAVE - OOL - $34.95': 8, 'TRIPLE PLAY UPGRADE - OOL - $39.95 - 12 MONTHS': 9, 'TRIPLE PLAY SAVE - OOL - $44.99 - 24 MONTHS': 10, 'all_other': 11, '$39.99 SAVE OFFER - 12 MONTHS': 12, '$44.99 OOL/OV SAVE OFFER - 12 MONTHS': 13, 'TRIPLE PLAY - OOL - STEP UP(2) - $44.95 - 12 MONTHS': 14, 'TRIPLE PLAY - OOL - $39.95 - 36 MONTHS': 15, 'TRIPLE PLAY - OOL - $39.95 STEP UP - 12 MONTHS': 16, 'TRIPLE PLAY - OOL - $34.95 - 36 MONTHS': 17, 'TRIPLE PLAY - OOL - STEP UP(2) - $39.95 - 12 MONTHS': 18, '$39.95 SAVE OFFER (BASIC CUSTOMERS) - 12 MONTHS': 19, 'TRIPLE PLAY - OOL - STEP UP(1) - $39.95 - 12 MONTHS': 20}, 'ool_offer_desc_m3': {'$44.95 OOL/OV SAVE OFFER - 12 MONTHS': 0, 'Optimum Rewards': 1, 'No OOL Offer': 2, 'TRIPLE PLAY SAVE - OOL -$39.95': 3, 'TRIPLE PLAY SAVE - OOL - $44.95  STEP UP - 12 MONTHS': 4, 'TRIPLE PLAY - OOL - STEP UP(2) - $49.95 - 12 MONTHS': 5, 'TRIPLE PLAY SAVE - OOL - $34.95': 6, 'TRIPLE PLAY SAVE - OOL - $34.99 - 24 MONTHS': 7, 'TRIPLE PLAY UPGRADE - OOL - $39.95 - 12 MONTHS': 8, 'TRIPLE PLAY SAVE - OOL - $44.99 - 24 MONTHS': 9, 'all_other': 10, 'TRIPLE PLAY - OOL - STEP UP(2) - $44.95 - 12 MONTHS': 11, '$44.99 OOL/OV SAVE OFFER - 12 MONTHS': 12, 'TRIPLE PLAY - OOL - $34.95 - 24 MONTHS': 13, 'TRIPLE PLAY - OOL - $39.95 - 36 MONTHS': 14, 'TRIPLE PLAY - OOL - $39.95 STEP UP - 12 MONTHS': 15, 'TRIPLE PLAY - OOL - STEP UP(1) - $44.95 - 12 MONTHS': 16, 'TRIPLE PLAY - OOL - $34.95 - 36 MONTHS': 17, 'TRIPLE PLAY - OOL - STEP UP(2) - $39.95 - 12 MONTHS': 18, '$39.95 SAVE OFFER (BASIC CUSTOMERS) - 12 MONTHS': 19, 'TRIPLE PLAY - OOL - STEP UP(1) - $39.95 - 12 MONTHS': 20}, 'ool_offer_desc_m4': {'$44.95 OOL/OV SAVE OFFER - 12 MONTHS': 0, 'Optimum Rewards': 1, 'No OOL Offer': 2, 'TRIPLE PLAY SAVE - OOL -$39.95': 3, 'TRIPLE PLAY SAVE - OOL - $44.95  STEP UP - 12 MONTHS': 4, 'TRIPLE PLAY - OOL - STEP UP(2) - $49.95 - 12 MONTHS': 5, 'TRIPLE PLAY SAVE - OOL - $34.95': 6, 'TRIPLE PLAY SAVE - OOL - $34.99 - 24 MONTHS': 7, 'TRIPLE PLAY UPGRADE - OOL - $39.95 - 12 MONTHS': 8, 'TRIPLE PLAY SAVE - OOL - $44.99 - 24 MONTHS': 9, 'all_other': 10, 'TRIPLE PLAY - OOL - STEP UP(2) - $44.95 - 12 MONTHS': 11, '$44.99 OOL/OV SAVE OFFER - 12 MONTHS': 12, 'TRIPLE PLAY - OOL - $39.95 STEP UP - 12 MONTHS': 13, 'TRIPLE PLAY - OOL - STEP UP(1) - $44.95 - 12 MONTHS': 14, 'TRIPLE PLAY - OOL - $39.95 - 36 MONTHS': 15, 'TRIPLE PLAY - OOL - $34.95 - 24 MONTHS': 16, 'TRIPLE PLAY - OOL - $34.95 - 36 MONTHS': 17, 'TRIPLE PLAY - OOL - STEP UP(2) - $39.95 - 12 MONTHS': 18, '$39.95 SAVE OFFER (BASIC CUSTOMERS) - 12 MONTHS': 19, 'TRIPLE PLAY - OOL - STEP UP(1) - $39.95 - 12 MONTHS': 20}, 'ool_offer_group_v2_desc_m1': {'Optimum Rewards': 0, 'No Offer': 1, 'Triple Play-24': 2, 'Save Offer-12': 3, 'Webmail': 4, 'Triple Play-12': 5, 'Triple Play-36': 6, 'all_other': 7}, 'ool_offer_group_v2_desc_m2': {'Optimum Rewards': 0, 'No Offer': 1, 'Triple Play-24': 2, 'Webmail': 3, 'Save Offer-12': 4, 'Triple Play-12': 5, 'Triple Play-36': 6, 'Video/OOL Promo-24': 7, 'all_other': 8}, 'ool_offer_group_v2_desc_m3': {'Optimum Rewards': 0, 'No Offer': 1, 'Triple Play-24': 2, 'Triple Play-12': 3, 'Save Offer-12': 4, 'Triple Play-36': 5, 'all_other': 6, 'Video/OOL Promo-24': 7}, 'ool_offer_group_v2_desc_m4': {'Optimum Rewards': 0, 'No Offer': 1, 'Triple Play-12': 2, 'Triple Play-24': 3, 'Save Offer-12': 4, 'Triple Play-36': 5, 'Video/OOL Promo-24': 6, 'all_other': 7}, 'ool_offer_stepup_flag_m1': {0.0: 0, 1.0: 1}, 'ool_offer_stepup_flag_m2': {0.0: 0, 1.0: 1}, 'ool_offer_stepup_flag_m3': {0.0: 0, 1.0: 1}, 'ool_offer_stepup_flag_m4': {0.0: 0, 1.0: 1}, 'ooldown_m1': {0.0: 0}, 'ooldown_m2': {'all_other': 0, 0.0: 1}, 'ooldown_m3': {0.0: 0, 'all_other': 1}, 'oolpromo_rng_m1': {'x: None': 0, 'g: 22+': 1, 'c: 6-11': 2, 'd: 12-13': 3, 'f: 16-21': 4, 'e: 14-15': 5, 'b: 3-5': 6, 'a: 0-2': 7}, 'oolpromo_rng_m2': {'x: None': 0, 'd: 12-13': 1, 'g: 22+': 2, 'c: 6-11': 3, 'f: 16-21': 4, 'e: 14-15': 5, 'a: 0-2': 6, 'b: 3-5': 7}, 'oolpromo_rng_m3': {'x: None': 0, 'd: 12-13': 1, 'g: 22+': 2, 'c: 6-11': 3, 'all_other': 4, 'a: 0-2': 5, 'f: 16-21': 6, 'b: 3-5': 7}, 'oolpromo_rng_m4': {'x: None': 0, 'all_other': 1, 'd: 12-13': 2, 'a: 0-2': 3, 'g: 22+': 4, 'f: 16-21': 5, 'c: 6-11': 6, 'b: 3-5': 7}, 'ordisc_m1': {1: 0, 0: 1}, 'ordisc_m2': {1.0: 0, 0.0: 1}, 'ordisc_m3': {1.0: 0, 0.0: 1}, 'ordisc_m4': {1.0: 0, 0.0: 1}, 'outage_oolsub_m1': {'N': 0, 'all_other': 1}, 'outage_ovsub_m1': {'N': 0, 'all_other': 1}, 'outage_vidsub_m1': {'all_other': 0, 'N': 1}, 'ov4b_flag': {'N': 0}, 'ov_offer_desc_m1': {'TRIPLE PLAY SAVE - OV - $10.00 - 36 MONTHS': 0, '$19.95 OOL/OV SAVE OFFER - 12 MONTHS': 1, 'TRIPLE PLAY SAVE - OV - $10.00 - 12 MONTHS': 2, 'Optimum Rewards': 3, 'TRIPLE PLAY SAVE - OV - $29.95': 4, 'No OV Offer': 5, 'TRIPLE PLAY SAVE - OV - $34.95 - STEP UP - 12 MONTHS': 6, 'TRIPLE PLAY SAVE - OV - $14.95': 7, 'TRIPLE PLAY UPGRADE - OV - $29.95 - STEP UP - 12 MONTHS': 8, 'TRIPLE PLAY UPGRADE - OV - $14.95': 9, '$10.00 OOL/OV SAVE OFFER - 12 MONTHS': 10, 'TRIPLE PLAY SAVE - OV - $10.00 - 24 MONTHS': 11, 'TRIPLE PLAY - OV - $14.95 - 24 MONTHS': 12, '$29.95 - Save the Disconnect - 12 Months': 13, 'TRIPLE PLAY - OV - STEP UP(2) - $19.95 - 12 MONTHS': 14, 'all_other': 15, 'TRIPLE PLAY - OV - STEP UP': 16, 'TRIPLE PLAY - OV - $14.95 - 36 MONTHS': 17, 'Full Price': 18, 'TRIPLE PLAY OV - $10 - 36 MONTHS': 19, 'TRIPLE PLAY - OV - STEP UP(1) - $19.95 - 12 MONTHS': 20}, 'ov_offer_desc_m2': {'TRIPLE PLAY SAVE - OV - $10.00 - 36 MONTHS': 0, '$19.95 OOL/OV SAVE OFFER - 12 MONTHS': 1, 'Optimum Rewards': 2, 'TRIPLE PLAY SAVE - OV - $10.00 - 12 MONTHS': 3, 'TRIPLE PLAY SAVE - OV - $29.95': 4, 'No OV Offer': 5, 'TRIPLE PLAY SAVE - OV - $34.95 - STEP UP - 12 MONTHS': 6, 'TRIPLE PLAY UPGRADE - OV - $29.95 - STEP UP - 12 MONTHS': 7, 'TRIPLE PLAY SAVE - OV - $14.95': 8, 'TRIPLE PLAY UPGRADE - OV - $14.95': 9, '$10.00 OOL/OV SAVE OFFER - 12 MONTHS': 10, 'TRIPLE PLAY SAVE - OV - $10.00 - 24 MONTHS': 11, 'TRIPLE PLAY - OV - $14.95 - 24 MONTHS': 12, '$29.95 - Save the Disconnect - 12 Months': 13, 'TRIPLE PLAY - OV - STEP UP(2) - $19.95 - 12 MONTHS': 14, 'TRIPLE PLAY - OV - STEP UP': 15, 'all_other': 16, 'TRIPLE PLAY - OV - $14.95 - 36 MONTHS': 17, 'Full Price': 18, 'TRIPLE PLAY OV - $10 - 36 MONTHS': 19, 'TRIPLE PLAY - OV - STEP UP(1) - $19.95 - 12 MONTHS': 20}, 'ov_offer_desc_m3': {'$19.95 OOL/OV SAVE OFFER - 12 MONTHS': 0, 'TRIPLE PLAY SAVE - OV - $10.00 - 36 MONTHS': 1, 'Optimum Rewards': 2, 'TRIPLE PLAY SAVE - OV - $29.95': 3, 'TRIPLE PLAY SAVE - OV - $10.00 - 12 MONTHS': 4, 'No OV Offer': 5, 'TRIPLE PLAY SAVE - OV - $34.95 - STEP UP - 12 MONTHS': 6, 'TRIPLE PLAY SAVE - OV - $14.95': 7, 'TRIPLE PLAY UPGRADE - OV - $29.95 - STEP UP - 12 MONTHS': 8, 'TRIPLE PLAY UPGRADE - OV - $14.95': 9, 'TRIPLE PLAY SAVE - OV - $10.00 - 24 MONTHS': 10, '$10.00 OOL/OV SAVE OFFER - 12 MONTHS': 11, '$29.95 - Save the Disconnect - 12 Months': 12, 'TRIPLE PLAY - OV - $14.95 - 24 MONTHS': 13, 'TRIPLE PLAY - OV - STEP UP(2) - $19.95 - 12 MONTHS': 14, 'TRIPLE PLAY - OV - STEP UP': 15, 'all_other': 16, 'TRIPLE PLAY - OV - $14.95 - 36 MONTHS': 17, 'Full Price': 18, 'TRIPLE PLAY OV - $10 - 36 MONTHS': 19, 'TRIPLE PLAY - OV - STEP UP(1) - $19.95 - 12 MONTHS': 20}, 'ov_offer_desc_m4': {'$19.95 OOL/OV SAVE OFFER - 12 MONTHS': 0, 'TRIPLE PLAY SAVE - OV - $10.00 - 36 MONTHS': 1, 'Optimum Rewards': 2, 'TRIPLE PLAY SAVE - OV - $29.95': 3, 'No OV Offer': 4, 'TRIPLE PLAY SAVE - OV - $34.95 - STEP UP - 12 MONTHS': 5, 'TRIPLE PLAY SAVE - OV - $14.95': 6, 'TRIPLE PLAY UPGRADE - OV - $14.95': 7, 'TRIPLE PLAY UPGRADE - OV - $29.95 - STEP UP - 12 MONTHS': 8, 'TRIPLE PLAY SAVE - OV - $10.00 - 24 MONTHS': 9, '$29.95 - Save the Disconnect - 12 Months': 10, '$10.00 OOL/OV SAVE OFFER - 12 MONTHS': 11, 'TRIPLE PLAY - OV - STEP UP(2) - $19.95 - 12 MONTHS': 12, 'TRIPLE PLAY - OV - $14.95 - 24 MONTHS': 13, 'TRIPLE PLAY - OV - STEP UP': 14, 'all_other': 15, 'TRIPLE PLAY - OV - $14.95 - 36 MONTHS': 16, 'Full Price': 17, 'TRIPLE PLAY - OV - STEP UP(1) - $19.95 - 12 MONTHS': 18, 'TRIPLE PLAY OV - $10 - 36 MONTHS': 19}, 'ov_offer_group_v2_desc_m1': {'Optimum Rewards': 0, 'Save Offer-12': 1, 'Save Offer-24': 2, 'No Offer': 3, 'Triple Play-24': 4, 'OV - Seasonal': 5, 'Triple Play-12': 6, 'Triple Play-36': 7, 'all_other': 8}, 'ov_offer_group_v2_desc_m2': {'Optimum Rewards': 0, 'Save Offer-12': 1, 'No Offer': 2, 'Save Offer-24': 3, 'OV - Seasonal': 4, 'Triple Play-24': 5, 'Triple Play-12': 6, 'Triple Play-36': 7, 'all_other': 8}, 'ov_offer_group_v2_desc_m3': {'Optimum Rewards': 0, 'Save Offer-12': 1, 'No Offer': 2, 'Save Offer-24': 3, 'Triple Play-12': 4, 'Triple Play-24': 5, 'Triple Play-36': 6, 'all_other': 7}, 'ov_offer_group_v2_desc_m4': {'Optimum Rewards': 0, 'No Offer': 1, 'Save Offer-12': 2, 'Save Offer-24': 3, 'Triple Play-12': 4, 'Triple Play-24': 5, 'Triple Play-36': 6, 'all_other': 7}, 'ov_offer_stepup_flag_m1': {0.0: 0, 1.0: 1}, 'ov_offer_stepup_flag_m2': {0.0: 0, 1.0: 1}, 'ov_offer_stepup_flag_m3': {0.0: 0, 1.0: 1}, 'ov_offer_stepup_flag_m4': {0.0: 0, 1.0: 1}, 'ovpromo_rng_m1': {'x: None': 0, 'g: 22+': 1, 'c: 6-11': 2, 'd: 12-13': 3, 'f: 16-21': 4, 'e: 14-15': 5, 'b: 3-5': 6, 'a: 0-2': 7}, 'ovpromo_rng_m2': {'x: None': 0, 'd: 12-13': 1, 'g: 22+': 2, 'c: 6-11': 3, 'f: 16-21': 4, 'e: 14-15': 5, 'a: 0-2': 6, 'b: 3-5': 7}, 'ovpromo_rng_m3': {'x: None': 0, 'd: 12-13': 1, 'c: 6-11': 2, 'g: 22+': 3, 'a: 0-2': 4, 'all_other': 5, 'f: 16-21': 6, 'b: 3-5': 7}, 'ovpromo_rng_m4': {'x: None': 0, 'all_other': 1, 'd: 12-13': 2, 'a: 0-2': 3, 'g: 22+': 4, 'c: 6-11': 5, 'f: 16-21': 6, 'b: 3-5': 7}, 'ovwc_m1': {0: 0, 1: 1}, 'ovwc_m2': {0.0: 0, 1.0: 1}, 'ovwc_m3': {0.0: 0, 1.0: 1}, 'ovwc_m4': {0.0: 0, 1.0: 1}, 'pia_corp': {'N': 0, 'Y': 1}, 'ppvu_sub_m2': {'all_other': 0, 'N': 1}, 'ppvu_sub_m3': {'all_other': 0, 'N': 1}, 'ppvu_sub_m4': {'all_other': 0, 'N': 1}, 'prgm_africa_m1': {0.0: 0, 'all_other': 1}, 'prgm_africa_m2': {0.0: 0, 'all_other': 1}, 'prgm_africa_m3': {0.0: 0, 'all_other': 1}, 'prgm_africa_m4': {0.0: 0, 'all_other': 1}, 'prgm_anyintl_m1': {0.0: 0, 1.0: 1}, 'prgm_anyintl_m2': {0.0: 0, 1.0: 1}, 'prgm_anyintl_m3': {0.0: 0, 1.0: 1}, 'prgm_anyintl_m4': {0.0: 0, 1.0: 1}, 'prgm_arabic_m1': {0.0: 0, 'all_other': 1}, 'prgm_arabic_m2': {0.0: 0, 'all_other': 1}, 'prgm_arabic_m3': {0.0: 0, 'all_other': 1}, 'prgm_arabic_m4': {0.0: 0, 'all_other': 1}, 'prgm_brazilian_m1': {0.0: 0, 'all_other': 1}, 'prgm_brazilian_m2': {0.0: 0, 'all_other': 1}, 'prgm_brazilian_m3': {0.0: 0, 'all_other': 1}, 'prgm_brazilian_m4': {0.0: 0, 'all_other': 1}, 'prgm_caribbean_m1': {'all_other': 0, 0.0: 1}, 'prgm_caribbean_m2': {'all_other': 0, 0.0: 1}, 'prgm_caribbean_m3': {'all_other': 0, 0.0: 1}, 'prgm_caribbean_m4': {'all_other': 0, 0.0: 1}, 'prgm_chinese_m1': {0.0: 0, 'all_other': 1}, 'prgm_chinese_m2': {0.0: 0, 'all_other': 1}, 'prgm_chinese_m3': {0.0: 0, 'all_other': 1}, 'prgm_chinese_m4': {0.0: 0, 'all_other': 1}, 'prgm_filipino_m1': {0.0: 0, 'all_other': 1}, 'prgm_filipino_m2': {0.0: 0, 'all_other': 1}, 'prgm_filipino_m3': {0.0: 0, 'all_other': 1}, 'prgm_filipino_m4': {0.0: 0, 'all_other': 1}, 'prgm_french_m1': {'all_other': 0, 0.0: 1}, 'prgm_french_m2': {0.0: 0, 'all_other': 1}, 'prgm_french_m3': {'all_other': 0, 0.0: 1}, 'prgm_french_m4': {0.0: 0, 'all_other': 1}, 'prgm_german_m1': {0.0: 0, 'all_other': 1}, 'prgm_german_m2': {0.0: 0, 'all_other': 1}, 'prgm_german_m3': {0.0: 0, 'all_other': 1}, 'prgm_german_m4': {0.0: 0, 'all_other': 1}, 'prgm_greek_m1': {'all_other': 0, 0.0: 1}, 'prgm_greek_m2': {'all_other': 0, 0.0: 1}, 'prgm_greek_m3': {'all_other': 0, 0.0: 1}, 'prgm_greek_m4': {'all_other': 0, 0.0: 1}, 'prgm_israeli_m1': {0.0: 0, 'all_other': 1}, 'prgm_israeli_m2': {0.0: 0, 'all_other': 1}, 'prgm_israeli_m3': {0.0: 0, 'all_other': 1}, 'prgm_israeli_m4': {0.0: 0, 'all_other': 1}, 'prgm_italian_m1': {'all_other': 0, 0.0: 1}, 'prgm_italian_m2': {'all_other': 0, 0.0: 1}, 'prgm_italian_m3': {'all_other': 0, 0.0: 1}, 'prgm_italian_m4': {'all_other': 0, 0.0: 1}, 'prgm_japan_m1': {'all_other': 0, 0.0: 1}, 'prgm_japan_m2': {'all_other': 0, 0.0: 1}, 'prgm_japan_m3': {'all_other': 0, 0.0: 1}, 'prgm_japan_m4': {'all_other': 0, 0.0: 1}, 'prgm_korean_m1': {0.0: 0, 'all_other': 1}, 'prgm_korean_m2': {0.0: 0, 'all_other': 1}, 'prgm_korean_m3': {0.0: 0, 'all_other': 1}, 'prgm_korean_m4': {0.0: 0, 'all_other': 1}, 'prgm_oneworldsports_m1': {0.0: 0}, 'prgm_oneworldsports_m2': {0.0: 0}, 'prgm_oneworldsports_m3': {0.0: 0}, 'prgm_oneworldsports_m4': {0.0: 0}, 'prgm_polish_m1': {0.0: 0, 'all_other': 1}, 'prgm_polish_m2': {0.0: 0, 'all_other': 1}, 'prgm_polish_m3': {0.0: 0, 'all_other': 1}, 'prgm_polish_m4': {0.0: 0, 'all_other': 1}, 'prgm_portuguese_m1': {0.0: 0, 'all_other': 1}, 'prgm_portuguese_m2': {0.0: 0, 'all_other': 1}, 'prgm_portuguese_m3': {0.0: 0, 'all_other': 1}, 'prgm_portuguese_m4': {0.0: 0, 'all_other': 1}, 'prgm_punjabi_m1': {0.0: 0, 'all_other': 1}, 'prgm_punjabi_m2': {0.0: 0, 'all_other': 1}, 'prgm_punjabi_m3': {'all_other': 0, 0.0: 1}, 'prgm_punjabi_m4': {'all_other': 0, 0.0: 1}, 'prgm_russian_m1': {'all_other': 0, 0.0: 1}, 'prgm_russian_m2': {'all_other': 0, 0.0: 1}, 'prgm_russian_m3': {'all_other': 0, 0.0: 1}, 'prgm_russian_m4': {'all_other': 0, 0.0: 1}, 'prgm_sasian_m1': {0.0: 0, 'all_other': 1}, 'prgm_sasian_m2': {0.0: 0, 'all_other': 1}, 'prgm_sasian_m3': {0.0: 0, 'all_other': 1}, 'prgm_sasian_m4': {0.0: 0, 'all_other': 1}, 'prgm_spanish_m1': {0.0: 0, 1.0: 1}, 'prgm_spanish_m2': {0.0: 0, 1.0: 1}, 'prgm_spanish_m3': {0.0: 0, 1.0: 1}, 'prgm_spanish_m4': {0.0: 0, 1.0: 1}, 'product_ool_tier_map_m1': {'all_other': 0, 'Med': 1, 'High': 2, 'Low': 3}, 'product_ool_tier_map_m2': {'Med': 0, 'all_other': 1, 'High': 2, 'Low': 3}, 'product_ool_tier_map_m3': {'Med': 0, 'all_other': 1, 'High': 2, 'Low': 3}, 'product_ool_tier_map_m4': {'all_other': 0, 'Med': 1, 'High': 2, 'Low': 3}, 'product_video_tier_map_m1': {'all_other': 0, 'Other': 1, 'Premiere/Silver/Gold': 2, 'Preferred/Select': 3, 'Value/Core': 4, 'Basic/Economy': 5}, 'product_video_tier_map_m2': {'all_other': 0, 'Other': 1, 'Premiere/Silver/Gold': 2, 'Preferred/Select': 3, 'Value/Core': 4, 'Basic/Economy': 5}, 'product_video_tier_map_m3': {'all_other': 0, 'Other': 1, 'Premiere/Silver/Gold': 2, 'Preferred/Select': 3, 'Value/Core': 4, 'Basic/Economy': 5}, 'product_video_tier_map_m4': {'all_other': 0, 'Other': 1, 'Premiere/Silver/Gold': 2, 'Preferred/Select': 3, 'Value/Core': 4, 'Basic/Economy': 5}, 'products': {'3: Video/OOL/OV': 0, '2: Video/OOL': 1}, 'range_extend_m1': {0: 0}, 'range_extend_m2': {0: 0}, 'renter': {'U': 0, 'Y': 1}, 'restarttengrp': {'I:61+': 0, 'all_other': 1, 'F:15-24': 2, 'H:31-60': 3, 'G:25-30': 4, 'E:13-14': 5}, 'revenue_grp_m2': {'> $275': 0, '$250-$275': 1, '$225-$250': 2, 'all_other': 3, '$200-$225': 4, '$175-$200': 5, '< $25': 6, '$150-$175': 7, '$100-$125': 8, '$75-$100': 9, '$125-$150': 10, '$50-$75': 11}, 'rewindbuf_chrg_m1': {0: 0}, 'rewindbuf_chrg_m2': {'all_other': 0, 0: 1}, 'rewindbuf_nonchrg_m1': {0: 0, 1: 1}, 'rewindbuf_nonchrg_m2': {0: 0, 1: 1}, 'roll_off_m1': {'N': 0, 'Y': 1}, 'roll_off_m2': {'N': 0, 'Y': 1}, 'roll_off_m3': {'N': 0, 'Y': 1}, 'roll_off_m4': {'N': 0, 'Y': 1}, 'rsdvr_160free_m1': {0: 0}, 'rsdvr_160free_m2': {0: 0}, 'rsdvr_160pay_m1': {0: 0}, 'rsdvr_160pay_m2': {0: 0}, 'rsdvr_160promo_m1': {0: 0}, 'rsdvr_160promo_m2': {0: 0}, 'rsdvr_500free_m1': {'all_other': 0, 0: 1}, 'rsdvr_500free_m2': {'all_other': 0, 0: 1}, 'rsdvr_500pay_m1': {1.0: 0, 0.0: 1}, 'rsdvr_500pay_m2': {1: 0, 0: 1}, 'rsdvr_500promo_m1': {0: 0, 'all_other': 1}, 'rsdvr_500promo_m2': {0: 0, 'all_other': 1}, 'rsdvr_orig_m1': {0: 0, 1: 1}, 'rsdvr_orig_m2': {0: 0, 1: 1}, 'rsdvr_other_m1': {1: 0, 0: 1}, 'rsdvr_other_m2': {1: 0, 0: 1}, 'rsdvr_plus_12m_hyb_m1': {'all_other': 0, 0: 1}, 'rsdvr_plus_12m_hyb_m2': {'all_other': 0, 0: 1}, 'rsdvr_plus_12m_m1': {0: 0, 'all_other': 1}, 'rsdvr_plus_12m_m2': {0: 0, 'all_other': 1}, 'rsdvr_plus_24m_m1': {0: 0, 1: 1}, 'rsdvr_plus_24m_m2': {0: 0, 1: 1}, 'rsdvr_plus_empl_m1': {'all_other': 0, 0: 1}, 'rsdvr_plus_empl_m2': {'all_other': 0, 0: 1}, 'rsdvr_plus_hybrid_m1': {'all_other': 0, 0: 1}, 'rsdvr_plus_hybrid_m2': {'all_other': 0, 0: 1}, 'rsdvr_plus_m1': {0: 0, 1: 1}, 'rsdvr_plus_m2': {0: 0, 1: 1}, 'rsdvr_plus_pay_m1': {0: 0}, 'rsdvr_plus_pay_m2': {0: 0, 1: 1}, 'rsdvr_plus_save12m_m1': {0: 0, 'all_other': 1}, 'rsdvr_plus_save12m_m2': {0: 0, 'all_other': 1}, 'rsdvr_plus_upg_promo_m1': {'all_other': 0, 0: 1}, 'rsdvr_plus_upg_promo_m2': {'all_other': 0, 0: 1}, 'samsung_m1rng': {'D:3+': 0, 'A:0': 1, 'C:2': 2, 'B:1': 3}, 'samsung_m2rng': {'D:3+': 0, 'A:0': 1, 'C:2': 2, 'B:1': 3}, 'samsungsub_m1': {'N': 0, 'Y': 1}, 'samsungsub_m2': {'N': 0, 'Y': 1}, 'samsungsub_m3': {'N': 0, 'Y': 1}, 'saprodc': {'d: Video/OOL/OV': 0, 'c: Video/OOL': 1}, 'saprodp': {'d: Video/OOL/OV': 0, 'c: Video/OOL': 1, 'all_other': 2}, 'sho_svod': {'NONE': 0, 'all_other': 1, 'FREE': 2}, 'speed_m1': {'OPTIMUM 400': 0, 'OPTIMUM 300': 1, 'OPTIMUM 100': 2, 'OPTIMUM 60': 3, 'OPTIMUM 200': 4, 'all_other': 5, 'OPTIMUM 10': 6, 'OOL': 7}, 'speed_m2': {'OPTIMUM 300': 0, 'OPTIMUM 60': 1, 'OPTIMUM 100': 2, 'all_other': 3, 'OPTIMUM 200': 4, 'OPTIMUM 10': 5, 'OOL': 6}, 'speed_m3': {'OPTIMUM 300': 0, 'OPTIMUM 60': 1, 'OPTIMUM 100': 2, 'all_other': 3, 'OPTIMUM 200': 4, 'OPTIMUM 10': 5, 'OOL': 6}, 'speed_m4': {'OPTIMUM 300': 0, 'all_other': 1, 'OPTIMUM 60': 2, 'OPTIMUM 100': 3, 'OPTIMUM 200': 4, 'OPTIMUM 10': 5, 'OOL': 6}, 'static_ip_m1': {'all_other': 0, 0: 1}, 'static_ip_m2': {'all_other': 0, 0: 1}, 'stz_enc_svod': {'all_other': 0, 'FREE': 1, 'NONE': 2}, 'svodu_sub_m2': {'Y': 0, 'N': 1}, 'svodu_sub_m3': {'Y': 0, 'N': 1}, 'svodu_sub_m4': {'Y': 0, 'N': 1}, 'tollfree_m1': {0: 0}, 'tollfree_m2': {0: 0}, 'trump': {'N': 0, 'all_other': 1}, 'tsr_calls_m0': {'N': 0, 'Y': 1}, 'tsr_calls_m1': {'Y': 0, 'N': 1}, 'tsr_calls_m2': {'Y': 0, 'N': 1}, 'tsr_calls_m3': {'Y': 0, 'N': 1}, 'tsr_calls_m4': {'Y': 0, 'N': 1}, 'tsr_calls_m5': {'Y': 0, 'N': 1}, 'tsr_calls_m6': {'Y': 0, 'N': 1}, 'urban2': {'N': 0, 'Y': 1}, 'uversezip': {'Y': 0, 'N': 1}, 'viddown_m1': {0.0: 0}, 'viddown_m2': {'all_other': 0, 0.0: 1}, 'viddown_m3': {0.0: 0, 'all_other': 1}, 'video_offer_desc_m1': {'$75.05 TRIPLE PLAY SAVE (IO SILVER/OOL/OV) - 12 MONTHS': 0, 'OPTIMUM REWARDS': 1, 'SEASONAL - BASIC - $15.00': 2, '$55.05 TRIPLE PLAY SAVE (IO PREFERRED/OOL/OV - $34.95) STEP UP - 12 MONTHS': 3, '$55.05 TRIPLE PLAY SAVE (IO PREFERRED/OOL/OV) - 12 MONTHS': 4, 'No Video Offer': 5, 'all_other': 6, '$35.00 TRIPLE PLAY SAVE (IO VALUE/OOL/OV) - 24 MONTHS': 7, '$65.00 TRIPLE PLAY (IO SILVER/OOL/OV) - 36 MONTHS': 8, '$45.05 TRIPLE PLAY (IO PREFERRED/OOL/OV) - 36 MONTHS': 9, '$40.05 TRIPLE PLAY (IO VALUE/OOL/OV)  - 36 MONTHS': 10, '$50.00 TRIPLE PLAY 12M (IO PREFERRED/OOL/OV) STEP UP - 12 MONTHS': 11, '$35 TRIPLE PLAY (IO VALUE/OOL/OV) - 36 MONTHS': 12, '$40.05 TRIPLE PLAY (IO VALUE/OOL/OV) STEP UP(1) - 12 MONTHS': 13}, 'video_offer_desc_m2': {'$75.05 TRIPLE PLAY SAVE (IO SILVER/OOL/OV) - 12 MONTHS': 0, 'OPTIMUM REWARDS': 1, 'SEASONAL - BASIC - $15.00': 2, '$55.05 TRIPLE PLAY SAVE (IO PREFERRED/OOL/OV - $34.95) STEP UP - 12 MONTHS': 3, '$55.05 TRIPLE PLAY SAVE (IO PREFERRED/OOL/OV) - 12 MONTHS': 4, 'No Video Offer': 5, 'all_other': 6, '$35.00 TRIPLE PLAY SAVE (IO VALUE/OOL/OV) - 24 MONTHS': 7, '$65.00 TRIPLE PLAY (IO SILVER/OOL/OV) - 36 MONTHS': 8, '$45.05 TRIPLE PLAY (IO PREFERRED/OOL/OV) - 36 MONTHS': 9, '$40.05 TRIPLE PLAY (IO VALUE/OOL/OV)  - 36 MONTHS': 10, '$50.00 TRIPLE PLAY 12M (IO PREFERRED/OOL/OV) STEP UP - 12 MONTHS': 11, '$35 TRIPLE PLAY (IO VALUE/OOL/OV) - 36 MONTHS': 12, '$40.05 TRIPLE PLAY (IO VALUE/OOL/OV) STEP UP(1) - 12 MONTHS': 13}, 'video_offer_desc_m3': {'$75.05 TRIPLE PLAY SAVE (IO SILVER/OOL/OV) - 12 MONTHS': 0, 'OPTIMUM REWARDS': 1, '$55.05 TRIPLE PLAY SAVE (IO PREFERRED/OOL/OV) - 12 MONTHS': 2, 'No Video Offer': 3, 'all_other': 4, '$35.00 TRIPLE PLAY SAVE (IO VALUE/OOL/OV) - 24 MONTHS': 5, '$65.00 TRIPLE PLAY (IO SILVER/OOL/OV) - 36 MONTHS': 6, '$50.05 TRIPLE PLAY SAVE (IO VALUE/OOL/OV) - 12 MONTHS': 7, '$45.05 TRIPLE PLAY (IO PREFERRED/OOL/OV) - 36 MONTHS': 8, '$40.05 TRIPLE PLAY (IO VALUE/OOL/OV)  - 36 MONTHS': 9, '$50.00 TRIPLE PLAY 12M (IO PREFERRED/OOL/OV) STEP UP - 12 MONTHS': 10, '$35 TRIPLE PLAY (IO VALUE/OOL/OV) - 36 MONTHS': 11, '$40.05 TRIPLE PLAY (IO VALUE/OOL/OV) STEP UP(1) - 12 MONTHS': 12}, 'video_offer_desc_m4': {'$75.05 TRIPLE PLAY SAVE (IO SILVER/OOL/OV) - 12 MONTHS': 0, 'OPTIMUM REWARDS': 1, '$55.05 TRIPLE PLAY SAVE (IO PREFERRED/OOL/OV) - 12 MONTHS': 2, 'No Video Offer': 3, 'all_other': 4, '$35.00 TRIPLE PLAY SAVE (IO VALUE/OOL/OV) - 24 MONTHS': 5, '$50.05 TRIPLE PLAY SAVE (IO VALUE/OOL/OV) - 12 MONTHS': 6, '$65.00 TRIPLE PLAY (IO SILVER/OOL/OV) - 36 MONTHS': 7, '$45.05 TRIPLE PLAY (IO PREFERRED/OOL/OV) - 36 MONTHS': 8, '$40.05 TRIPLE PLAY (IO VALUE/OOL/OV)  - 36 MONTHS': 9, '$50.00 TRIPLE PLAY 12M (IO PREFERRED/OOL/OV) STEP UP - 12 MONTHS': 10, '$35 TRIPLE PLAY (IO VALUE/OOL/OV) - 36 MONTHS': 11, '$40.05 TRIPLE PLAY (IO VALUE/OOL/OV) STEP UP(1) - 12 MONTHS': 12}, 'video_offer_group_desc_m1': {'Optimum Rewards': 0, 'No Offer': 1, 'Seasonal': 2, 'Triple Play': 3, 'Video/OOL Promo': 4, 'all_other': 5}, 'video_offer_group_desc_m2': {'Optimum Rewards': 0, 'No Offer': 1, 'Seasonal': 2, 'Triple Play': 3, 'Video/OOL Promo': 4, 'all_other': 5}, 'video_offer_group_desc_m3': {'Optimum Rewards': 0, 'Seasonal': 1, 'No Offer': 2, 'Triple Play': 3, 'Video/OOL Promo': 4, 'all_other': 5}, 'video_offer_group_desc_m4': {'Optimum Rewards': 0, 'all_other': 1, 'No Offer': 2, 'Triple Play': 3, 'Video/OOL Promo': 4, 'Triple Winback': 5}, 'video_offer_months_m1': {999.0: 0, 0.0: 1, 24.0: 2, 36.0: 3, 12.0: 4, 'all_other': 5}, 'video_offer_months_m2': {999.0: 0, 0.0: 1, 24.0: 2, 36.0: 3, 12.0: 4, 'all_other': 5}, 'video_offer_months_m3': {999.0: 0, 0.0: 1, 24.0: 2, 12.0: 3, 36.0: 4, 'all_other': 5}, 'video_offer_months_m4': {999.0: 0, 0.0: 1, 12.0: 2, 24.0: 3, 36.0: 4, 'all_other': 5}, 'video_offer_stepup_flag_m1': {0.0: 0, 1.0: 1}, 'video_offer_stepup_flag_m2': {0.0: 0, 1.0: 1}, 'video_offer_stepup_flag_m3': {0.0: 0, 1.0: 1}, 'video_offer_stepup_flag_m4': {0.0: 0, 1.0: 1}, 'videopromo_rng_m1': {'x: None': 0, 'g: 22+': 1, 'c: 6-11': 2, 'd: 12-13': 3, 'f: 16-21': 4, 'e: 14-15': 5, 'b: 3-5': 6, 'a: 0-2': 7}, 'videopromo_rng_m2': {'x: None': 0, 'd: 12-13': 1, 'g: 22+': 2, 'c: 6-11': 3, 'f: 16-21': 4, 'e: 14-15': 5, 'a: 0-2': 6, 'b: 3-5': 7}, 'videopromo_rng_m3': {'x: None': 0, 'd: 12-13': 1, 'g: 22+': 2, 'a: 0-2': 3, 'all_other': 4, 'c: 6-11': 5, 'f: 16-21': 6, 'b: 3-5': 7}, 'videopromo_rng_m4': {'x: None': 0, 'all_other': 1, 'd: 12-13': 2, 'a: 0-2': 3, 'g: 22+': 4, 'f: 16-21': 5, 'c: 6-11': 6, 'b: 3-5': 7}, 'virtual_recep_m1': {0: 0}, 'virtual_recep_m2': {0: 0}, 'vodu_sub_m2': {'Y': 0, 'N': 1}, 'vodu_sub_m3': {'Y': 0, 'N': 1}, 'vodu_sub_m4': {'Y': 0, 'N': 1}, 'web_autopay_m1': {0.0: 0, 1.0: 1, 'all_other': 2}}\n"
     ]
    }
   ],
   "source": [
    "# https://stackoverflow.com/questions/11218477/how-can-i-use-pickle-to-save-a-dict\n",
    "\n",
    "CLUSTER_category_mapper = FE_Pipe.transformer_fitted[0].named_steps['ORDINAL'].category_mapper_\n",
    "# print(CLUSTER_category_mapper)\n",
    "\n",
    "with open('data_new/CLUSTER_category_mapper.pkl', 'wb') as handle:\n",
    "    pickle.dump(CLUSTER_category_mapper, handle, protocol=pickle.HIGHEST_PROTOCOL)\n",
    "\n",
    "# with open('data_new/CLUSTER_category_mapper.pkl', 'rb') as handle:\n",
    "#     b = pickle.load(handle)\n",
    "\n",
    "# print(CLUSTER_category_mapper == b)\n",
    "# print(b)"
   ]
  },
  {
   "cell_type": "code",
   "execution_count": 10,
   "metadata": {},
   "outputs": [
    {
     "name": "stdout",
     "output_type": "stream",
     "text": [
      "621\n",
      "477\n",
      "Index(['status', 'CAT_GRP_CALL_BILL-age_demos', 'CAT_GRP_CALL_BILL-archetype',\n",
      "       'CAT_GRP_CALL_BILL-ethnic', 'CAT_GRP_CALL_BILL-grp_call_csc',\n",
      "       'CAT_GRP_CALL_BILL-grp_call_csr', 'CAT_GRP_CALL_BILL-grp_call_tsr',\n",
      "       'CAT_GRP_CALL_BILL-grp_payment_25dollar',\n",
      "       'CAT_GRP_CALL_BILL-grp_payment_change_10dollar',\n",
      "       'CAT_GRP_CALL_BILL-grp_payment_change_5pct'],\n",
      "      dtype='object')\n"
     ]
    },
    {
     "data": {
      "text/plain": [
       "count    1099.0\n",
       "mean        0.0\n",
       "std         0.0\n",
       "min         0.0\n",
       "25%         0.0\n",
       "50%         0.0\n",
       "75%         0.0\n",
       "max         0.0\n",
       "dtype: float64"
      ]
     },
     "execution_count": 10,
     "metadata": {},
     "output_type": "execute_result"
    }
   ],
   "source": [
    "features_NUM = [fe for fe in df_train_FE.columns if 'NUM' in fe]\n",
    "features_CAT = [fe for fe in df_train_FE.columns if 'CAT' in fe]\n",
    "\n",
    "features_NUM.sort()\n",
    "features_CAT.sort()\n",
    "\n",
    "print(len(features_NUM))\n",
    "# print(features_NUM)\n",
    "\n",
    "print(len(features_CAT))\n",
    "# print(features_CAT)\n",
    "\n",
    "print(df_train_FE.columns[:10])\n",
    "df_train_FE.isnull().sum().describe()"
   ]
  }
 ],
 "metadata": {
  "kernelspec": {
   "display_name": "Python 3",
   "language": "python",
   "name": "python3"
  },
  "language_info": {
   "codemirror_mode": {
    "name": "ipython",
    "version": 3
   },
   "file_extension": ".py",
   "mimetype": "text/x-python",
   "name": "python",
   "nbconvert_exporter": "python",
   "pygments_lexer": "ipython3",
   "version": "3.7.1"
  }
 },
 "nbformat": 4,
 "nbformat_minor": 2
}
